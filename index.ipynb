{
 "cells": [
  {
   "cell_type": "markdown",
   "metadata": {},
   "source": [
    "# ABSTRACT"
   ]
  },
  {
   "cell_type": "code",
   "execution_count": null,
   "metadata": {},
   "outputs": [],
   "source": []
  },
  {
   "cell_type": "markdown",
   "metadata": {},
   "source": [
    "# OVERVIEW"
   ]
  },
  {
   "cell_type": "code",
   "execution_count": null,
   "metadata": {},
   "outputs": [],
   "source": []
  },
  {
   "cell_type": "markdown",
   "metadata": {},
   "source": [
    "# BUSINESS PROBLEM"
   ]
  },
  {
   "cell_type": "code",
   "execution_count": null,
   "metadata": {},
   "outputs": [],
   "source": []
  },
  {
   "cell_type": "markdown",
   "metadata": {},
   "source": [
    "# IMPORTS"
   ]
  },
  {
   "cell_type": "code",
   "execution_count": 1,
   "metadata": {
    "ExecuteTime": {
     "end_time": "2021-07-07T13:16:53.642276Z",
     "start_time": "2021-07-07T13:16:51.681106Z"
    }
   },
   "outputs": [],
   "source": [
    "import pandas as pd\n",
    "import matplotlib.pyplot as plt\n",
    "# from jupyterthemes import jtplot\n",
    "# jtplot.reset()\n",
    "# plt.style.use('ggplot')\n",
    "from jupyterthemes import jtplot\n",
    "jtplot.style(theme='monokai', context='notebook', ticks='True', grid='False')"
   ]
  },
  {
   "cell_type": "code",
   "execution_count": 2,
   "metadata": {
    "ExecuteTime": {
     "end_time": "2021-07-07T13:16:54.552324Z",
     "start_time": "2021-07-07T13:16:53.644279Z"
    }
   },
   "outputs": [],
   "source": [
    "from sklearn.model_selection import train_test_split"
   ]
  },
  {
   "cell_type": "code",
   "execution_count": 3,
   "metadata": {
    "ExecuteTime": {
     "end_time": "2021-07-07T13:16:54.567331Z",
     "start_time": "2021-07-07T13:16:54.554330Z"
    }
   },
   "outputs": [],
   "source": [
    "from sklearn.dummy import DummyClassifier"
   ]
  },
  {
   "cell_type": "code",
   "execution_count": 4,
   "metadata": {
    "ExecuteTime": {
     "end_time": "2021-07-07T13:16:54.583321Z",
     "start_time": "2021-07-07T13:16:54.570332Z"
    }
   },
   "outputs": [],
   "source": [
    "from sklearn import metrics"
   ]
  },
  {
   "cell_type": "code",
   "execution_count": 5,
   "metadata": {
    "ExecuteTime": {
     "end_time": "2021-07-07T13:16:54.598321Z",
     "start_time": "2021-07-07T13:16:54.584324Z"
    }
   },
   "outputs": [],
   "source": [
    "from sklearn.preprocessing import OneHotEncoder, MinMaxScaler, StandardScaler\n",
    "from sklearn.pipeline import Pipeline\n",
    "from sklearn.compose import ColumnTransformer"
   ]
  },
  {
   "cell_type": "code",
   "execution_count": 6,
   "metadata": {
    "ExecuteTime": {
     "end_time": "2021-07-07T13:16:54.803329Z",
     "start_time": "2021-07-07T13:16:54.601328Z"
    }
   },
   "outputs": [],
   "source": [
    "from sklearn.ensemble import RandomForestClassifier"
   ]
  },
  {
   "cell_type": "code",
   "execution_count": 7,
   "metadata": {
    "ExecuteTime": {
     "end_time": "2021-07-07T13:16:54.819325Z",
     "start_time": "2021-07-07T13:16:54.806331Z"
    }
   },
   "outputs": [],
   "source": [
    "from sklearn.preprocessing import LabelEncoder"
   ]
  },
  {
   "cell_type": "code",
   "execution_count": 8,
   "metadata": {
    "ExecuteTime": {
     "end_time": "2021-07-07T13:16:54.962322Z",
     "start_time": "2021-07-07T13:16:54.821326Z"
    }
   },
   "outputs": [],
   "source": [
    "from imblearn.over_sampling import SMOTENC"
   ]
  },
  {
   "cell_type": "code",
   "execution_count": 9,
   "metadata": {
    "ExecuteTime": {
     "end_time": "2021-07-07T13:16:55.992201Z",
     "start_time": "2021-07-07T13:16:55.312688Z"
    }
   },
   "outputs": [],
   "source": [
    "from sklearn.model_selection import GridSearchCV\n",
    "from xgboost import XGBClassifier, XGBRFClassifier"
   ]
  },
  {
   "cell_type": "code",
   "execution_count": 10,
   "metadata": {
    "ExecuteTime": {
     "end_time": "2021-07-07T13:16:56.536646Z",
     "start_time": "2021-07-07T13:16:56.529323Z"
    }
   },
   "outputs": [],
   "source": [
    "from sklearn.svm import SVC"
   ]
  },
  {
   "cell_type": "code",
   "execution_count": 11,
   "metadata": {
    "ExecuteTime": {
     "end_time": "2021-07-07T13:16:57.196590Z",
     "start_time": "2021-07-07T13:16:57.191578Z"
    }
   },
   "outputs": [],
   "source": [
    "from sklearn.preprocessing import OrdinalEncoder"
   ]
  },
  {
   "cell_type": "code",
   "execution_count": 12,
   "metadata": {
    "ExecuteTime": {
     "end_time": "2021-07-07T13:16:57.890344Z",
     "start_time": "2021-07-07T13:16:57.874088Z"
    }
   },
   "outputs": [],
   "source": [
    "from IPython.display import display, HTML, Markdown"
   ]
  },
  {
   "cell_type": "markdown",
   "metadata": {},
   "source": [
    "# OBTAIN"
   ]
  },
  {
   "cell_type": "code",
   "execution_count": 13,
   "metadata": {
    "ExecuteTime": {
     "end_time": "2021-07-07T13:17:00.217982Z",
     "start_time": "2021-07-07T13:17:00.172957Z"
    }
   },
   "outputs": [],
   "source": [
    "raw_df = pd.read_csv('./data/BankChurners.csv')"
   ]
  },
  {
   "cell_type": "code",
   "execution_count": 14,
   "metadata": {
    "ExecuteTime": {
     "end_time": "2021-07-07T13:17:00.564564Z",
     "start_time": "2021-07-07T13:17:00.507378Z"
    }
   },
   "outputs": [
    {
     "data": {
      "text/html": [
       "<div>\n",
       "<style scoped>\n",
       "    .dataframe tbody tr th:only-of-type {\n",
       "        vertical-align: middle;\n",
       "    }\n",
       "\n",
       "    .dataframe tbody tr th {\n",
       "        vertical-align: top;\n",
       "    }\n",
       "\n",
       "    .dataframe thead th {\n",
       "        text-align: right;\n",
       "    }\n",
       "</style>\n",
       "<table border=\"1\" class=\"dataframe\">\n",
       "  <thead>\n",
       "    <tr style=\"text-align: right;\">\n",
       "      <th></th>\n",
       "      <th>CLIENTNUM</th>\n",
       "      <th>Attrition_Flag</th>\n",
       "      <th>Customer_Age</th>\n",
       "      <th>Gender</th>\n",
       "      <th>Dependent_count</th>\n",
       "      <th>Education_Level</th>\n",
       "      <th>Marital_Status</th>\n",
       "      <th>Income_Category</th>\n",
       "      <th>Card_Category</th>\n",
       "      <th>Months_on_book</th>\n",
       "      <th>...</th>\n",
       "      <th>Credit_Limit</th>\n",
       "      <th>Total_Revolving_Bal</th>\n",
       "      <th>Avg_Open_To_Buy</th>\n",
       "      <th>Total_Amt_Chng_Q4_Q1</th>\n",
       "      <th>Total_Trans_Amt</th>\n",
       "      <th>Total_Trans_Ct</th>\n",
       "      <th>Total_Ct_Chng_Q4_Q1</th>\n",
       "      <th>Avg_Utilization_Ratio</th>\n",
       "      <th>Naive_Bayes_Classifier_Attrition_Flag_Card_Category_Contacts_Count_12_mon_Dependent_count_Education_Level_Months_Inactive_12_mon_1</th>\n",
       "      <th>Naive_Bayes_Classifier_Attrition_Flag_Card_Category_Contacts_Count_12_mon_Dependent_count_Education_Level_Months_Inactive_12_mon_2</th>\n",
       "    </tr>\n",
       "  </thead>\n",
       "  <tbody>\n",
       "    <tr>\n",
       "      <th>0</th>\n",
       "      <td>768805383</td>\n",
       "      <td>Existing Customer</td>\n",
       "      <td>45</td>\n",
       "      <td>M</td>\n",
       "      <td>3</td>\n",
       "      <td>High School</td>\n",
       "      <td>Married</td>\n",
       "      <td>$60K - $80K</td>\n",
       "      <td>Blue</td>\n",
       "      <td>39</td>\n",
       "      <td>...</td>\n",
       "      <td>12691.0</td>\n",
       "      <td>777</td>\n",
       "      <td>11914.0</td>\n",
       "      <td>1.335</td>\n",
       "      <td>1144</td>\n",
       "      <td>42</td>\n",
       "      <td>1.625</td>\n",
       "      <td>0.061</td>\n",
       "      <td>0.000093</td>\n",
       "      <td>0.999910</td>\n",
       "    </tr>\n",
       "    <tr>\n",
       "      <th>1</th>\n",
       "      <td>818770008</td>\n",
       "      <td>Existing Customer</td>\n",
       "      <td>49</td>\n",
       "      <td>F</td>\n",
       "      <td>5</td>\n",
       "      <td>Graduate</td>\n",
       "      <td>Single</td>\n",
       "      <td>Less than $40K</td>\n",
       "      <td>Blue</td>\n",
       "      <td>44</td>\n",
       "      <td>...</td>\n",
       "      <td>8256.0</td>\n",
       "      <td>864</td>\n",
       "      <td>7392.0</td>\n",
       "      <td>1.541</td>\n",
       "      <td>1291</td>\n",
       "      <td>33</td>\n",
       "      <td>3.714</td>\n",
       "      <td>0.105</td>\n",
       "      <td>0.000057</td>\n",
       "      <td>0.999940</td>\n",
       "    </tr>\n",
       "    <tr>\n",
       "      <th>2</th>\n",
       "      <td>713982108</td>\n",
       "      <td>Existing Customer</td>\n",
       "      <td>51</td>\n",
       "      <td>M</td>\n",
       "      <td>3</td>\n",
       "      <td>Graduate</td>\n",
       "      <td>Married</td>\n",
       "      <td>$80K - $120K</td>\n",
       "      <td>Blue</td>\n",
       "      <td>36</td>\n",
       "      <td>...</td>\n",
       "      <td>3418.0</td>\n",
       "      <td>0</td>\n",
       "      <td>3418.0</td>\n",
       "      <td>2.594</td>\n",
       "      <td>1887</td>\n",
       "      <td>20</td>\n",
       "      <td>2.333</td>\n",
       "      <td>0.000</td>\n",
       "      <td>0.000021</td>\n",
       "      <td>0.999980</td>\n",
       "    </tr>\n",
       "    <tr>\n",
       "      <th>3</th>\n",
       "      <td>769911858</td>\n",
       "      <td>Existing Customer</td>\n",
       "      <td>40</td>\n",
       "      <td>F</td>\n",
       "      <td>4</td>\n",
       "      <td>High School</td>\n",
       "      <td>Unknown</td>\n",
       "      <td>Less than $40K</td>\n",
       "      <td>Blue</td>\n",
       "      <td>34</td>\n",
       "      <td>...</td>\n",
       "      <td>3313.0</td>\n",
       "      <td>2517</td>\n",
       "      <td>796.0</td>\n",
       "      <td>1.405</td>\n",
       "      <td>1171</td>\n",
       "      <td>20</td>\n",
       "      <td>2.333</td>\n",
       "      <td>0.760</td>\n",
       "      <td>0.000134</td>\n",
       "      <td>0.999870</td>\n",
       "    </tr>\n",
       "    <tr>\n",
       "      <th>4</th>\n",
       "      <td>709106358</td>\n",
       "      <td>Existing Customer</td>\n",
       "      <td>40</td>\n",
       "      <td>M</td>\n",
       "      <td>3</td>\n",
       "      <td>Uneducated</td>\n",
       "      <td>Married</td>\n",
       "      <td>$60K - $80K</td>\n",
       "      <td>Blue</td>\n",
       "      <td>21</td>\n",
       "      <td>...</td>\n",
       "      <td>4716.0</td>\n",
       "      <td>0</td>\n",
       "      <td>4716.0</td>\n",
       "      <td>2.175</td>\n",
       "      <td>816</td>\n",
       "      <td>28</td>\n",
       "      <td>2.500</td>\n",
       "      <td>0.000</td>\n",
       "      <td>0.000022</td>\n",
       "      <td>0.999980</td>\n",
       "    </tr>\n",
       "    <tr>\n",
       "      <th>...</th>\n",
       "      <td>...</td>\n",
       "      <td>...</td>\n",
       "      <td>...</td>\n",
       "      <td>...</td>\n",
       "      <td>...</td>\n",
       "      <td>...</td>\n",
       "      <td>...</td>\n",
       "      <td>...</td>\n",
       "      <td>...</td>\n",
       "      <td>...</td>\n",
       "      <td>...</td>\n",
       "      <td>...</td>\n",
       "      <td>...</td>\n",
       "      <td>...</td>\n",
       "      <td>...</td>\n",
       "      <td>...</td>\n",
       "      <td>...</td>\n",
       "      <td>...</td>\n",
       "      <td>...</td>\n",
       "      <td>...</td>\n",
       "      <td>...</td>\n",
       "    </tr>\n",
       "    <tr>\n",
       "      <th>10122</th>\n",
       "      <td>772366833</td>\n",
       "      <td>Existing Customer</td>\n",
       "      <td>50</td>\n",
       "      <td>M</td>\n",
       "      <td>2</td>\n",
       "      <td>Graduate</td>\n",
       "      <td>Single</td>\n",
       "      <td>$40K - $60K</td>\n",
       "      <td>Blue</td>\n",
       "      <td>40</td>\n",
       "      <td>...</td>\n",
       "      <td>4003.0</td>\n",
       "      <td>1851</td>\n",
       "      <td>2152.0</td>\n",
       "      <td>0.703</td>\n",
       "      <td>15476</td>\n",
       "      <td>117</td>\n",
       "      <td>0.857</td>\n",
       "      <td>0.462</td>\n",
       "      <td>0.000191</td>\n",
       "      <td>0.999810</td>\n",
       "    </tr>\n",
       "    <tr>\n",
       "      <th>10123</th>\n",
       "      <td>710638233</td>\n",
       "      <td>Attrited Customer</td>\n",
       "      <td>41</td>\n",
       "      <td>M</td>\n",
       "      <td>2</td>\n",
       "      <td>Unknown</td>\n",
       "      <td>Divorced</td>\n",
       "      <td>$40K - $60K</td>\n",
       "      <td>Blue</td>\n",
       "      <td>25</td>\n",
       "      <td>...</td>\n",
       "      <td>4277.0</td>\n",
       "      <td>2186</td>\n",
       "      <td>2091.0</td>\n",
       "      <td>0.804</td>\n",
       "      <td>8764</td>\n",
       "      <td>69</td>\n",
       "      <td>0.683</td>\n",
       "      <td>0.511</td>\n",
       "      <td>0.995270</td>\n",
       "      <td>0.004729</td>\n",
       "    </tr>\n",
       "    <tr>\n",
       "      <th>10124</th>\n",
       "      <td>716506083</td>\n",
       "      <td>Attrited Customer</td>\n",
       "      <td>44</td>\n",
       "      <td>F</td>\n",
       "      <td>1</td>\n",
       "      <td>High School</td>\n",
       "      <td>Married</td>\n",
       "      <td>Less than $40K</td>\n",
       "      <td>Blue</td>\n",
       "      <td>36</td>\n",
       "      <td>...</td>\n",
       "      <td>5409.0</td>\n",
       "      <td>0</td>\n",
       "      <td>5409.0</td>\n",
       "      <td>0.819</td>\n",
       "      <td>10291</td>\n",
       "      <td>60</td>\n",
       "      <td>0.818</td>\n",
       "      <td>0.000</td>\n",
       "      <td>0.997880</td>\n",
       "      <td>0.002118</td>\n",
       "    </tr>\n",
       "    <tr>\n",
       "      <th>10125</th>\n",
       "      <td>717406983</td>\n",
       "      <td>Attrited Customer</td>\n",
       "      <td>30</td>\n",
       "      <td>M</td>\n",
       "      <td>2</td>\n",
       "      <td>Graduate</td>\n",
       "      <td>Unknown</td>\n",
       "      <td>$40K - $60K</td>\n",
       "      <td>Blue</td>\n",
       "      <td>36</td>\n",
       "      <td>...</td>\n",
       "      <td>5281.0</td>\n",
       "      <td>0</td>\n",
       "      <td>5281.0</td>\n",
       "      <td>0.535</td>\n",
       "      <td>8395</td>\n",
       "      <td>62</td>\n",
       "      <td>0.722</td>\n",
       "      <td>0.000</td>\n",
       "      <td>0.996710</td>\n",
       "      <td>0.003294</td>\n",
       "    </tr>\n",
       "    <tr>\n",
       "      <th>10126</th>\n",
       "      <td>714337233</td>\n",
       "      <td>Attrited Customer</td>\n",
       "      <td>43</td>\n",
       "      <td>F</td>\n",
       "      <td>2</td>\n",
       "      <td>Graduate</td>\n",
       "      <td>Married</td>\n",
       "      <td>Less than $40K</td>\n",
       "      <td>Silver</td>\n",
       "      <td>25</td>\n",
       "      <td>...</td>\n",
       "      <td>10388.0</td>\n",
       "      <td>1961</td>\n",
       "      <td>8427.0</td>\n",
       "      <td>0.703</td>\n",
       "      <td>10294</td>\n",
       "      <td>61</td>\n",
       "      <td>0.649</td>\n",
       "      <td>0.189</td>\n",
       "      <td>0.996620</td>\n",
       "      <td>0.003377</td>\n",
       "    </tr>\n",
       "  </tbody>\n",
       "</table>\n",
       "<p>10127 rows × 23 columns</p>\n",
       "</div>"
      ],
      "text/plain": [
       "       CLIENTNUM     Attrition_Flag  Customer_Age Gender  Dependent_count  \\\n",
       "0      768805383  Existing Customer            45      M                3   \n",
       "1      818770008  Existing Customer            49      F                5   \n",
       "2      713982108  Existing Customer            51      M                3   \n",
       "3      769911858  Existing Customer            40      F                4   \n",
       "4      709106358  Existing Customer            40      M                3   \n",
       "...          ...                ...           ...    ...              ...   \n",
       "10122  772366833  Existing Customer            50      M                2   \n",
       "10123  710638233  Attrited Customer            41      M                2   \n",
       "10124  716506083  Attrited Customer            44      F                1   \n",
       "10125  717406983  Attrited Customer            30      M                2   \n",
       "10126  714337233  Attrited Customer            43      F                2   \n",
       "\n",
       "      Education_Level Marital_Status Income_Category Card_Category  \\\n",
       "0         High School        Married     $60K - $80K          Blue   \n",
       "1            Graduate         Single  Less than $40K          Blue   \n",
       "2            Graduate        Married    $80K - $120K          Blue   \n",
       "3         High School        Unknown  Less than $40K          Blue   \n",
       "4          Uneducated        Married     $60K - $80K          Blue   \n",
       "...               ...            ...             ...           ...   \n",
       "10122        Graduate         Single     $40K - $60K          Blue   \n",
       "10123         Unknown       Divorced     $40K - $60K          Blue   \n",
       "10124     High School        Married  Less than $40K          Blue   \n",
       "10125        Graduate        Unknown     $40K - $60K          Blue   \n",
       "10126        Graduate        Married  Less than $40K        Silver   \n",
       "\n",
       "       Months_on_book  ...  Credit_Limit  Total_Revolving_Bal  \\\n",
       "0                  39  ...       12691.0                  777   \n",
       "1                  44  ...        8256.0                  864   \n",
       "2                  36  ...        3418.0                    0   \n",
       "3                  34  ...        3313.0                 2517   \n",
       "4                  21  ...        4716.0                    0   \n",
       "...               ...  ...           ...                  ...   \n",
       "10122              40  ...        4003.0                 1851   \n",
       "10123              25  ...        4277.0                 2186   \n",
       "10124              36  ...        5409.0                    0   \n",
       "10125              36  ...        5281.0                    0   \n",
       "10126              25  ...       10388.0                 1961   \n",
       "\n",
       "       Avg_Open_To_Buy  Total_Amt_Chng_Q4_Q1  Total_Trans_Amt  Total_Trans_Ct  \\\n",
       "0              11914.0                 1.335             1144              42   \n",
       "1               7392.0                 1.541             1291              33   \n",
       "2               3418.0                 2.594             1887              20   \n",
       "3                796.0                 1.405             1171              20   \n",
       "4               4716.0                 2.175              816              28   \n",
       "...                ...                   ...              ...             ...   \n",
       "10122           2152.0                 0.703            15476             117   \n",
       "10123           2091.0                 0.804             8764              69   \n",
       "10124           5409.0                 0.819            10291              60   \n",
       "10125           5281.0                 0.535             8395              62   \n",
       "10126           8427.0                 0.703            10294              61   \n",
       "\n",
       "       Total_Ct_Chng_Q4_Q1  Avg_Utilization_Ratio  \\\n",
       "0                    1.625                  0.061   \n",
       "1                    3.714                  0.105   \n",
       "2                    2.333                  0.000   \n",
       "3                    2.333                  0.760   \n",
       "4                    2.500                  0.000   \n",
       "...                    ...                    ...   \n",
       "10122                0.857                  0.462   \n",
       "10123                0.683                  0.511   \n",
       "10124                0.818                  0.000   \n",
       "10125                0.722                  0.000   \n",
       "10126                0.649                  0.189   \n",
       "\n",
       "       Naive_Bayes_Classifier_Attrition_Flag_Card_Category_Contacts_Count_12_mon_Dependent_count_Education_Level_Months_Inactive_12_mon_1  \\\n",
       "0                                               0.000093                                                                                    \n",
       "1                                               0.000057                                                                                    \n",
       "2                                               0.000021                                                                                    \n",
       "3                                               0.000134                                                                                    \n",
       "4                                               0.000022                                                                                    \n",
       "...                                                  ...                                                                                    \n",
       "10122                                           0.000191                                                                                    \n",
       "10123                                           0.995270                                                                                    \n",
       "10124                                           0.997880                                                                                    \n",
       "10125                                           0.996710                                                                                    \n",
       "10126                                           0.996620                                                                                    \n",
       "\n",
       "       Naive_Bayes_Classifier_Attrition_Flag_Card_Category_Contacts_Count_12_mon_Dependent_count_Education_Level_Months_Inactive_12_mon_2  \n",
       "0                                               0.999910                                                                                   \n",
       "1                                               0.999940                                                                                   \n",
       "2                                               0.999980                                                                                   \n",
       "3                                               0.999870                                                                                   \n",
       "4                                               0.999980                                                                                   \n",
       "...                                                  ...                                                                                   \n",
       "10122                                           0.999810                                                                                   \n",
       "10123                                           0.004729                                                                                   \n",
       "10124                                           0.002118                                                                                   \n",
       "10125                                           0.003294                                                                                   \n",
       "10126                                           0.003377                                                                                   \n",
       "\n",
       "[10127 rows x 23 columns]"
      ]
     },
     "execution_count": 14,
     "metadata": {},
     "output_type": "execute_result"
    }
   ],
   "source": [
    "raw_df"
   ]
  },
  {
   "cell_type": "code",
   "execution_count": 15,
   "metadata": {
    "ExecuteTime": {
     "end_time": "2021-07-07T13:17:00.802230Z",
     "start_time": "2021-07-07T13:17:00.797235Z"
    }
   },
   "outputs": [
    {
     "data": {
      "text/plain": [
       "Index(['CLIENTNUM', 'Attrition_Flag', 'Customer_Age', 'Gender',\n",
       "       'Dependent_count', 'Education_Level', 'Marital_Status',\n",
       "       'Income_Category', 'Card_Category', 'Months_on_book',\n",
       "       'Total_Relationship_Count', 'Months_Inactive_12_mon',\n",
       "       'Contacts_Count_12_mon', 'Credit_Limit', 'Total_Revolving_Bal',\n",
       "       'Avg_Open_To_Buy', 'Total_Amt_Chng_Q4_Q1', 'Total_Trans_Amt',\n",
       "       'Total_Trans_Ct', 'Total_Ct_Chng_Q4_Q1', 'Avg_Utilization_Ratio',\n",
       "       'Naive_Bayes_Classifier_Attrition_Flag_Card_Category_Contacts_Count_12_mon_Dependent_count_Education_Level_Months_Inactive_12_mon_1',\n",
       "       'Naive_Bayes_Classifier_Attrition_Flag_Card_Category_Contacts_Count_12_mon_Dependent_count_Education_Level_Months_Inactive_12_mon_2'],\n",
       "      dtype='object')"
      ]
     },
     "execution_count": 15,
     "metadata": {},
     "output_type": "execute_result"
    }
   ],
   "source": [
    "raw_df.columns"
   ]
  },
  {
   "cell_type": "code",
   "execution_count": 16,
   "metadata": {
    "ExecuteTime": {
     "end_time": "2021-07-07T13:17:01.118464Z",
     "start_time": "2021-07-07T13:17:01.085486Z"
    }
   },
   "outputs": [
    {
     "data": {
      "text/html": [
       "<div>\n",
       "<style scoped>\n",
       "    .dataframe tbody tr th:only-of-type {\n",
       "        vertical-align: middle;\n",
       "    }\n",
       "\n",
       "    .dataframe tbody tr th {\n",
       "        vertical-align: top;\n",
       "    }\n",
       "\n",
       "    .dataframe thead th {\n",
       "        text-align: right;\n",
       "    }\n",
       "</style>\n",
       "<table border=\"1\" class=\"dataframe\">\n",
       "  <thead>\n",
       "    <tr style=\"text-align: right;\">\n",
       "      <th></th>\n",
       "      <th>Attrition_Flag</th>\n",
       "      <th>Customer_Age</th>\n",
       "      <th>Gender</th>\n",
       "      <th>Dependent_count</th>\n",
       "      <th>Education_Level</th>\n",
       "      <th>Marital_Status</th>\n",
       "      <th>Income_Category</th>\n",
       "      <th>Card_Category</th>\n",
       "      <th>Months_on_book</th>\n",
       "      <th>Total_Relationship_Count</th>\n",
       "      <th>Months_Inactive_12_mon</th>\n",
       "      <th>Contacts_Count_12_mon</th>\n",
       "      <th>Credit_Limit</th>\n",
       "      <th>Total_Revolving_Bal</th>\n",
       "      <th>Avg_Open_To_Buy</th>\n",
       "      <th>Total_Amt_Chng_Q4_Q1</th>\n",
       "      <th>Total_Trans_Amt</th>\n",
       "      <th>Total_Trans_Ct</th>\n",
       "      <th>Total_Ct_Chng_Q4_Q1</th>\n",
       "      <th>Avg_Utilization_Ratio</th>\n",
       "    </tr>\n",
       "  </thead>\n",
       "  <tbody>\n",
       "    <tr>\n",
       "      <th>0</th>\n",
       "      <td>Existing Customer</td>\n",
       "      <td>45</td>\n",
       "      <td>M</td>\n",
       "      <td>3</td>\n",
       "      <td>High School</td>\n",
       "      <td>Married</td>\n",
       "      <td>$60K - $80K</td>\n",
       "      <td>Blue</td>\n",
       "      <td>39</td>\n",
       "      <td>5</td>\n",
       "      <td>1</td>\n",
       "      <td>3</td>\n",
       "      <td>12691.0</td>\n",
       "      <td>777</td>\n",
       "      <td>11914.0</td>\n",
       "      <td>1.335</td>\n",
       "      <td>1144</td>\n",
       "      <td>42</td>\n",
       "      <td>1.625</td>\n",
       "      <td>0.061</td>\n",
       "    </tr>\n",
       "    <tr>\n",
       "      <th>1</th>\n",
       "      <td>Existing Customer</td>\n",
       "      <td>49</td>\n",
       "      <td>F</td>\n",
       "      <td>5</td>\n",
       "      <td>Graduate</td>\n",
       "      <td>Single</td>\n",
       "      <td>Less than $40K</td>\n",
       "      <td>Blue</td>\n",
       "      <td>44</td>\n",
       "      <td>6</td>\n",
       "      <td>1</td>\n",
       "      <td>2</td>\n",
       "      <td>8256.0</td>\n",
       "      <td>864</td>\n",
       "      <td>7392.0</td>\n",
       "      <td>1.541</td>\n",
       "      <td>1291</td>\n",
       "      <td>33</td>\n",
       "      <td>3.714</td>\n",
       "      <td>0.105</td>\n",
       "    </tr>\n",
       "    <tr>\n",
       "      <th>2</th>\n",
       "      <td>Existing Customer</td>\n",
       "      <td>51</td>\n",
       "      <td>M</td>\n",
       "      <td>3</td>\n",
       "      <td>Graduate</td>\n",
       "      <td>Married</td>\n",
       "      <td>$80K - $120K</td>\n",
       "      <td>Blue</td>\n",
       "      <td>36</td>\n",
       "      <td>4</td>\n",
       "      <td>1</td>\n",
       "      <td>0</td>\n",
       "      <td>3418.0</td>\n",
       "      <td>0</td>\n",
       "      <td>3418.0</td>\n",
       "      <td>2.594</td>\n",
       "      <td>1887</td>\n",
       "      <td>20</td>\n",
       "      <td>2.333</td>\n",
       "      <td>0.000</td>\n",
       "    </tr>\n",
       "    <tr>\n",
       "      <th>3</th>\n",
       "      <td>Existing Customer</td>\n",
       "      <td>40</td>\n",
       "      <td>F</td>\n",
       "      <td>4</td>\n",
       "      <td>High School</td>\n",
       "      <td>Unknown</td>\n",
       "      <td>Less than $40K</td>\n",
       "      <td>Blue</td>\n",
       "      <td>34</td>\n",
       "      <td>3</td>\n",
       "      <td>4</td>\n",
       "      <td>1</td>\n",
       "      <td>3313.0</td>\n",
       "      <td>2517</td>\n",
       "      <td>796.0</td>\n",
       "      <td>1.405</td>\n",
       "      <td>1171</td>\n",
       "      <td>20</td>\n",
       "      <td>2.333</td>\n",
       "      <td>0.760</td>\n",
       "    </tr>\n",
       "    <tr>\n",
       "      <th>4</th>\n",
       "      <td>Existing Customer</td>\n",
       "      <td>40</td>\n",
       "      <td>M</td>\n",
       "      <td>3</td>\n",
       "      <td>Uneducated</td>\n",
       "      <td>Married</td>\n",
       "      <td>$60K - $80K</td>\n",
       "      <td>Blue</td>\n",
       "      <td>21</td>\n",
       "      <td>5</td>\n",
       "      <td>1</td>\n",
       "      <td>0</td>\n",
       "      <td>4716.0</td>\n",
       "      <td>0</td>\n",
       "      <td>4716.0</td>\n",
       "      <td>2.175</td>\n",
       "      <td>816</td>\n",
       "      <td>28</td>\n",
       "      <td>2.500</td>\n",
       "      <td>0.000</td>\n",
       "    </tr>\n",
       "    <tr>\n",
       "      <th>...</th>\n",
       "      <td>...</td>\n",
       "      <td>...</td>\n",
       "      <td>...</td>\n",
       "      <td>...</td>\n",
       "      <td>...</td>\n",
       "      <td>...</td>\n",
       "      <td>...</td>\n",
       "      <td>...</td>\n",
       "      <td>...</td>\n",
       "      <td>...</td>\n",
       "      <td>...</td>\n",
       "      <td>...</td>\n",
       "      <td>...</td>\n",
       "      <td>...</td>\n",
       "      <td>...</td>\n",
       "      <td>...</td>\n",
       "      <td>...</td>\n",
       "      <td>...</td>\n",
       "      <td>...</td>\n",
       "      <td>...</td>\n",
       "    </tr>\n",
       "    <tr>\n",
       "      <th>10122</th>\n",
       "      <td>Existing Customer</td>\n",
       "      <td>50</td>\n",
       "      <td>M</td>\n",
       "      <td>2</td>\n",
       "      <td>Graduate</td>\n",
       "      <td>Single</td>\n",
       "      <td>$40K - $60K</td>\n",
       "      <td>Blue</td>\n",
       "      <td>40</td>\n",
       "      <td>3</td>\n",
       "      <td>2</td>\n",
       "      <td>3</td>\n",
       "      <td>4003.0</td>\n",
       "      <td>1851</td>\n",
       "      <td>2152.0</td>\n",
       "      <td>0.703</td>\n",
       "      <td>15476</td>\n",
       "      <td>117</td>\n",
       "      <td>0.857</td>\n",
       "      <td>0.462</td>\n",
       "    </tr>\n",
       "    <tr>\n",
       "      <th>10123</th>\n",
       "      <td>Attrited Customer</td>\n",
       "      <td>41</td>\n",
       "      <td>M</td>\n",
       "      <td>2</td>\n",
       "      <td>Unknown</td>\n",
       "      <td>Divorced</td>\n",
       "      <td>$40K - $60K</td>\n",
       "      <td>Blue</td>\n",
       "      <td>25</td>\n",
       "      <td>4</td>\n",
       "      <td>2</td>\n",
       "      <td>3</td>\n",
       "      <td>4277.0</td>\n",
       "      <td>2186</td>\n",
       "      <td>2091.0</td>\n",
       "      <td>0.804</td>\n",
       "      <td>8764</td>\n",
       "      <td>69</td>\n",
       "      <td>0.683</td>\n",
       "      <td>0.511</td>\n",
       "    </tr>\n",
       "    <tr>\n",
       "      <th>10124</th>\n",
       "      <td>Attrited Customer</td>\n",
       "      <td>44</td>\n",
       "      <td>F</td>\n",
       "      <td>1</td>\n",
       "      <td>High School</td>\n",
       "      <td>Married</td>\n",
       "      <td>Less than $40K</td>\n",
       "      <td>Blue</td>\n",
       "      <td>36</td>\n",
       "      <td>5</td>\n",
       "      <td>3</td>\n",
       "      <td>4</td>\n",
       "      <td>5409.0</td>\n",
       "      <td>0</td>\n",
       "      <td>5409.0</td>\n",
       "      <td>0.819</td>\n",
       "      <td>10291</td>\n",
       "      <td>60</td>\n",
       "      <td>0.818</td>\n",
       "      <td>0.000</td>\n",
       "    </tr>\n",
       "    <tr>\n",
       "      <th>10125</th>\n",
       "      <td>Attrited Customer</td>\n",
       "      <td>30</td>\n",
       "      <td>M</td>\n",
       "      <td>2</td>\n",
       "      <td>Graduate</td>\n",
       "      <td>Unknown</td>\n",
       "      <td>$40K - $60K</td>\n",
       "      <td>Blue</td>\n",
       "      <td>36</td>\n",
       "      <td>4</td>\n",
       "      <td>3</td>\n",
       "      <td>3</td>\n",
       "      <td>5281.0</td>\n",
       "      <td>0</td>\n",
       "      <td>5281.0</td>\n",
       "      <td>0.535</td>\n",
       "      <td>8395</td>\n",
       "      <td>62</td>\n",
       "      <td>0.722</td>\n",
       "      <td>0.000</td>\n",
       "    </tr>\n",
       "    <tr>\n",
       "      <th>10126</th>\n",
       "      <td>Attrited Customer</td>\n",
       "      <td>43</td>\n",
       "      <td>F</td>\n",
       "      <td>2</td>\n",
       "      <td>Graduate</td>\n",
       "      <td>Married</td>\n",
       "      <td>Less than $40K</td>\n",
       "      <td>Silver</td>\n",
       "      <td>25</td>\n",
       "      <td>6</td>\n",
       "      <td>2</td>\n",
       "      <td>4</td>\n",
       "      <td>10388.0</td>\n",
       "      <td>1961</td>\n",
       "      <td>8427.0</td>\n",
       "      <td>0.703</td>\n",
       "      <td>10294</td>\n",
       "      <td>61</td>\n",
       "      <td>0.649</td>\n",
       "      <td>0.189</td>\n",
       "    </tr>\n",
       "  </tbody>\n",
       "</table>\n",
       "<p>10127 rows × 20 columns</p>\n",
       "</div>"
      ],
      "text/plain": [
       "          Attrition_Flag  Customer_Age Gender  Dependent_count  \\\n",
       "0      Existing Customer            45      M                3   \n",
       "1      Existing Customer            49      F                5   \n",
       "2      Existing Customer            51      M                3   \n",
       "3      Existing Customer            40      F                4   \n",
       "4      Existing Customer            40      M                3   \n",
       "...                  ...           ...    ...              ...   \n",
       "10122  Existing Customer            50      M                2   \n",
       "10123  Attrited Customer            41      M                2   \n",
       "10124  Attrited Customer            44      F                1   \n",
       "10125  Attrited Customer            30      M                2   \n",
       "10126  Attrited Customer            43      F                2   \n",
       "\n",
       "      Education_Level Marital_Status Income_Category Card_Category  \\\n",
       "0         High School        Married     $60K - $80K          Blue   \n",
       "1            Graduate         Single  Less than $40K          Blue   \n",
       "2            Graduate        Married    $80K - $120K          Blue   \n",
       "3         High School        Unknown  Less than $40K          Blue   \n",
       "4          Uneducated        Married     $60K - $80K          Blue   \n",
       "...               ...            ...             ...           ...   \n",
       "10122        Graduate         Single     $40K - $60K          Blue   \n",
       "10123         Unknown       Divorced     $40K - $60K          Blue   \n",
       "10124     High School        Married  Less than $40K          Blue   \n",
       "10125        Graduate        Unknown     $40K - $60K          Blue   \n",
       "10126        Graduate        Married  Less than $40K        Silver   \n",
       "\n",
       "       Months_on_book  Total_Relationship_Count  Months_Inactive_12_mon  \\\n",
       "0                  39                         5                       1   \n",
       "1                  44                         6                       1   \n",
       "2                  36                         4                       1   \n",
       "3                  34                         3                       4   \n",
       "4                  21                         5                       1   \n",
       "...               ...                       ...                     ...   \n",
       "10122              40                         3                       2   \n",
       "10123              25                         4                       2   \n",
       "10124              36                         5                       3   \n",
       "10125              36                         4                       3   \n",
       "10126              25                         6                       2   \n",
       "\n",
       "       Contacts_Count_12_mon  Credit_Limit  Total_Revolving_Bal  \\\n",
       "0                          3       12691.0                  777   \n",
       "1                          2        8256.0                  864   \n",
       "2                          0        3418.0                    0   \n",
       "3                          1        3313.0                 2517   \n",
       "4                          0        4716.0                    0   \n",
       "...                      ...           ...                  ...   \n",
       "10122                      3        4003.0                 1851   \n",
       "10123                      3        4277.0                 2186   \n",
       "10124                      4        5409.0                    0   \n",
       "10125                      3        5281.0                    0   \n",
       "10126                      4       10388.0                 1961   \n",
       "\n",
       "       Avg_Open_To_Buy  Total_Amt_Chng_Q4_Q1  Total_Trans_Amt  Total_Trans_Ct  \\\n",
       "0              11914.0                 1.335             1144              42   \n",
       "1               7392.0                 1.541             1291              33   \n",
       "2               3418.0                 2.594             1887              20   \n",
       "3                796.0                 1.405             1171              20   \n",
       "4               4716.0                 2.175              816              28   \n",
       "...                ...                   ...              ...             ...   \n",
       "10122           2152.0                 0.703            15476             117   \n",
       "10123           2091.0                 0.804             8764              69   \n",
       "10124           5409.0                 0.819            10291              60   \n",
       "10125           5281.0                 0.535             8395              62   \n",
       "10126           8427.0                 0.703            10294              61   \n",
       "\n",
       "       Total_Ct_Chng_Q4_Q1  Avg_Utilization_Ratio  \n",
       "0                    1.625                  0.061  \n",
       "1                    3.714                  0.105  \n",
       "2                    2.333                  0.000  \n",
       "3                    2.333                  0.760  \n",
       "4                    2.500                  0.000  \n",
       "...                    ...                    ...  \n",
       "10122                0.857                  0.462  \n",
       "10123                0.683                  0.511  \n",
       "10124                0.818                  0.000  \n",
       "10125                0.722                  0.000  \n",
       "10126                0.649                  0.189  \n",
       "\n",
       "[10127 rows x 20 columns]"
      ]
     },
     "execution_count": 16,
     "metadata": {},
     "output_type": "execute_result"
    }
   ],
   "source": [
    "raw_df.drop(columns=[\n",
    "    'CLIENTNUM',\n",
    "    'Naive_Bayes_Classifier_Attrition_Flag_Card_Category_Contacts_Count_12_mon_Dependent_count_Education_Level_Months_Inactive_12_mon_1',\n",
    "    'Naive_Bayes_Classifier_Attrition_Flag_Card_Category_Contacts_Count_12_mon_Dependent_count_Education_Level_Months_Inactive_12_mon_2'\n",
    "],\n",
    "        inplace=True)\n",
    "raw_df"
   ]
  },
  {
   "cell_type": "code",
   "execution_count": 17,
   "metadata": {
    "ExecuteTime": {
     "end_time": "2021-07-07T13:17:01.402502Z",
     "start_time": "2021-07-07T13:17:01.381506Z"
    }
   },
   "outputs": [
    {
     "data": {
      "text/plain": [
       "Less than $40K    3561\n",
       "$40K - $60K       1790\n",
       "$80K - $120K      1535\n",
       "$60K - $80K       1402\n",
       "Unknown           1112\n",
       "$120K +            727\n",
       "Name: Income_Category, dtype: int64"
      ]
     },
     "execution_count": 17,
     "metadata": {},
     "output_type": "execute_result"
    }
   ],
   "source": [
    "raw_df['Income_Category'].value_counts()"
   ]
  },
  {
   "cell_type": "code",
   "execution_count": 18,
   "metadata": {
    "ExecuteTime": {
     "end_time": "2021-07-07T13:17:01.734322Z",
     "start_time": "2021-07-07T13:17:01.703893Z"
    }
   },
   "outputs": [
    {
     "data": {
      "text/plain": [
       "Less_than_40K    3561\n",
       "40K_to_60K       1790\n",
       "80K_to_120K      1535\n",
       "60K_to_80K       1402\n",
       "Unknown          1112\n",
       "Above 120K        727\n",
       "Name: Income_Category, dtype: int64"
      ]
     },
     "execution_count": 18,
     "metadata": {},
     "output_type": "execute_result"
    }
   ],
   "source": [
    "raw_df['Income_Category'].apply(lambda x: x.replace(\"$\", \"\")).apply(\n",
    "    lambda x: x.replace(\" - \", \"_to_\")).apply(\n",
    "        lambda x: x.replace(\"120K +\", \"Above 120K\")).apply(lambda x: x.replace(\n",
    "            \"Less than 40K\", \"Less_than_40K\")).value_counts()"
   ]
  },
  {
   "cell_type": "code",
   "execution_count": 19,
   "metadata": {
    "ExecuteTime": {
     "end_time": "2021-07-07T13:17:02.112997Z",
     "start_time": "2021-07-07T13:17:02.058908Z"
    }
   },
   "outputs": [
    {
     "data": {
      "text/html": [
       "<div>\n",
       "<style scoped>\n",
       "    .dataframe tbody tr th:only-of-type {\n",
       "        vertical-align: middle;\n",
       "    }\n",
       "\n",
       "    .dataframe tbody tr th {\n",
       "        vertical-align: top;\n",
       "    }\n",
       "\n",
       "    .dataframe thead th {\n",
       "        text-align: right;\n",
       "    }\n",
       "</style>\n",
       "<table border=\"1\" class=\"dataframe\">\n",
       "  <thead>\n",
       "    <tr style=\"text-align: right;\">\n",
       "      <th></th>\n",
       "      <th>Attrition_Flag</th>\n",
       "      <th>Customer_Age</th>\n",
       "      <th>Gender</th>\n",
       "      <th>Dependent_count</th>\n",
       "      <th>Education_Level</th>\n",
       "      <th>Marital_Status</th>\n",
       "      <th>Income_Category</th>\n",
       "      <th>Card_Category</th>\n",
       "      <th>Months_on_book</th>\n",
       "      <th>Total_Relationship_Count</th>\n",
       "      <th>Months_Inactive_12_mon</th>\n",
       "      <th>Contacts_Count_12_mon</th>\n",
       "      <th>Credit_Limit</th>\n",
       "      <th>Total_Revolving_Bal</th>\n",
       "      <th>Avg_Open_To_Buy</th>\n",
       "      <th>Total_Amt_Chng_Q4_Q1</th>\n",
       "      <th>Total_Trans_Amt</th>\n",
       "      <th>Total_Trans_Ct</th>\n",
       "      <th>Total_Ct_Chng_Q4_Q1</th>\n",
       "      <th>Avg_Utilization_Ratio</th>\n",
       "    </tr>\n",
       "  </thead>\n",
       "  <tbody>\n",
       "    <tr>\n",
       "      <th>0</th>\n",
       "      <td>Existing Customer</td>\n",
       "      <td>45</td>\n",
       "      <td>M</td>\n",
       "      <td>3</td>\n",
       "      <td>High School</td>\n",
       "      <td>Married</td>\n",
       "      <td>60K_to_80K</td>\n",
       "      <td>Blue</td>\n",
       "      <td>39</td>\n",
       "      <td>5</td>\n",
       "      <td>1</td>\n",
       "      <td>3</td>\n",
       "      <td>12691.0</td>\n",
       "      <td>777</td>\n",
       "      <td>11914.0</td>\n",
       "      <td>1.335</td>\n",
       "      <td>1144</td>\n",
       "      <td>42</td>\n",
       "      <td>1.625</td>\n",
       "      <td>0.061</td>\n",
       "    </tr>\n",
       "    <tr>\n",
       "      <th>1</th>\n",
       "      <td>Existing Customer</td>\n",
       "      <td>49</td>\n",
       "      <td>F</td>\n",
       "      <td>5</td>\n",
       "      <td>Graduate</td>\n",
       "      <td>Single</td>\n",
       "      <td>Less_than_40K</td>\n",
       "      <td>Blue</td>\n",
       "      <td>44</td>\n",
       "      <td>6</td>\n",
       "      <td>1</td>\n",
       "      <td>2</td>\n",
       "      <td>8256.0</td>\n",
       "      <td>864</td>\n",
       "      <td>7392.0</td>\n",
       "      <td>1.541</td>\n",
       "      <td>1291</td>\n",
       "      <td>33</td>\n",
       "      <td>3.714</td>\n",
       "      <td>0.105</td>\n",
       "    </tr>\n",
       "    <tr>\n",
       "      <th>2</th>\n",
       "      <td>Existing Customer</td>\n",
       "      <td>51</td>\n",
       "      <td>M</td>\n",
       "      <td>3</td>\n",
       "      <td>Graduate</td>\n",
       "      <td>Married</td>\n",
       "      <td>80K_to_120K</td>\n",
       "      <td>Blue</td>\n",
       "      <td>36</td>\n",
       "      <td>4</td>\n",
       "      <td>1</td>\n",
       "      <td>0</td>\n",
       "      <td>3418.0</td>\n",
       "      <td>0</td>\n",
       "      <td>3418.0</td>\n",
       "      <td>2.594</td>\n",
       "      <td>1887</td>\n",
       "      <td>20</td>\n",
       "      <td>2.333</td>\n",
       "      <td>0.000</td>\n",
       "    </tr>\n",
       "    <tr>\n",
       "      <th>3</th>\n",
       "      <td>Existing Customer</td>\n",
       "      <td>40</td>\n",
       "      <td>F</td>\n",
       "      <td>4</td>\n",
       "      <td>High School</td>\n",
       "      <td>Unknown</td>\n",
       "      <td>Less_than_40K</td>\n",
       "      <td>Blue</td>\n",
       "      <td>34</td>\n",
       "      <td>3</td>\n",
       "      <td>4</td>\n",
       "      <td>1</td>\n",
       "      <td>3313.0</td>\n",
       "      <td>2517</td>\n",
       "      <td>796.0</td>\n",
       "      <td>1.405</td>\n",
       "      <td>1171</td>\n",
       "      <td>20</td>\n",
       "      <td>2.333</td>\n",
       "      <td>0.760</td>\n",
       "    </tr>\n",
       "    <tr>\n",
       "      <th>4</th>\n",
       "      <td>Existing Customer</td>\n",
       "      <td>40</td>\n",
       "      <td>M</td>\n",
       "      <td>3</td>\n",
       "      <td>Uneducated</td>\n",
       "      <td>Married</td>\n",
       "      <td>60K_to_80K</td>\n",
       "      <td>Blue</td>\n",
       "      <td>21</td>\n",
       "      <td>5</td>\n",
       "      <td>1</td>\n",
       "      <td>0</td>\n",
       "      <td>4716.0</td>\n",
       "      <td>0</td>\n",
       "      <td>4716.0</td>\n",
       "      <td>2.175</td>\n",
       "      <td>816</td>\n",
       "      <td>28</td>\n",
       "      <td>2.500</td>\n",
       "      <td>0.000</td>\n",
       "    </tr>\n",
       "    <tr>\n",
       "      <th>...</th>\n",
       "      <td>...</td>\n",
       "      <td>...</td>\n",
       "      <td>...</td>\n",
       "      <td>...</td>\n",
       "      <td>...</td>\n",
       "      <td>...</td>\n",
       "      <td>...</td>\n",
       "      <td>...</td>\n",
       "      <td>...</td>\n",
       "      <td>...</td>\n",
       "      <td>...</td>\n",
       "      <td>...</td>\n",
       "      <td>...</td>\n",
       "      <td>...</td>\n",
       "      <td>...</td>\n",
       "      <td>...</td>\n",
       "      <td>...</td>\n",
       "      <td>...</td>\n",
       "      <td>...</td>\n",
       "      <td>...</td>\n",
       "    </tr>\n",
       "    <tr>\n",
       "      <th>10122</th>\n",
       "      <td>Existing Customer</td>\n",
       "      <td>50</td>\n",
       "      <td>M</td>\n",
       "      <td>2</td>\n",
       "      <td>Graduate</td>\n",
       "      <td>Single</td>\n",
       "      <td>40K_to_60K</td>\n",
       "      <td>Blue</td>\n",
       "      <td>40</td>\n",
       "      <td>3</td>\n",
       "      <td>2</td>\n",
       "      <td>3</td>\n",
       "      <td>4003.0</td>\n",
       "      <td>1851</td>\n",
       "      <td>2152.0</td>\n",
       "      <td>0.703</td>\n",
       "      <td>15476</td>\n",
       "      <td>117</td>\n",
       "      <td>0.857</td>\n",
       "      <td>0.462</td>\n",
       "    </tr>\n",
       "    <tr>\n",
       "      <th>10123</th>\n",
       "      <td>Attrited Customer</td>\n",
       "      <td>41</td>\n",
       "      <td>M</td>\n",
       "      <td>2</td>\n",
       "      <td>Unknown</td>\n",
       "      <td>Divorced</td>\n",
       "      <td>40K_to_60K</td>\n",
       "      <td>Blue</td>\n",
       "      <td>25</td>\n",
       "      <td>4</td>\n",
       "      <td>2</td>\n",
       "      <td>3</td>\n",
       "      <td>4277.0</td>\n",
       "      <td>2186</td>\n",
       "      <td>2091.0</td>\n",
       "      <td>0.804</td>\n",
       "      <td>8764</td>\n",
       "      <td>69</td>\n",
       "      <td>0.683</td>\n",
       "      <td>0.511</td>\n",
       "    </tr>\n",
       "    <tr>\n",
       "      <th>10124</th>\n",
       "      <td>Attrited Customer</td>\n",
       "      <td>44</td>\n",
       "      <td>F</td>\n",
       "      <td>1</td>\n",
       "      <td>High School</td>\n",
       "      <td>Married</td>\n",
       "      <td>Less_than_40K</td>\n",
       "      <td>Blue</td>\n",
       "      <td>36</td>\n",
       "      <td>5</td>\n",
       "      <td>3</td>\n",
       "      <td>4</td>\n",
       "      <td>5409.0</td>\n",
       "      <td>0</td>\n",
       "      <td>5409.0</td>\n",
       "      <td>0.819</td>\n",
       "      <td>10291</td>\n",
       "      <td>60</td>\n",
       "      <td>0.818</td>\n",
       "      <td>0.000</td>\n",
       "    </tr>\n",
       "    <tr>\n",
       "      <th>10125</th>\n",
       "      <td>Attrited Customer</td>\n",
       "      <td>30</td>\n",
       "      <td>M</td>\n",
       "      <td>2</td>\n",
       "      <td>Graduate</td>\n",
       "      <td>Unknown</td>\n",
       "      <td>40K_to_60K</td>\n",
       "      <td>Blue</td>\n",
       "      <td>36</td>\n",
       "      <td>4</td>\n",
       "      <td>3</td>\n",
       "      <td>3</td>\n",
       "      <td>5281.0</td>\n",
       "      <td>0</td>\n",
       "      <td>5281.0</td>\n",
       "      <td>0.535</td>\n",
       "      <td>8395</td>\n",
       "      <td>62</td>\n",
       "      <td>0.722</td>\n",
       "      <td>0.000</td>\n",
       "    </tr>\n",
       "    <tr>\n",
       "      <th>10126</th>\n",
       "      <td>Attrited Customer</td>\n",
       "      <td>43</td>\n",
       "      <td>F</td>\n",
       "      <td>2</td>\n",
       "      <td>Graduate</td>\n",
       "      <td>Married</td>\n",
       "      <td>Less_than_40K</td>\n",
       "      <td>Silver</td>\n",
       "      <td>25</td>\n",
       "      <td>6</td>\n",
       "      <td>2</td>\n",
       "      <td>4</td>\n",
       "      <td>10388.0</td>\n",
       "      <td>1961</td>\n",
       "      <td>8427.0</td>\n",
       "      <td>0.703</td>\n",
       "      <td>10294</td>\n",
       "      <td>61</td>\n",
       "      <td>0.649</td>\n",
       "      <td>0.189</td>\n",
       "    </tr>\n",
       "  </tbody>\n",
       "</table>\n",
       "<p>10127 rows × 20 columns</p>\n",
       "</div>"
      ],
      "text/plain": [
       "          Attrition_Flag  Customer_Age Gender  Dependent_count  \\\n",
       "0      Existing Customer            45      M                3   \n",
       "1      Existing Customer            49      F                5   \n",
       "2      Existing Customer            51      M                3   \n",
       "3      Existing Customer            40      F                4   \n",
       "4      Existing Customer            40      M                3   \n",
       "...                  ...           ...    ...              ...   \n",
       "10122  Existing Customer            50      M                2   \n",
       "10123  Attrited Customer            41      M                2   \n",
       "10124  Attrited Customer            44      F                1   \n",
       "10125  Attrited Customer            30      M                2   \n",
       "10126  Attrited Customer            43      F                2   \n",
       "\n",
       "      Education_Level Marital_Status Income_Category Card_Category  \\\n",
       "0         High School        Married      60K_to_80K          Blue   \n",
       "1            Graduate         Single   Less_than_40K          Blue   \n",
       "2            Graduate        Married     80K_to_120K          Blue   \n",
       "3         High School        Unknown   Less_than_40K          Blue   \n",
       "4          Uneducated        Married      60K_to_80K          Blue   \n",
       "...               ...            ...             ...           ...   \n",
       "10122        Graduate         Single      40K_to_60K          Blue   \n",
       "10123         Unknown       Divorced      40K_to_60K          Blue   \n",
       "10124     High School        Married   Less_than_40K          Blue   \n",
       "10125        Graduate        Unknown      40K_to_60K          Blue   \n",
       "10126        Graduate        Married   Less_than_40K        Silver   \n",
       "\n",
       "       Months_on_book  Total_Relationship_Count  Months_Inactive_12_mon  \\\n",
       "0                  39                         5                       1   \n",
       "1                  44                         6                       1   \n",
       "2                  36                         4                       1   \n",
       "3                  34                         3                       4   \n",
       "4                  21                         5                       1   \n",
       "...               ...                       ...                     ...   \n",
       "10122              40                         3                       2   \n",
       "10123              25                         4                       2   \n",
       "10124              36                         5                       3   \n",
       "10125              36                         4                       3   \n",
       "10126              25                         6                       2   \n",
       "\n",
       "       Contacts_Count_12_mon  Credit_Limit  Total_Revolving_Bal  \\\n",
       "0                          3       12691.0                  777   \n",
       "1                          2        8256.0                  864   \n",
       "2                          0        3418.0                    0   \n",
       "3                          1        3313.0                 2517   \n",
       "4                          0        4716.0                    0   \n",
       "...                      ...           ...                  ...   \n",
       "10122                      3        4003.0                 1851   \n",
       "10123                      3        4277.0                 2186   \n",
       "10124                      4        5409.0                    0   \n",
       "10125                      3        5281.0                    0   \n",
       "10126                      4       10388.0                 1961   \n",
       "\n",
       "       Avg_Open_To_Buy  Total_Amt_Chng_Q4_Q1  Total_Trans_Amt  Total_Trans_Ct  \\\n",
       "0              11914.0                 1.335             1144              42   \n",
       "1               7392.0                 1.541             1291              33   \n",
       "2               3418.0                 2.594             1887              20   \n",
       "3                796.0                 1.405             1171              20   \n",
       "4               4716.0                 2.175              816              28   \n",
       "...                ...                   ...              ...             ...   \n",
       "10122           2152.0                 0.703            15476             117   \n",
       "10123           2091.0                 0.804             8764              69   \n",
       "10124           5409.0                 0.819            10291              60   \n",
       "10125           5281.0                 0.535             8395              62   \n",
       "10126           8427.0                 0.703            10294              61   \n",
       "\n",
       "       Total_Ct_Chng_Q4_Q1  Avg_Utilization_Ratio  \n",
       "0                    1.625                  0.061  \n",
       "1                    3.714                  0.105  \n",
       "2                    2.333                  0.000  \n",
       "3                    2.333                  0.760  \n",
       "4                    2.500                  0.000  \n",
       "...                    ...                    ...  \n",
       "10122                0.857                  0.462  \n",
       "10123                0.683                  0.511  \n",
       "10124                0.818                  0.000  \n",
       "10125                0.722                  0.000  \n",
       "10126                0.649                  0.189  \n",
       "\n",
       "[10127 rows x 20 columns]"
      ]
     },
     "execution_count": 19,
     "metadata": {},
     "output_type": "execute_result"
    }
   ],
   "source": [
    "raw_df['Income_Category'] = raw_df['Income_Category'].apply(\n",
    "    lambda x: x.replace(\"$\", \"\")).apply(\n",
    "        lambda x: x.replace(\" - \", \"_to_\")).apply(\n",
    "            lambda x: x.replace(\"120K +\", \"Above_120K\")).apply(\n",
    "                lambda x: x.replace(\"Less than 40K\", \"Less_than_40K\"))\n",
    "raw_df"
   ]
  },
  {
   "cell_type": "code",
   "execution_count": 20,
   "metadata": {
    "ExecuteTime": {
     "end_time": "2021-07-07T13:17:02.461193Z",
     "start_time": "2021-07-07T13:17:02.436930Z"
    }
   },
   "outputs": [
    {
     "data": {
      "text/plain": [
       "Existing Customer    83.93\n",
       "Attrited Customer    16.07\n",
       "Name: Attrition_Flag, dtype: float64"
      ]
     },
     "execution_count": 20,
     "metadata": {},
     "output_type": "execute_result"
    }
   ],
   "source": [
    "(raw_df.Attrition_Flag.value_counts(1)*100).round(2)"
   ]
  },
  {
   "cell_type": "code",
   "execution_count": 21,
   "metadata": {
    "ExecuteTime": {
     "end_time": "2021-07-07T13:17:02.825755Z",
     "start_time": "2021-07-07T13:17:02.784755Z"
    }
   },
   "outputs": [
    {
     "data": {
      "text/html": [
       "<div>\n",
       "<style scoped>\n",
       "    .dataframe tbody tr th:only-of-type {\n",
       "        vertical-align: middle;\n",
       "    }\n",
       "\n",
       "    .dataframe tbody tr th {\n",
       "        vertical-align: top;\n",
       "    }\n",
       "\n",
       "    .dataframe thead th {\n",
       "        text-align: right;\n",
       "    }\n",
       "</style>\n",
       "<table border=\"1\" class=\"dataframe\">\n",
       "  <thead>\n",
       "    <tr style=\"text-align: right;\">\n",
       "      <th></th>\n",
       "      <th>Attrition_Flag</th>\n",
       "      <th>Customer_Age</th>\n",
       "      <th>Gender</th>\n",
       "      <th>Dependent_count</th>\n",
       "      <th>Education_Level</th>\n",
       "      <th>Marital_Status</th>\n",
       "      <th>Income_Category</th>\n",
       "      <th>Card_Category</th>\n",
       "      <th>Months_on_book</th>\n",
       "      <th>Total_Relationship_Count</th>\n",
       "      <th>Months_Inactive_12_mon</th>\n",
       "      <th>Contacts_Count_12_mon</th>\n",
       "      <th>Credit_Limit</th>\n",
       "      <th>Total_Revolving_Bal</th>\n",
       "      <th>Avg_Open_To_Buy</th>\n",
       "      <th>Total_Amt_Chng_Q4_Q1</th>\n",
       "      <th>Total_Trans_Amt</th>\n",
       "      <th>Total_Trans_Ct</th>\n",
       "      <th>Total_Ct_Chng_Q4_Q1</th>\n",
       "      <th>Avg_Utilization_Ratio</th>\n",
       "    </tr>\n",
       "  </thead>\n",
       "  <tbody>\n",
       "    <tr>\n",
       "      <th>0</th>\n",
       "      <td>Existing Customer</td>\n",
       "      <td>45</td>\n",
       "      <td>M</td>\n",
       "      <td>3</td>\n",
       "      <td>High School</td>\n",
       "      <td>Married</td>\n",
       "      <td>60K_to_80K</td>\n",
       "      <td>Blue</td>\n",
       "      <td>39</td>\n",
       "      <td>5</td>\n",
       "      <td>1</td>\n",
       "      <td>3</td>\n",
       "      <td>12691.0</td>\n",
       "      <td>777</td>\n",
       "      <td>11914.0</td>\n",
       "      <td>1.335</td>\n",
       "      <td>1144</td>\n",
       "      <td>42</td>\n",
       "      <td>1.625</td>\n",
       "      <td>0.061</td>\n",
       "    </tr>\n",
       "    <tr>\n",
       "      <th>1</th>\n",
       "      <td>Existing Customer</td>\n",
       "      <td>49</td>\n",
       "      <td>F</td>\n",
       "      <td>5</td>\n",
       "      <td>Graduate</td>\n",
       "      <td>Single</td>\n",
       "      <td>Less_than_40K</td>\n",
       "      <td>Blue</td>\n",
       "      <td>44</td>\n",
       "      <td>6</td>\n",
       "      <td>1</td>\n",
       "      <td>2</td>\n",
       "      <td>8256.0</td>\n",
       "      <td>864</td>\n",
       "      <td>7392.0</td>\n",
       "      <td>1.541</td>\n",
       "      <td>1291</td>\n",
       "      <td>33</td>\n",
       "      <td>3.714</td>\n",
       "      <td>0.105</td>\n",
       "    </tr>\n",
       "    <tr>\n",
       "      <th>2</th>\n",
       "      <td>Existing Customer</td>\n",
       "      <td>51</td>\n",
       "      <td>M</td>\n",
       "      <td>3</td>\n",
       "      <td>Graduate</td>\n",
       "      <td>Married</td>\n",
       "      <td>80K_to_120K</td>\n",
       "      <td>Blue</td>\n",
       "      <td>36</td>\n",
       "      <td>4</td>\n",
       "      <td>1</td>\n",
       "      <td>0</td>\n",
       "      <td>3418.0</td>\n",
       "      <td>0</td>\n",
       "      <td>3418.0</td>\n",
       "      <td>2.594</td>\n",
       "      <td>1887</td>\n",
       "      <td>20</td>\n",
       "      <td>2.333</td>\n",
       "      <td>0.000</td>\n",
       "    </tr>\n",
       "    <tr>\n",
       "      <th>3</th>\n",
       "      <td>Existing Customer</td>\n",
       "      <td>40</td>\n",
       "      <td>F</td>\n",
       "      <td>4</td>\n",
       "      <td>High School</td>\n",
       "      <td>Unknown</td>\n",
       "      <td>Less_than_40K</td>\n",
       "      <td>Blue</td>\n",
       "      <td>34</td>\n",
       "      <td>3</td>\n",
       "      <td>4</td>\n",
       "      <td>1</td>\n",
       "      <td>3313.0</td>\n",
       "      <td>2517</td>\n",
       "      <td>796.0</td>\n",
       "      <td>1.405</td>\n",
       "      <td>1171</td>\n",
       "      <td>20</td>\n",
       "      <td>2.333</td>\n",
       "      <td>0.760</td>\n",
       "    </tr>\n",
       "    <tr>\n",
       "      <th>4</th>\n",
       "      <td>Existing Customer</td>\n",
       "      <td>40</td>\n",
       "      <td>M</td>\n",
       "      <td>3</td>\n",
       "      <td>Uneducated</td>\n",
       "      <td>Married</td>\n",
       "      <td>60K_to_80K</td>\n",
       "      <td>Blue</td>\n",
       "      <td>21</td>\n",
       "      <td>5</td>\n",
       "      <td>1</td>\n",
       "      <td>0</td>\n",
       "      <td>4716.0</td>\n",
       "      <td>0</td>\n",
       "      <td>4716.0</td>\n",
       "      <td>2.175</td>\n",
       "      <td>816</td>\n",
       "      <td>28</td>\n",
       "      <td>2.500</td>\n",
       "      <td>0.000</td>\n",
       "    </tr>\n",
       "    <tr>\n",
       "      <th>...</th>\n",
       "      <td>...</td>\n",
       "      <td>...</td>\n",
       "      <td>...</td>\n",
       "      <td>...</td>\n",
       "      <td>...</td>\n",
       "      <td>...</td>\n",
       "      <td>...</td>\n",
       "      <td>...</td>\n",
       "      <td>...</td>\n",
       "      <td>...</td>\n",
       "      <td>...</td>\n",
       "      <td>...</td>\n",
       "      <td>...</td>\n",
       "      <td>...</td>\n",
       "      <td>...</td>\n",
       "      <td>...</td>\n",
       "      <td>...</td>\n",
       "      <td>...</td>\n",
       "      <td>...</td>\n",
       "      <td>...</td>\n",
       "    </tr>\n",
       "    <tr>\n",
       "      <th>10122</th>\n",
       "      <td>Existing Customer</td>\n",
       "      <td>50</td>\n",
       "      <td>M</td>\n",
       "      <td>2</td>\n",
       "      <td>Graduate</td>\n",
       "      <td>Single</td>\n",
       "      <td>40K_to_60K</td>\n",
       "      <td>Blue</td>\n",
       "      <td>40</td>\n",
       "      <td>3</td>\n",
       "      <td>2</td>\n",
       "      <td>3</td>\n",
       "      <td>4003.0</td>\n",
       "      <td>1851</td>\n",
       "      <td>2152.0</td>\n",
       "      <td>0.703</td>\n",
       "      <td>15476</td>\n",
       "      <td>117</td>\n",
       "      <td>0.857</td>\n",
       "      <td>0.462</td>\n",
       "    </tr>\n",
       "    <tr>\n",
       "      <th>10123</th>\n",
       "      <td>Attrited Customer</td>\n",
       "      <td>41</td>\n",
       "      <td>M</td>\n",
       "      <td>2</td>\n",
       "      <td>Unknown</td>\n",
       "      <td>Divorced</td>\n",
       "      <td>40K_to_60K</td>\n",
       "      <td>Blue</td>\n",
       "      <td>25</td>\n",
       "      <td>4</td>\n",
       "      <td>2</td>\n",
       "      <td>3</td>\n",
       "      <td>4277.0</td>\n",
       "      <td>2186</td>\n",
       "      <td>2091.0</td>\n",
       "      <td>0.804</td>\n",
       "      <td>8764</td>\n",
       "      <td>69</td>\n",
       "      <td>0.683</td>\n",
       "      <td>0.511</td>\n",
       "    </tr>\n",
       "    <tr>\n",
       "      <th>10124</th>\n",
       "      <td>Attrited Customer</td>\n",
       "      <td>44</td>\n",
       "      <td>F</td>\n",
       "      <td>1</td>\n",
       "      <td>High School</td>\n",
       "      <td>Married</td>\n",
       "      <td>Less_than_40K</td>\n",
       "      <td>Blue</td>\n",
       "      <td>36</td>\n",
       "      <td>5</td>\n",
       "      <td>3</td>\n",
       "      <td>4</td>\n",
       "      <td>5409.0</td>\n",
       "      <td>0</td>\n",
       "      <td>5409.0</td>\n",
       "      <td>0.819</td>\n",
       "      <td>10291</td>\n",
       "      <td>60</td>\n",
       "      <td>0.818</td>\n",
       "      <td>0.000</td>\n",
       "    </tr>\n",
       "    <tr>\n",
       "      <th>10125</th>\n",
       "      <td>Attrited Customer</td>\n",
       "      <td>30</td>\n",
       "      <td>M</td>\n",
       "      <td>2</td>\n",
       "      <td>Graduate</td>\n",
       "      <td>Unknown</td>\n",
       "      <td>40K_to_60K</td>\n",
       "      <td>Blue</td>\n",
       "      <td>36</td>\n",
       "      <td>4</td>\n",
       "      <td>3</td>\n",
       "      <td>3</td>\n",
       "      <td>5281.0</td>\n",
       "      <td>0</td>\n",
       "      <td>5281.0</td>\n",
       "      <td>0.535</td>\n",
       "      <td>8395</td>\n",
       "      <td>62</td>\n",
       "      <td>0.722</td>\n",
       "      <td>0.000</td>\n",
       "    </tr>\n",
       "    <tr>\n",
       "      <th>10126</th>\n",
       "      <td>Attrited Customer</td>\n",
       "      <td>43</td>\n",
       "      <td>F</td>\n",
       "      <td>2</td>\n",
       "      <td>Graduate</td>\n",
       "      <td>Married</td>\n",
       "      <td>Less_than_40K</td>\n",
       "      <td>Silver</td>\n",
       "      <td>25</td>\n",
       "      <td>6</td>\n",
       "      <td>2</td>\n",
       "      <td>4</td>\n",
       "      <td>10388.0</td>\n",
       "      <td>1961</td>\n",
       "      <td>8427.0</td>\n",
       "      <td>0.703</td>\n",
       "      <td>10294</td>\n",
       "      <td>61</td>\n",
       "      <td>0.649</td>\n",
       "      <td>0.189</td>\n",
       "    </tr>\n",
       "  </tbody>\n",
       "</table>\n",
       "<p>10127 rows × 20 columns</p>\n",
       "</div>"
      ],
      "text/plain": [
       "          Attrition_Flag  Customer_Age Gender  Dependent_count  \\\n",
       "0      Existing Customer            45      M                3   \n",
       "1      Existing Customer            49      F                5   \n",
       "2      Existing Customer            51      M                3   \n",
       "3      Existing Customer            40      F                4   \n",
       "4      Existing Customer            40      M                3   \n",
       "...                  ...           ...    ...              ...   \n",
       "10122  Existing Customer            50      M                2   \n",
       "10123  Attrited Customer            41      M                2   \n",
       "10124  Attrited Customer            44      F                1   \n",
       "10125  Attrited Customer            30      M                2   \n",
       "10126  Attrited Customer            43      F                2   \n",
       "\n",
       "      Education_Level Marital_Status Income_Category Card_Category  \\\n",
       "0         High School        Married      60K_to_80K          Blue   \n",
       "1            Graduate         Single   Less_than_40K          Blue   \n",
       "2            Graduate        Married     80K_to_120K          Blue   \n",
       "3         High School        Unknown   Less_than_40K          Blue   \n",
       "4          Uneducated        Married      60K_to_80K          Blue   \n",
       "...               ...            ...             ...           ...   \n",
       "10122        Graduate         Single      40K_to_60K          Blue   \n",
       "10123         Unknown       Divorced      40K_to_60K          Blue   \n",
       "10124     High School        Married   Less_than_40K          Blue   \n",
       "10125        Graduate        Unknown      40K_to_60K          Blue   \n",
       "10126        Graduate        Married   Less_than_40K        Silver   \n",
       "\n",
       "       Months_on_book  Total_Relationship_Count  Months_Inactive_12_mon  \\\n",
       "0                  39                         5                       1   \n",
       "1                  44                         6                       1   \n",
       "2                  36                         4                       1   \n",
       "3                  34                         3                       4   \n",
       "4                  21                         5                       1   \n",
       "...               ...                       ...                     ...   \n",
       "10122              40                         3                       2   \n",
       "10123              25                         4                       2   \n",
       "10124              36                         5                       3   \n",
       "10125              36                         4                       3   \n",
       "10126              25                         6                       2   \n",
       "\n",
       "       Contacts_Count_12_mon  Credit_Limit  Total_Revolving_Bal  \\\n",
       "0                          3       12691.0                  777   \n",
       "1                          2        8256.0                  864   \n",
       "2                          0        3418.0                    0   \n",
       "3                          1        3313.0                 2517   \n",
       "4                          0        4716.0                    0   \n",
       "...                      ...           ...                  ...   \n",
       "10122                      3        4003.0                 1851   \n",
       "10123                      3        4277.0                 2186   \n",
       "10124                      4        5409.0                    0   \n",
       "10125                      3        5281.0                    0   \n",
       "10126                      4       10388.0                 1961   \n",
       "\n",
       "       Avg_Open_To_Buy  Total_Amt_Chng_Q4_Q1  Total_Trans_Amt  Total_Trans_Ct  \\\n",
       "0              11914.0                 1.335             1144              42   \n",
       "1               7392.0                 1.541             1291              33   \n",
       "2               3418.0                 2.594             1887              20   \n",
       "3                796.0                 1.405             1171              20   \n",
       "4               4716.0                 2.175              816              28   \n",
       "...                ...                   ...              ...             ...   \n",
       "10122           2152.0                 0.703            15476             117   \n",
       "10123           2091.0                 0.804             8764              69   \n",
       "10124           5409.0                 0.819            10291              60   \n",
       "10125           5281.0                 0.535             8395              62   \n",
       "10126           8427.0                 0.703            10294              61   \n",
       "\n",
       "       Total_Ct_Chng_Q4_Q1  Avg_Utilization_Ratio  \n",
       "0                    1.625                  0.061  \n",
       "1                    3.714                  0.105  \n",
       "2                    2.333                  0.000  \n",
       "3                    2.333                  0.760  \n",
       "4                    2.500                  0.000  \n",
       "...                    ...                    ...  \n",
       "10122                0.857                  0.462  \n",
       "10123                0.683                  0.511  \n",
       "10124                0.818                  0.000  \n",
       "10125                0.722                  0.000  \n",
       "10126                0.649                  0.189  \n",
       "\n",
       "[10127 rows x 20 columns]"
      ]
     },
     "execution_count": 21,
     "metadata": {},
     "output_type": "execute_result"
    }
   ],
   "source": [
    "df = raw_df.copy()\n",
    "df"
   ]
  },
  {
   "cell_type": "code",
   "execution_count": 22,
   "metadata": {
    "ExecuteTime": {
     "end_time": "2021-07-07T13:17:03.111776Z",
     "start_time": "2021-07-07T13:17:03.090767Z"
    }
   },
   "outputs": [
    {
     "data": {
      "text/plain": [
       "Attrition_Flag              0\n",
       "Customer_Age                0\n",
       "Gender                      0\n",
       "Dependent_count             0\n",
       "Education_Level             0\n",
       "Marital_Status              0\n",
       "Income_Category             0\n",
       "Card_Category               0\n",
       "Months_on_book              0\n",
       "Total_Relationship_Count    0\n",
       "Months_Inactive_12_mon      0\n",
       "Contacts_Count_12_mon       0\n",
       "Credit_Limit                0\n",
       "Total_Revolving_Bal         0\n",
       "Avg_Open_To_Buy             0\n",
       "Total_Amt_Chng_Q4_Q1        0\n",
       "Total_Trans_Amt             0\n",
       "Total_Trans_Ct              0\n",
       "Total_Ct_Chng_Q4_Q1         0\n",
       "Avg_Utilization_Ratio       0\n",
       "dtype: int64"
      ]
     },
     "execution_count": 22,
     "metadata": {},
     "output_type": "execute_result"
    }
   ],
   "source": [
    "df.isna().sum()"
   ]
  },
  {
   "cell_type": "code",
   "execution_count": 23,
   "metadata": {
    "ExecuteTime": {
     "end_time": "2021-07-07T13:17:03.429999Z",
     "start_time": "2021-07-07T13:17:03.368001Z"
    }
   },
   "outputs": [
    {
     "data": {
      "text/html": [
       "<div>\n",
       "<style scoped>\n",
       "    .dataframe tbody tr th:only-of-type {\n",
       "        vertical-align: middle;\n",
       "    }\n",
       "\n",
       "    .dataframe tbody tr th {\n",
       "        vertical-align: top;\n",
       "    }\n",
       "\n",
       "    .dataframe thead th {\n",
       "        text-align: right;\n",
       "    }\n",
       "</style>\n",
       "<table border=\"1\" class=\"dataframe\">\n",
       "  <thead>\n",
       "    <tr style=\"text-align: right;\">\n",
       "      <th></th>\n",
       "      <th>count</th>\n",
       "      <th>mean</th>\n",
       "      <th>std</th>\n",
       "      <th>min</th>\n",
       "      <th>25%</th>\n",
       "      <th>50%</th>\n",
       "      <th>75%</th>\n",
       "      <th>max</th>\n",
       "    </tr>\n",
       "  </thead>\n",
       "  <tbody>\n",
       "    <tr>\n",
       "      <th>Customer_Age</th>\n",
       "      <td>10127.0</td>\n",
       "      <td>46.33</td>\n",
       "      <td>8.02</td>\n",
       "      <td>26.0</td>\n",
       "      <td>41.00</td>\n",
       "      <td>46.00</td>\n",
       "      <td>52.00</td>\n",
       "      <td>73.00</td>\n",
       "    </tr>\n",
       "    <tr>\n",
       "      <th>Dependent_count</th>\n",
       "      <td>10127.0</td>\n",
       "      <td>2.35</td>\n",
       "      <td>1.30</td>\n",
       "      <td>0.0</td>\n",
       "      <td>1.00</td>\n",
       "      <td>2.00</td>\n",
       "      <td>3.00</td>\n",
       "      <td>5.00</td>\n",
       "    </tr>\n",
       "    <tr>\n",
       "      <th>Months_on_book</th>\n",
       "      <td>10127.0</td>\n",
       "      <td>35.93</td>\n",
       "      <td>7.99</td>\n",
       "      <td>13.0</td>\n",
       "      <td>31.00</td>\n",
       "      <td>36.00</td>\n",
       "      <td>40.00</td>\n",
       "      <td>56.00</td>\n",
       "    </tr>\n",
       "    <tr>\n",
       "      <th>Total_Relationship_Count</th>\n",
       "      <td>10127.0</td>\n",
       "      <td>3.81</td>\n",
       "      <td>1.55</td>\n",
       "      <td>1.0</td>\n",
       "      <td>3.00</td>\n",
       "      <td>4.00</td>\n",
       "      <td>5.00</td>\n",
       "      <td>6.00</td>\n",
       "    </tr>\n",
       "    <tr>\n",
       "      <th>Months_Inactive_12_mon</th>\n",
       "      <td>10127.0</td>\n",
       "      <td>2.34</td>\n",
       "      <td>1.01</td>\n",
       "      <td>0.0</td>\n",
       "      <td>2.00</td>\n",
       "      <td>2.00</td>\n",
       "      <td>3.00</td>\n",
       "      <td>6.00</td>\n",
       "    </tr>\n",
       "    <tr>\n",
       "      <th>Contacts_Count_12_mon</th>\n",
       "      <td>10127.0</td>\n",
       "      <td>2.46</td>\n",
       "      <td>1.11</td>\n",
       "      <td>0.0</td>\n",
       "      <td>2.00</td>\n",
       "      <td>2.00</td>\n",
       "      <td>3.00</td>\n",
       "      <td>6.00</td>\n",
       "    </tr>\n",
       "    <tr>\n",
       "      <th>Credit_Limit</th>\n",
       "      <td>10127.0</td>\n",
       "      <td>8631.95</td>\n",
       "      <td>9088.78</td>\n",
       "      <td>1438.3</td>\n",
       "      <td>2555.00</td>\n",
       "      <td>4549.00</td>\n",
       "      <td>11067.50</td>\n",
       "      <td>34516.00</td>\n",
       "    </tr>\n",
       "    <tr>\n",
       "      <th>Total_Revolving_Bal</th>\n",
       "      <td>10127.0</td>\n",
       "      <td>1162.81</td>\n",
       "      <td>814.99</td>\n",
       "      <td>0.0</td>\n",
       "      <td>359.00</td>\n",
       "      <td>1276.00</td>\n",
       "      <td>1784.00</td>\n",
       "      <td>2517.00</td>\n",
       "    </tr>\n",
       "    <tr>\n",
       "      <th>Avg_Open_To_Buy</th>\n",
       "      <td>10127.0</td>\n",
       "      <td>7469.14</td>\n",
       "      <td>9090.69</td>\n",
       "      <td>3.0</td>\n",
       "      <td>1324.50</td>\n",
       "      <td>3474.00</td>\n",
       "      <td>9859.00</td>\n",
       "      <td>34516.00</td>\n",
       "    </tr>\n",
       "    <tr>\n",
       "      <th>Total_Amt_Chng_Q4_Q1</th>\n",
       "      <td>10127.0</td>\n",
       "      <td>0.76</td>\n",
       "      <td>0.22</td>\n",
       "      <td>0.0</td>\n",
       "      <td>0.63</td>\n",
       "      <td>0.74</td>\n",
       "      <td>0.86</td>\n",
       "      <td>3.40</td>\n",
       "    </tr>\n",
       "    <tr>\n",
       "      <th>Total_Trans_Amt</th>\n",
       "      <td>10127.0</td>\n",
       "      <td>4404.09</td>\n",
       "      <td>3397.13</td>\n",
       "      <td>510.0</td>\n",
       "      <td>2155.50</td>\n",
       "      <td>3899.00</td>\n",
       "      <td>4741.00</td>\n",
       "      <td>18484.00</td>\n",
       "    </tr>\n",
       "    <tr>\n",
       "      <th>Total_Trans_Ct</th>\n",
       "      <td>10127.0</td>\n",
       "      <td>64.86</td>\n",
       "      <td>23.47</td>\n",
       "      <td>10.0</td>\n",
       "      <td>45.00</td>\n",
       "      <td>67.00</td>\n",
       "      <td>81.00</td>\n",
       "      <td>139.00</td>\n",
       "    </tr>\n",
       "    <tr>\n",
       "      <th>Total_Ct_Chng_Q4_Q1</th>\n",
       "      <td>10127.0</td>\n",
       "      <td>0.71</td>\n",
       "      <td>0.24</td>\n",
       "      <td>0.0</td>\n",
       "      <td>0.58</td>\n",
       "      <td>0.70</td>\n",
       "      <td>0.82</td>\n",
       "      <td>3.71</td>\n",
       "    </tr>\n",
       "    <tr>\n",
       "      <th>Avg_Utilization_Ratio</th>\n",
       "      <td>10127.0</td>\n",
       "      <td>0.27</td>\n",
       "      <td>0.28</td>\n",
       "      <td>0.0</td>\n",
       "      <td>0.02</td>\n",
       "      <td>0.18</td>\n",
       "      <td>0.50</td>\n",
       "      <td>1.00</td>\n",
       "    </tr>\n",
       "  </tbody>\n",
       "</table>\n",
       "</div>"
      ],
      "text/plain": [
       "                            count     mean      std     min      25%      50%  \\\n",
       "Customer_Age              10127.0    46.33     8.02    26.0    41.00    46.00   \n",
       "Dependent_count           10127.0     2.35     1.30     0.0     1.00     2.00   \n",
       "Months_on_book            10127.0    35.93     7.99    13.0    31.00    36.00   \n",
       "Total_Relationship_Count  10127.0     3.81     1.55     1.0     3.00     4.00   \n",
       "Months_Inactive_12_mon    10127.0     2.34     1.01     0.0     2.00     2.00   \n",
       "Contacts_Count_12_mon     10127.0     2.46     1.11     0.0     2.00     2.00   \n",
       "Credit_Limit              10127.0  8631.95  9088.78  1438.3  2555.00  4549.00   \n",
       "Total_Revolving_Bal       10127.0  1162.81   814.99     0.0   359.00  1276.00   \n",
       "Avg_Open_To_Buy           10127.0  7469.14  9090.69     3.0  1324.50  3474.00   \n",
       "Total_Amt_Chng_Q4_Q1      10127.0     0.76     0.22     0.0     0.63     0.74   \n",
       "Total_Trans_Amt           10127.0  4404.09  3397.13   510.0  2155.50  3899.00   \n",
       "Total_Trans_Ct            10127.0    64.86    23.47    10.0    45.00    67.00   \n",
       "Total_Ct_Chng_Q4_Q1       10127.0     0.71     0.24     0.0     0.58     0.70   \n",
       "Avg_Utilization_Ratio     10127.0     0.27     0.28     0.0     0.02     0.18   \n",
       "\n",
       "                               75%       max  \n",
       "Customer_Age                 52.00     73.00  \n",
       "Dependent_count               3.00      5.00  \n",
       "Months_on_book               40.00     56.00  \n",
       "Total_Relationship_Count      5.00      6.00  \n",
       "Months_Inactive_12_mon        3.00      6.00  \n",
       "Contacts_Count_12_mon         3.00      6.00  \n",
       "Credit_Limit              11067.50  34516.00  \n",
       "Total_Revolving_Bal        1784.00   2517.00  \n",
       "Avg_Open_To_Buy            9859.00  34516.00  \n",
       "Total_Amt_Chng_Q4_Q1          0.86      3.40  \n",
       "Total_Trans_Amt            4741.00  18484.00  \n",
       "Total_Trans_Ct               81.00    139.00  \n",
       "Total_Ct_Chng_Q4_Q1           0.82      3.71  \n",
       "Avg_Utilization_Ratio         0.50      1.00  "
      ]
     },
     "execution_count": 23,
     "metadata": {},
     "output_type": "execute_result"
    }
   ],
   "source": [
    "df.describe().round(2).T"
   ]
  },
  {
   "cell_type": "markdown",
   "metadata": {},
   "source": [
    "# EDA"
   ]
  },
  {
   "cell_type": "code",
   "execution_count": 24,
   "metadata": {
    "ExecuteTime": {
     "end_time": "2021-07-07T13:17:03.918355Z",
     "start_time": "2021-07-07T13:17:03.903300Z"
    }
   },
   "outputs": [
    {
     "name": "stdout",
     "output_type": "stream",
     "text": [
      "Minimum customer age: 26\n",
      "Maximum customer age: 73\n"
     ]
    }
   ],
   "source": [
    "print(f'Minimum customer age: {df.Customer_Age.unique().min()}')\n",
    "print(f'Maximum customer age: {df.Customer_Age.unique().max()}')"
   ]
  },
  {
   "cell_type": "code",
   "execution_count": null,
   "metadata": {},
   "outputs": [],
   "source": []
  },
  {
   "cell_type": "markdown",
   "metadata": {},
   "source": [
    "# SCRUB"
   ]
  },
  {
   "cell_type": "code",
   "execution_count": 25,
   "metadata": {
    "ExecuteTime": {
     "end_time": "2021-07-07T13:17:05.533277Z",
     "start_time": "2021-07-07T13:17:05.520133Z"
    }
   },
   "outputs": [
    {
     "data": {
      "text/plain": [
       "Existing Customer    83.93\n",
       "Attrited Customer    16.07\n",
       "Name: Attrition_Flag, dtype: float64"
      ]
     },
     "execution_count": 25,
     "metadata": {},
     "output_type": "execute_result"
    }
   ],
   "source": [
    "(df.Attrition_Flag.value_counts(1)*100).round(2)"
   ]
  },
  {
   "cell_type": "markdown",
   "metadata": {},
   "source": [
    "## Train-Test split"
   ]
  },
  {
   "cell_type": "code",
   "execution_count": 26,
   "metadata": {
    "ExecuteTime": {
     "end_time": "2021-07-07T13:17:06.497367Z",
     "start_time": "2021-07-07T13:17:06.491363Z"
    }
   },
   "outputs": [],
   "source": [
    "X = df.drop(columns='Attrition_Flag').copy()\n",
    "y = df.Attrition_Flag.copy()"
   ]
  },
  {
   "cell_type": "code",
   "execution_count": 27,
   "metadata": {
    "ExecuteTime": {
     "end_time": "2021-07-07T13:17:07.235090Z",
     "start_time": "2021-07-07T13:17:07.226097Z"
    }
   },
   "outputs": [],
   "source": [
    "X_train, X_test, y_train, y_test = train_test_split(X, y, train_size=.8)"
   ]
  },
  {
   "cell_type": "markdown",
   "metadata": {},
   "source": [
    "## Encoding"
   ]
  },
  {
   "cell_type": "markdown",
   "metadata": {},
   "source": [
    "### Label Encoding"
   ]
  },
  {
   "cell_type": "code",
   "execution_count": 28,
   "metadata": {
    "ExecuteTime": {
     "end_time": "2021-07-07T13:17:08.165794Z",
     "start_time": "2021-07-07T13:17:08.149928Z"
    }
   },
   "outputs": [],
   "source": [
    "label_encoder = LabelEncoder()\n",
    "label_encoder.fit(y_train)\n",
    "y_train_encoded = label_encoder.transform(y_train)\n",
    "# y_train_encoded"
   ]
  },
  {
   "cell_type": "code",
   "execution_count": 29,
   "metadata": {
    "ExecuteTime": {
     "end_time": "2021-07-07T13:17:08.496485Z",
     "start_time": "2021-07-07T13:17:08.487963Z"
    }
   },
   "outputs": [],
   "source": [
    "label_encoder = LabelEncoder()\n",
    "label_encoder.fit(y_test)\n",
    "y_test_encoded = label_encoder.transform(y_test)\n",
    "# y_test_encoded"
   ]
  },
  {
   "cell_type": "markdown",
   "metadata": {},
   "source": [
    "### Feature Encoding"
   ]
  },
  {
   "cell_type": "code",
   "execution_count": 30,
   "metadata": {
    "ExecuteTime": {
     "end_time": "2021-07-07T13:17:09.139785Z",
     "start_time": "2021-07-07T13:17:09.124795Z"
    }
   },
   "outputs": [],
   "source": [
    "nume_col = list(X.select_dtypes('number').columns)"
   ]
  },
  {
   "cell_type": "code",
   "execution_count": 31,
   "metadata": {
    "ExecuteTime": {
     "end_time": "2021-07-07T13:17:09.484425Z",
     "start_time": "2021-07-07T13:17:09.464788Z"
    }
   },
   "outputs": [],
   "source": [
    "cate_col = list(X.select_dtypes('object').columns)"
   ]
  },
  {
   "cell_type": "code",
   "execution_count": 32,
   "metadata": {
    "ExecuteTime": {
     "end_time": "2021-07-07T13:17:09.831198Z",
     "start_time": "2021-07-07T13:17:09.825963Z"
    }
   },
   "outputs": [],
   "source": [
    "# scaler = StandardScaler()"
   ]
  },
  {
   "cell_type": "code",
   "execution_count": 33,
   "metadata": {
    "ExecuteTime": {
     "end_time": "2021-07-07T13:17:10.431824Z",
     "start_time": "2021-07-07T13:17:10.423827Z"
    }
   },
   "outputs": [],
   "source": [
    "# pipeline for processing categorical features\n",
    "pipe_cate = Pipeline([('ohe', OneHotEncoder(sparse=False, drop=None))])\n",
    "# pipeline for processing numerical features\n",
    "pipe_nume = Pipeline([('scaler', StandardScaler())])\n",
    "preprocessor = ColumnTransformer([('nume_feat', pipe_nume, nume_col),\n",
    "                                  ('cate_feat', pipe_cate, cate_col)])"
   ]
  },
  {
   "cell_type": "code",
   "execution_count": 34,
   "metadata": {
    "ExecuteTime": {
     "end_time": "2021-07-07T13:17:11.047943Z",
     "start_time": "2021-07-07T13:17:11.008707Z"
    }
   },
   "outputs": [],
   "source": [
    "X_train_pr = pd.DataFrame(preprocessor.fit_transform(X_train),\n",
    "                          columns=nume_col +\n",
    "                          list(preprocessor.named_transformers_['cate_feat'].\n",
    "                               named_steps['ohe'].get_feature_names(cate_col)))"
   ]
  },
  {
   "cell_type": "code",
   "execution_count": 35,
   "metadata": {
    "ExecuteTime": {
     "end_time": "2021-07-07T13:17:11.461270Z",
     "start_time": "2021-07-07T13:17:11.444001Z"
    }
   },
   "outputs": [],
   "source": [
    "X_test_pr = pd.DataFrame(preprocessor.fit_transform(X_test),\n",
    "                         columns=nume_col +\n",
    "                         list(preprocessor.named_transformers_['cate_feat'].\n",
    "                              named_steps['ohe'].get_feature_names(cate_col)))"
   ]
  },
  {
   "cell_type": "markdown",
   "metadata": {},
   "source": [
    "## SMOTENC"
   ]
  },
  {
   "cell_type": "code",
   "execution_count": 36,
   "metadata": {
    "ExecuteTime": {
     "end_time": "2021-07-07T13:17:12.793208Z",
     "start_time": "2021-07-07T13:17:12.748155Z"
    }
   },
   "outputs": [
    {
     "data": {
      "text/html": [
       "<div>\n",
       "<style scoped>\n",
       "    .dataframe tbody tr th:only-of-type {\n",
       "        vertical-align: middle;\n",
       "    }\n",
       "\n",
       "    .dataframe tbody tr th {\n",
       "        vertical-align: top;\n",
       "    }\n",
       "\n",
       "    .dataframe thead th {\n",
       "        text-align: right;\n",
       "    }\n",
       "</style>\n",
       "<table border=\"1\" class=\"dataframe\">\n",
       "  <thead>\n",
       "    <tr style=\"text-align: right;\">\n",
       "      <th></th>\n",
       "      <th>Customer_Age</th>\n",
       "      <th>Dependent_count</th>\n",
       "      <th>Months_on_book</th>\n",
       "      <th>Total_Relationship_Count</th>\n",
       "      <th>Months_Inactive_12_mon</th>\n",
       "      <th>Contacts_Count_12_mon</th>\n",
       "      <th>Credit_Limit</th>\n",
       "      <th>Total_Revolving_Bal</th>\n",
       "      <th>Avg_Open_To_Buy</th>\n",
       "      <th>Total_Amt_Chng_Q4_Q1</th>\n",
       "      <th>...</th>\n",
       "      <th>Income_Category_40K_to_60K</th>\n",
       "      <th>Income_Category_60K_to_80K</th>\n",
       "      <th>Income_Category_80K_to_120K</th>\n",
       "      <th>Income_Category_Above_120K</th>\n",
       "      <th>Income_Category_Less_than_40K</th>\n",
       "      <th>Income_Category_Unknown</th>\n",
       "      <th>Card_Category_Blue</th>\n",
       "      <th>Card_Category_Gold</th>\n",
       "      <th>Card_Category_Platinum</th>\n",
       "      <th>Card_Category_Silver</th>\n",
       "    </tr>\n",
       "  </thead>\n",
       "  <tbody>\n",
       "    <tr>\n",
       "      <th>0</th>\n",
       "      <td>0.459518</td>\n",
       "      <td>-0.254134</td>\n",
       "      <td>-0.484866</td>\n",
       "      <td>-0.515890</td>\n",
       "      <td>0.651219</td>\n",
       "      <td>1.403557</td>\n",
       "      <td>-0.631589</td>\n",
       "      <td>1.151203</td>\n",
       "      <td>-0.734722</td>\n",
       "      <td>0.436668</td>\n",
       "      <td>...</td>\n",
       "      <td>0.0</td>\n",
       "      <td>0.0</td>\n",
       "      <td>0.0</td>\n",
       "      <td>0.0</td>\n",
       "      <td>1.0</td>\n",
       "      <td>0.0</td>\n",
       "      <td>1.0</td>\n",
       "      <td>0.0</td>\n",
       "      <td>0.0</td>\n",
       "      <td>0.0</td>\n",
       "    </tr>\n",
       "    <tr>\n",
       "      <th>1</th>\n",
       "      <td>-1.531019</td>\n",
       "      <td>-0.254134</td>\n",
       "      <td>0.014184</td>\n",
       "      <td>0.771809</td>\n",
       "      <td>-1.328340</td>\n",
       "      <td>0.493649</td>\n",
       "      <td>-0.644948</td>\n",
       "      <td>0.916424</td>\n",
       "      <td>-0.726997</td>\n",
       "      <td>-0.725187</td>\n",
       "      <td>...</td>\n",
       "      <td>0.0</td>\n",
       "      <td>1.0</td>\n",
       "      <td>0.0</td>\n",
       "      <td>0.0</td>\n",
       "      <td>0.0</td>\n",
       "      <td>0.0</td>\n",
       "      <td>1.0</td>\n",
       "      <td>0.0</td>\n",
       "      <td>0.0</td>\n",
       "      <td>0.0</td>\n",
       "    </tr>\n",
       "    <tr>\n",
       "      <th>2</th>\n",
       "      <td>-0.411342</td>\n",
       "      <td>0.517507</td>\n",
       "      <td>0.263710</td>\n",
       "      <td>-0.515890</td>\n",
       "      <td>0.651219</td>\n",
       "      <td>0.493649</td>\n",
       "      <td>-0.167919</td>\n",
       "      <td>-1.435058</td>\n",
       "      <td>-0.039020</td>\n",
       "      <td>-1.061631</td>\n",
       "      <td>...</td>\n",
       "      <td>0.0</td>\n",
       "      <td>0.0</td>\n",
       "      <td>0.0</td>\n",
       "      <td>0.0</td>\n",
       "      <td>1.0</td>\n",
       "      <td>0.0</td>\n",
       "      <td>1.0</td>\n",
       "      <td>0.0</td>\n",
       "      <td>0.0</td>\n",
       "      <td>0.0</td>\n",
       "    </tr>\n",
       "    <tr>\n",
       "      <th>3</th>\n",
       "      <td>0.210701</td>\n",
       "      <td>-1.025774</td>\n",
       "      <td>1.012286</td>\n",
       "      <td>1.415659</td>\n",
       "      <td>-1.328340</td>\n",
       "      <td>0.493649</td>\n",
       "      <td>-0.628057</td>\n",
       "      <td>-1.435058</td>\n",
       "      <td>-0.498995</td>\n",
       "      <td>0.145083</td>\n",
       "      <td>...</td>\n",
       "      <td>0.0</td>\n",
       "      <td>0.0</td>\n",
       "      <td>1.0</td>\n",
       "      <td>0.0</td>\n",
       "      <td>0.0</td>\n",
       "      <td>0.0</td>\n",
       "      <td>1.0</td>\n",
       "      <td>0.0</td>\n",
       "      <td>0.0</td>\n",
       "      <td>0.0</td>\n",
       "    </tr>\n",
       "    <tr>\n",
       "      <th>4</th>\n",
       "      <td>0.335109</td>\n",
       "      <td>0.517507</td>\n",
       "      <td>0.637998</td>\n",
       "      <td>0.127959</td>\n",
       "      <td>-1.328340</td>\n",
       "      <td>-0.416260</td>\n",
       "      <td>2.860513</td>\n",
       "      <td>-1.435058</td>\n",
       "      <td>2.988344</td>\n",
       "      <td>-1.169293</td>\n",
       "      <td>...</td>\n",
       "      <td>0.0</td>\n",
       "      <td>0.0</td>\n",
       "      <td>1.0</td>\n",
       "      <td>0.0</td>\n",
       "      <td>0.0</td>\n",
       "      <td>0.0</td>\n",
       "      <td>0.0</td>\n",
       "      <td>0.0</td>\n",
       "      <td>0.0</td>\n",
       "      <td>1.0</td>\n",
       "    </tr>\n",
       "    <tr>\n",
       "      <th>...</th>\n",
       "      <td>...</td>\n",
       "      <td>...</td>\n",
       "      <td>...</td>\n",
       "      <td>...</td>\n",
       "      <td>...</td>\n",
       "      <td>...</td>\n",
       "      <td>...</td>\n",
       "      <td>...</td>\n",
       "      <td>...</td>\n",
       "      <td>...</td>\n",
       "      <td>...</td>\n",
       "      <td>...</td>\n",
       "      <td>...</td>\n",
       "      <td>...</td>\n",
       "      <td>...</td>\n",
       "      <td>...</td>\n",
       "      <td>...</td>\n",
       "      <td>...</td>\n",
       "      <td>...</td>\n",
       "      <td>...</td>\n",
       "      <td>...</td>\n",
       "    </tr>\n",
       "    <tr>\n",
       "      <th>8096</th>\n",
       "      <td>1.330377</td>\n",
       "      <td>-1.025774</td>\n",
       "      <td>1.511336</td>\n",
       "      <td>-0.515890</td>\n",
       "      <td>-1.328340</td>\n",
       "      <td>-0.416260</td>\n",
       "      <td>-0.559279</td>\n",
       "      <td>-1.435058</td>\n",
       "      <td>-0.430242</td>\n",
       "      <td>0.095738</td>\n",
       "      <td>...</td>\n",
       "      <td>1.0</td>\n",
       "      <td>0.0</td>\n",
       "      <td>0.0</td>\n",
       "      <td>0.0</td>\n",
       "      <td>0.0</td>\n",
       "      <td>0.0</td>\n",
       "      <td>1.0</td>\n",
       "      <td>0.0</td>\n",
       "      <td>0.0</td>\n",
       "      <td>0.0</td>\n",
       "    </tr>\n",
       "    <tr>\n",
       "      <th>8097</th>\n",
       "      <td>0.086292</td>\n",
       "      <td>-1.025774</td>\n",
       "      <td>0.014184</td>\n",
       "      <td>0.771809</td>\n",
       "      <td>-1.328340</td>\n",
       "      <td>-2.236077</td>\n",
       "      <td>1.882499</td>\n",
       "      <td>1.288875</td>\n",
       "      <td>1.766120</td>\n",
       "      <td>0.432182</td>\n",
       "      <td>...</td>\n",
       "      <td>0.0</td>\n",
       "      <td>0.0</td>\n",
       "      <td>0.0</td>\n",
       "      <td>0.0</td>\n",
       "      <td>0.0</td>\n",
       "      <td>1.0</td>\n",
       "      <td>1.0</td>\n",
       "      <td>0.0</td>\n",
       "      <td>0.0</td>\n",
       "      <td>0.0</td>\n",
       "    </tr>\n",
       "    <tr>\n",
       "      <th>8098</th>\n",
       "      <td>0.957152</td>\n",
       "      <td>1.289147</td>\n",
       "      <td>0.887523</td>\n",
       "      <td>-0.515890</td>\n",
       "      <td>-0.338561</td>\n",
       "      <td>0.493649</td>\n",
       "      <td>-0.529913</td>\n",
       "      <td>-0.425876</td>\n",
       "      <td>-0.491491</td>\n",
       "      <td>0.212372</td>\n",
       "      <td>...</td>\n",
       "      <td>0.0</td>\n",
       "      <td>0.0</td>\n",
       "      <td>0.0</td>\n",
       "      <td>0.0</td>\n",
       "      <td>0.0</td>\n",
       "      <td>1.0</td>\n",
       "      <td>1.0</td>\n",
       "      <td>0.0</td>\n",
       "      <td>0.0</td>\n",
       "      <td>0.0</td>\n",
       "    </tr>\n",
       "    <tr>\n",
       "      <th>8099</th>\n",
       "      <td>-1.406610</td>\n",
       "      <td>-0.254134</td>\n",
       "      <td>0.014184</td>\n",
       "      <td>0.771809</td>\n",
       "      <td>0.651219</td>\n",
       "      <td>1.403557</td>\n",
       "      <td>-0.718141</td>\n",
       "      <td>-0.267307</td>\n",
       "      <td>-0.693889</td>\n",
       "      <td>0.019477</td>\n",
       "      <td>...</td>\n",
       "      <td>1.0</td>\n",
       "      <td>0.0</td>\n",
       "      <td>0.0</td>\n",
       "      <td>0.0</td>\n",
       "      <td>0.0</td>\n",
       "      <td>0.0</td>\n",
       "      <td>1.0</td>\n",
       "      <td>0.0</td>\n",
       "      <td>0.0</td>\n",
       "      <td>0.0</td>\n",
       "    </tr>\n",
       "    <tr>\n",
       "      <th>8100</th>\n",
       "      <td>0.583926</td>\n",
       "      <td>0.517507</td>\n",
       "      <td>0.014184</td>\n",
       "      <td>1.415659</td>\n",
       "      <td>2.630779</td>\n",
       "      <td>-0.416260</td>\n",
       "      <td>-0.572747</td>\n",
       "      <td>0.386633</td>\n",
       "      <td>-0.607257</td>\n",
       "      <td>-0.245193</td>\n",
       "      <td>...</td>\n",
       "      <td>1.0</td>\n",
       "      <td>0.0</td>\n",
       "      <td>0.0</td>\n",
       "      <td>0.0</td>\n",
       "      <td>0.0</td>\n",
       "      <td>0.0</td>\n",
       "      <td>1.0</td>\n",
       "      <td>0.0</td>\n",
       "      <td>0.0</td>\n",
       "      <td>0.0</td>\n",
       "    </tr>\n",
       "  </tbody>\n",
       "</table>\n",
       "<p>8101 rows × 37 columns</p>\n",
       "</div>"
      ],
      "text/plain": [
       "      Customer_Age  Dependent_count  Months_on_book  Total_Relationship_Count  \\\n",
       "0         0.459518        -0.254134       -0.484866                 -0.515890   \n",
       "1        -1.531019        -0.254134        0.014184                  0.771809   \n",
       "2        -0.411342         0.517507        0.263710                 -0.515890   \n",
       "3         0.210701        -1.025774        1.012286                  1.415659   \n",
       "4         0.335109         0.517507        0.637998                  0.127959   \n",
       "...            ...              ...             ...                       ...   \n",
       "8096      1.330377        -1.025774        1.511336                 -0.515890   \n",
       "8097      0.086292        -1.025774        0.014184                  0.771809   \n",
       "8098      0.957152         1.289147        0.887523                 -0.515890   \n",
       "8099     -1.406610        -0.254134        0.014184                  0.771809   \n",
       "8100      0.583926         0.517507        0.014184                  1.415659   \n",
       "\n",
       "      Months_Inactive_12_mon  Contacts_Count_12_mon  Credit_Limit  \\\n",
       "0                   0.651219               1.403557     -0.631589   \n",
       "1                  -1.328340               0.493649     -0.644948   \n",
       "2                   0.651219               0.493649     -0.167919   \n",
       "3                  -1.328340               0.493649     -0.628057   \n",
       "4                  -1.328340              -0.416260      2.860513   \n",
       "...                      ...                    ...           ...   \n",
       "8096               -1.328340              -0.416260     -0.559279   \n",
       "8097               -1.328340              -2.236077      1.882499   \n",
       "8098               -0.338561               0.493649     -0.529913   \n",
       "8099                0.651219               1.403557     -0.718141   \n",
       "8100                2.630779              -0.416260     -0.572747   \n",
       "\n",
       "      Total_Revolving_Bal  Avg_Open_To_Buy  Total_Amt_Chng_Q4_Q1  ...  \\\n",
       "0                1.151203        -0.734722              0.436668  ...   \n",
       "1                0.916424        -0.726997             -0.725187  ...   \n",
       "2               -1.435058        -0.039020             -1.061631  ...   \n",
       "3               -1.435058        -0.498995              0.145083  ...   \n",
       "4               -1.435058         2.988344             -1.169293  ...   \n",
       "...                   ...              ...                   ...  ...   \n",
       "8096            -1.435058        -0.430242              0.095738  ...   \n",
       "8097             1.288875         1.766120              0.432182  ...   \n",
       "8098            -0.425876        -0.491491              0.212372  ...   \n",
       "8099            -0.267307        -0.693889              0.019477  ...   \n",
       "8100             0.386633        -0.607257             -0.245193  ...   \n",
       "\n",
       "      Income_Category_40K_to_60K  Income_Category_60K_to_80K  \\\n",
       "0                            0.0                         0.0   \n",
       "1                            0.0                         1.0   \n",
       "2                            0.0                         0.0   \n",
       "3                            0.0                         0.0   \n",
       "4                            0.0                         0.0   \n",
       "...                          ...                         ...   \n",
       "8096                         1.0                         0.0   \n",
       "8097                         0.0                         0.0   \n",
       "8098                         0.0                         0.0   \n",
       "8099                         1.0                         0.0   \n",
       "8100                         1.0                         0.0   \n",
       "\n",
       "      Income_Category_80K_to_120K  Income_Category_Above_120K  \\\n",
       "0                             0.0                         0.0   \n",
       "1                             0.0                         0.0   \n",
       "2                             0.0                         0.0   \n",
       "3                             1.0                         0.0   \n",
       "4                             1.0                         0.0   \n",
       "...                           ...                         ...   \n",
       "8096                          0.0                         0.0   \n",
       "8097                          0.0                         0.0   \n",
       "8098                          0.0                         0.0   \n",
       "8099                          0.0                         0.0   \n",
       "8100                          0.0                         0.0   \n",
       "\n",
       "      Income_Category_Less_than_40K  Income_Category_Unknown  \\\n",
       "0                               1.0                      0.0   \n",
       "1                               0.0                      0.0   \n",
       "2                               1.0                      0.0   \n",
       "3                               0.0                      0.0   \n",
       "4                               0.0                      0.0   \n",
       "...                             ...                      ...   \n",
       "8096                            0.0                      0.0   \n",
       "8097                            0.0                      1.0   \n",
       "8098                            0.0                      1.0   \n",
       "8099                            0.0                      0.0   \n",
       "8100                            0.0                      0.0   \n",
       "\n",
       "      Card_Category_Blue  Card_Category_Gold  Card_Category_Platinum  \\\n",
       "0                    1.0                 0.0                     0.0   \n",
       "1                    1.0                 0.0                     0.0   \n",
       "2                    1.0                 0.0                     0.0   \n",
       "3                    1.0                 0.0                     0.0   \n",
       "4                    0.0                 0.0                     0.0   \n",
       "...                  ...                 ...                     ...   \n",
       "8096                 1.0                 0.0                     0.0   \n",
       "8097                 1.0                 0.0                     0.0   \n",
       "8098                 1.0                 0.0                     0.0   \n",
       "8099                 1.0                 0.0                     0.0   \n",
       "8100                 1.0                 0.0                     0.0   \n",
       "\n",
       "      Card_Category_Silver  \n",
       "0                      0.0  \n",
       "1                      0.0  \n",
       "2                      0.0  \n",
       "3                      0.0  \n",
       "4                      1.0  \n",
       "...                    ...  \n",
       "8096                   0.0  \n",
       "8097                   0.0  \n",
       "8098                   0.0  \n",
       "8099                   0.0  \n",
       "8100                   0.0  \n",
       "\n",
       "[8101 rows x 37 columns]"
      ]
     },
     "execution_count": 36,
     "metadata": {},
     "output_type": "execute_result"
    }
   ],
   "source": [
    "X_train_pr"
   ]
  },
  {
   "cell_type": "code",
   "execution_count": 37,
   "metadata": {
    "ExecuteTime": {
     "end_time": "2021-07-07T13:17:13.138207Z",
     "start_time": "2021-07-07T13:17:13.117216Z"
    }
   },
   "outputs": [
    {
     "data": {
      "text/plain": [
       "[False,\n",
       " False,\n",
       " False,\n",
       " False,\n",
       " False,\n",
       " False,\n",
       " False,\n",
       " False,\n",
       " False,\n",
       " False,\n",
       " False,\n",
       " False,\n",
       " False,\n",
       " False,\n",
       " True,\n",
       " True,\n",
       " True,\n",
       " True,\n",
       " True,\n",
       " True,\n",
       " True,\n",
       " True,\n",
       " True,\n",
       " True,\n",
       " True,\n",
       " True,\n",
       " True,\n",
       " True,\n",
       " True,\n",
       " True,\n",
       " True,\n",
       " True,\n",
       " True,\n",
       " True,\n",
       " True,\n",
       " True,\n",
       " True]"
      ]
     },
     "execution_count": 37,
     "metadata": {},
     "output_type": "execute_result"
    }
   ],
   "source": [
    "smotenc_features = [False] * len(nume_col) + [True] * (\n",
    "    len(X_train_pr.columns) - len(nume_col))\n",
    "smotenc_features"
   ]
  },
  {
   "cell_type": "code",
   "execution_count": 38,
   "metadata": {
    "ExecuteTime": {
     "end_time": "2021-07-07T13:17:13.515736Z",
     "start_time": "2021-07-07T13:17:13.507215Z"
    }
   },
   "outputs": [],
   "source": [
    "oversampling = SMOTENC(categorical_features=smotenc_features, n_jobs=-1)"
   ]
  },
  {
   "cell_type": "code",
   "execution_count": 39,
   "metadata": {
    "ExecuteTime": {
     "end_time": "2021-07-07T13:17:16.710626Z",
     "start_time": "2021-07-07T13:17:13.909357Z"
    }
   },
   "outputs": [],
   "source": [
    "X_train_pr_os, y_train_encoded_os = oversampling.fit_sample(\n",
    "    X_train_pr, y_train_encoded)"
   ]
  },
  {
   "cell_type": "markdown",
   "metadata": {},
   "source": [
    "# MODEL"
   ]
  },
  {
   "cell_type": "code",
   "execution_count": 40,
   "metadata": {
    "ExecuteTime": {
     "end_time": "2021-07-07T13:17:16.726635Z",
     "start_time": "2021-07-07T13:17:16.713624Z"
    }
   },
   "outputs": [],
   "source": [
    "def model_report(model,\n",
    "                 X_train,\n",
    "                 y_train,\n",
    "                 X_test,\n",
    "                 y_test,\n",
    "                 show_train_report=True,\n",
    "                 show_test_report=True,\n",
    "                 fitted_model=False,\n",
    "                 cmap=['cool', 'copper_r'],\n",
    "                 normalize='true',\n",
    "                 figsize=(15, 5)):\n",
    "    \"\"\"\n",
    "    Dispalys model report.\n",
    "    \"\"\"\n",
    "    if fitted_model is False:\n",
    "        model.fit(X_train, y_train)\n",
    "    train = model.score(X_train, y_train)\n",
    "    test = model.score(X_test, y_test)\n",
    "\n",
    "    def str_model_(model):\n",
    "        \"\"\"Helper function to get model class display statement, this text conversion breaks code if \n",
    "        performed in ``model_report`` function's local space. This function is to isolate from the \n",
    "        previous function's local space.\"\"\"\n",
    "        str_model = str(model.__class__).split('.')[-1][:-2]\n",
    "        display(\n",
    "            HTML(\n",
    "                f\"\"\"<strong>Report of {str_model} type model using train-test split dataset.</strong>\"\"\"\n",
    "            ))\n",
    "\n",
    "    str_model_(model)\n",
    "    print(f\"{'*'*90}\")\n",
    "    print(f\"\"\"Train accuracy score: {train.round(4)}\"\"\")\n",
    "    print(f\"\"\"Test accuracy score: {test.round(4)}\"\"\")\n",
    "    if abs(train - test) <= .05:\n",
    "        print(\n",
    "            f\"    No over or underfitting detected, diffrence of scores did not cross 5% thresh hold.\"\n",
    "        )\n",
    "    elif (train - test) > .05:\n",
    "        print(\n",
    "            f\"    Possible Overfitting, diffrence of scores {round(abs(train-test)*100,2)}% crossed 5% thresh hold.\"\n",
    "        )\n",
    "    elif (train - test) < -.05:\n",
    "        print(\n",
    "            f\"    Possible Underfitting, diffrence of scores {round(abs(train-test)*100,2)}% crossed 5% thresh hold.\"\n",
    "        )\n",
    "    print(f\"{'*'*90}\")\n",
    "    print(\"\")\n",
    "\n",
    "    if show_train_report:\n",
    "        print(f'Train Report: ')\n",
    "        print(f\"{'*'*60}\")\n",
    "        # train report\n",
    "        # classification report\n",
    "        print(\n",
    "            metrics.classification_report(y_train,\n",
    "                                          model.predict(X_train)))\n",
    "        print(f\"{'*'*60}\")\n",
    "        # Confusion matrix\n",
    "        fig, ax = plt.subplots(ncols=2, figsize=figsize)\n",
    "        metrics.plot_confusion_matrix(model,\n",
    "                                      X_train,\n",
    "                                      y_train,\n",
    "                                      cmap='cool',\n",
    "                                      normalize='true',\n",
    "                                      ax=ax[0])\n",
    "        ax[0].title.set_text('Confusion Matrix')\n",
    "        # ROC curve\n",
    "        metrics.plot_roc_curve(model,\n",
    "                               X_train,\n",
    "                               y_train,\n",
    "                               color='#0450E7',\n",
    "                               ax=ax[1])\n",
    "        ax[1].plot([0, 1], [0, 1], ls='-.', color='white')\n",
    "        ax[1].title.set_text('ROC Curve')\n",
    "        plt.grid()\n",
    "        plt.tight_layout()\n",
    "        plt.show()\n",
    "\n",
    "    if show_test_report:\n",
    "        # train report\n",
    "        # classification report\n",
    "        print(f'Test Report: ')\n",
    "        print(f\"{'*'*60}\")\n",
    "        print(metrics.classification_report(y_test,\n",
    "                                            model.predict(X_test)))\n",
    "        print(f\"{'*'*60}\")\n",
    "        # Confusion matrix\n",
    "        fig, ax = plt.subplots(ncols=2, figsize=figsize)\n",
    "        metrics.plot_confusion_matrix(model,\n",
    "                                      X_test,\n",
    "                                      y_test,\n",
    "                                      cmap='copper_r',\n",
    "                                      normalize='true',\n",
    "                                      ax=ax[0])\n",
    "        ax[0].title.set_text('Confusion Matrix')\n",
    "        # ROC curve\n",
    "        metrics.plot_roc_curve(model,\n",
    "                               X_test,\n",
    "                               y_test,\n",
    "                               color='gold',\n",
    "                               ax=ax[1])\n",
    "        ax[1].plot([0, 1], [0, 1], ls='-.', color='white')\n",
    "        ax[1].title.set_text('ROC Curve')\n",
    "        plt.grid()\n",
    "        plt.tight_layout()\n",
    "        plt.show()\n",
    "    pass"
   ]
  },
  {
   "cell_type": "code",
   "execution_count": 41,
   "metadata": {
    "ExecuteTime": {
     "end_time": "2021-07-07T13:17:17.073856Z",
     "start_time": "2021-07-07T13:17:16.728630Z"
    }
   },
   "outputs": [
    {
     "ename": "NameError",
     "evalue": "name 'base_model' is not defined",
     "output_type": "error",
     "traceback": [
      "\u001b[1;31m---------------------------------------------------------------------------\u001b[0m",
      "\u001b[1;31mNameError\u001b[0m                                 Traceback (most recent call last)",
      "\u001b[1;32m<ipython-input-41-0d0035bcd80c>\u001b[0m in \u001b[0;36m<module>\u001b[1;34m\u001b[0m\n\u001b[1;32m----> 1\u001b[1;33m \u001b[0mmodel_report\u001b[0m\u001b[1;33m(\u001b[0m\u001b[0mbase_model\u001b[0m\u001b[1;33m,\u001b[0m \u001b[0mX_train_pr_os\u001b[0m\u001b[1;33m,\u001b[0m \u001b[0my_train_encoded_os\u001b[0m\u001b[1;33m,\u001b[0m \u001b[0mX_test_pr\u001b[0m\u001b[1;33m,\u001b[0m \u001b[0my_test_encoded\u001b[0m\u001b[1;33m)\u001b[0m\u001b[1;33m\u001b[0m\u001b[1;33m\u001b[0m\u001b[0m\n\u001b[0m",
      "\u001b[1;31mNameError\u001b[0m: name 'base_model' is not defined"
     ]
    }
   ],
   "source": [
    "model_report(base_model, X_train_pr_os, y_train_encoded_os, X_test_pr, y_test_encoded)"
   ]
  },
  {
   "cell_type": "markdown",
   "metadata": {},
   "source": [
    "## Prediction"
   ]
  },
  {
   "cell_type": "markdown",
   "metadata": {},
   "source": [
    "### Baseline model"
   ]
  },
  {
   "cell_type": "code",
   "execution_count": 42,
   "metadata": {
    "ExecuteTime": {
     "end_time": "2021-07-07T13:17:17.782919Z",
     "start_time": "2021-07-07T13:17:17.769763Z"
    }
   },
   "outputs": [
    {
     "data": {
      "text/plain": [
       "Index(['Attrition_Flag', 'Customer_Age', 'Gender', 'Dependent_count',\n",
       "       'Education_Level', 'Marital_Status', 'Income_Category', 'Card_Category',\n",
       "       'Months_on_book', 'Total_Relationship_Count', 'Months_Inactive_12_mon',\n",
       "       'Contacts_Count_12_mon', 'Credit_Limit', 'Total_Revolving_Bal',\n",
       "       'Avg_Open_To_Buy', 'Total_Amt_Chng_Q4_Q1', 'Total_Trans_Amt',\n",
       "       'Total_Trans_Ct', 'Total_Ct_Chng_Q4_Q1', 'Avg_Utilization_Ratio'],\n",
       "      dtype='object')"
      ]
     },
     "execution_count": 42,
     "metadata": {},
     "output_type": "execute_result"
    }
   ],
   "source": [
    "df.columns"
   ]
  },
  {
   "cell_type": "code",
   "execution_count": 43,
   "metadata": {
    "ExecuteTime": {
     "end_time": "2021-07-07T13:17:22.652241Z",
     "start_time": "2021-07-07T13:17:22.647247Z"
    }
   },
   "outputs": [],
   "source": [
    "base_model = DummyClassifier(strategy='stratified')"
   ]
  },
  {
   "cell_type": "code",
   "execution_count": 44,
   "metadata": {
    "ExecuteTime": {
     "end_time": "2021-07-07T13:17:23.173542Z",
     "start_time": "2021-07-07T13:17:23.164540Z"
    }
   },
   "outputs": [
    {
     "data": {
      "text/plain": [
       "DummyClassifier(strategy='stratified')"
      ]
     },
     "execution_count": 44,
     "metadata": {},
     "output_type": "execute_result"
    }
   ],
   "source": [
    "base_model.fit(X_train_pr, y_train_encoded)"
   ]
  },
  {
   "cell_type": "code",
   "execution_count": 45,
   "metadata": {
    "ExecuteTime": {
     "end_time": "2021-07-07T13:17:23.692674Z",
     "start_time": "2021-07-07T13:17:23.683682Z"
    }
   },
   "outputs": [
    {
     "name": "stdout",
     "output_type": "stream",
     "text": [
      "0.73 0.73\n"
     ]
    }
   ],
   "source": [
    "train = base_model.score(X_train_pr, y_train_encoded)\n",
    "test = base_model.score(X_test_pr, y_test_encoded)\n",
    "print(round(train,2), round(test,2))"
   ]
  },
  {
   "cell_type": "code",
   "execution_count": 46,
   "metadata": {
    "ExecuteTime": {
     "end_time": "2021-07-07T13:17:24.586051Z",
     "start_time": "2021-07-07T13:17:24.571571Z"
    }
   },
   "outputs": [
    {
     "name": "stdout",
     "output_type": "stream",
     "text": [
      "              precision    recall  f1-score   support\n",
      "\n",
      "           0       0.16      0.15      0.16      1280\n",
      "           1       0.84      0.85      0.85      6821\n",
      "\n",
      "    accuracy                           0.74      8101\n",
      "   macro avg       0.50      0.50      0.50      8101\n",
      "weighted avg       0.74      0.74      0.74      8101\n",
      "\n"
     ]
    }
   ],
   "source": [
    "print(\n",
    "    metrics.classification_report(y_train_encoded,\n",
    "                                  base_model.predict(X_train_pr)))"
   ]
  },
  {
   "cell_type": "code",
   "execution_count": 47,
   "metadata": {
    "ExecuteTime": {
     "end_time": "2021-07-07T13:17:25.647063Z",
     "start_time": "2021-07-07T13:17:25.241906Z"
    }
   },
   "outputs": [
    {
     "data": {
      "image/png": "[encoded data removed]",
      "text/plain": [
       "<Figure size 1080x360 with 3 Axes>"
      ]
     },
     "metadata": {},
     "output_type": "display_data"
    }
   ],
   "source": [
    "fig, ax = plt.subplots(ncols=2, figsize=(15, 5))\n",
    "metrics.plot_confusion_matrix(base_model,\n",
    "                              X_test_pr,\n",
    "                              y_test_encoded,\n",
    "                              cmap='copper_r',\n",
    "                              normalize='true',\n",
    "                              ax=ax[0])\n",
    "plt.grid()\n",
    "metrics.plot_roc_curve(base_model, X_test_pr, y_test_encoded, ax=ax[1])\n",
    "plt.tight_layout()\n",
    "plt.show()"
   ]
  },
  {
   "cell_type": "markdown",
   "metadata": {},
   "source": [
    "### Logistic Regression"
   ]
  },
  {
   "cell_type": "code",
   "execution_count": null,
   "metadata": {},
   "outputs": [],
   "source": []
  },
  {
   "cell_type": "code",
   "execution_count": null,
   "metadata": {},
   "outputs": [],
   "source": []
  },
  {
   "cell_type": "markdown",
   "metadata": {},
   "source": [
    "### Random Forest"
   ]
  },
  {
   "cell_type": "markdown",
   "metadata": {},
   "source": [
    "#### OG data"
   ]
  },
  {
   "cell_type": "code",
   "execution_count": 48,
   "metadata": {
    "ExecuteTime": {
     "end_time": "2021-07-07T13:17:30.092251Z",
     "start_time": "2021-07-07T13:17:28.851926Z"
    }
   },
   "outputs": [
    {
     "data": {
      "text/html": [
       "<strong>Report of RandomForestClassifier type model using train-test split dataset.</strong>"
      ],
      "text/plain": [
       "<IPython.core.display.HTML object>"
      ]
     },
     "metadata": {},
     "output_type": "display_data"
    },
    {
     "name": "stdout",
     "output_type": "stream",
     "text": [
      "******************************************************************************************\n",
      "Train accuracy score: 1.0\n",
      "Test accuracy score: 0.9595\n",
      "    No over or underfitting detected, diffrence of scores did not cross 5% thresh hold.\n",
      "******************************************************************************************\n",
      "\n",
      "Train Report: \n",
      "************************************************************\n",
      "              precision    recall  f1-score   support\n",
      "\n",
      "           0       1.00      1.00      1.00      1280\n",
      "           1       1.00      1.00      1.00      6821\n",
      "\n",
      "    accuracy                           1.00      8101\n",
      "   macro avg       1.00      1.00      1.00      8101\n",
      "weighted avg       1.00      1.00      1.00      8101\n",
      "\n",
      "************************************************************\n"
     ]
    },
    {
     "data": {
      "image/png": "[encoded data removed]",
      "text/plain": [
       "<Figure size 1080x360 with 3 Axes>"
      ]
     },
     "metadata": {},
     "output_type": "display_data"
    },
    {
     "name": "stdout",
     "output_type": "stream",
     "text": [
      "Test Report: \n",
      "************************************************************\n",
      "              precision    recall  f1-score   support\n",
      "\n",
      "           0       0.93      0.82      0.87       347\n",
      "           1       0.96      0.99      0.98      1679\n",
      "\n",
      "    accuracy                           0.96      2026\n",
      "   macro avg       0.95      0.90      0.93      2026\n",
      "weighted avg       0.96      0.96      0.96      2026\n",
      "\n",
      "************************************************************\n"
     ]
    },
    {
     "data": {
      "image/png": "[encoded data removed]",
      "text/plain": [
       "<Figure size 1080x360 with 3 Axes>"
      ]
     },
     "metadata": {},
     "output_type": "display_data"
    }
   ],
   "source": [
    "clf_rf = RandomForestClassifier(n_jobs=-1)\n",
    "\n",
    "model_report(clf_rf, X_train_pr, y_train_encoded, X_test_pr, y_test_encoded)"
   ]
  },
  {
   "cell_type": "markdown",
   "metadata": {},
   "source": [
    "#### OS data"
   ]
  },
  {
   "cell_type": "code",
   "execution_count": 49,
   "metadata": {
    "ExecuteTime": {
     "end_time": "2021-07-07T13:17:31.578973Z",
     "start_time": "2021-07-07T13:17:30.096245Z"
    }
   },
   "outputs": [
    {
     "data": {
      "text/html": [
       "<strong>Report of RandomForestClassifier type model using train-test split dataset.</strong>"
      ],
      "text/plain": [
       "<IPython.core.display.HTML object>"
      ]
     },
     "metadata": {},
     "output_type": "display_data"
    },
    {
     "name": "stdout",
     "output_type": "stream",
     "text": [
      "******************************************************************************************\n",
      "Train accuracy score: 1.0\n",
      "Test accuracy score: 0.9205\n",
      "    Possible Overfitting, diffrence of scores 7.95% crossed 5% thresh hold.\n",
      "******************************************************************************************\n",
      "\n",
      "Train Report: \n",
      "************************************************************\n",
      "              precision    recall  f1-score   support\n",
      "\n",
      "           0       1.00      1.00      1.00      6821\n",
      "           1       1.00      1.00      1.00      6821\n",
      "\n",
      "    accuracy                           1.00     13642\n",
      "   macro avg       1.00      1.00      1.00     13642\n",
      "weighted avg       1.00      1.00      1.00     13642\n",
      "\n",
      "************************************************************\n"
     ]
    },
    {
     "data": {
      "image/png": "[encoded data removed]",
      "text/plain": [
       "<Figure size 1080x360 with 3 Axes>"
      ]
     },
     "metadata": {},
     "output_type": "display_data"
    },
    {
     "name": "stdout",
     "output_type": "stream",
     "text": [
      "Test Report: \n",
      "************************************************************\n",
      "              precision    recall  f1-score   support\n",
      "\n",
      "           0       0.70      0.93      0.80       347\n",
      "           1       0.98      0.92      0.95      1679\n",
      "\n",
      "    accuracy                           0.92      2026\n",
      "   macro avg       0.84      0.92      0.87      2026\n",
      "weighted avg       0.94      0.92      0.92      2026\n",
      "\n",
      "************************************************************\n"
     ]
    },
    {
     "data": {
      "image/png": "[encoded data removed]",
      "text/plain": [
       "<Figure size 1080x360 with 3 Axes>"
      ]
     },
     "metadata": {},
     "output_type": "display_data"
    }
   ],
   "source": [
    "clf_rf = RandomForestClassifier(n_jobs=-1)\n",
    "model_report(clf_rf, X_train_pr_os, y_train_encoded_os, X_test_pr, y_test_encoded)"
   ]
  },
  {
   "cell_type": "markdown",
   "metadata": {},
   "source": [
    "#### Grid Search"
   ]
  },
  {
   "cell_type": "code",
   "execution_count": 50,
   "metadata": {
    "ExecuteTime": {
     "end_time": "2021-07-07T13:17:32.286016Z",
     "start_time": "2021-07-07T13:17:32.271343Z"
    }
   },
   "outputs": [
    {
     "data": {
      "text/plain": [
       "GridSearchCV(estimator=RandomForestClassifier(n_jobs=-1), n_jobs=-1,\n",
       "             param_grid={'class_weight': ['balanced', 'balanced_subsample'],\n",
       "                         'criterion': ['gini', 'entropy'],\n",
       "                         'max_depth': [2, 3, 4, None],\n",
       "                         'min_samples_leaf': [1, 2, 3, 4]},\n",
       "             scoring='precision')"
      ]
     },
     "execution_count": 50,
     "metadata": {},
     "output_type": "execute_result"
    }
   ],
   "source": [
    "rf_clf_gs = RandomForestClassifier(n_jobs=-1)\n",
    "params = {\n",
    "    'criterion': [\"gini\", \"entropy\"],\n",
    "    'max_depth': [2, 3, 4, None],\n",
    "    'min_samples_leaf': [1, 2, 3, 4],\n",
    "    'class_weight': [\"balanced\", \"balanced_subsample\"]\n",
    "}\n",
    "gridsearch_rf_clf = GridSearchCV(estimator=rf_clf_gs,\n",
    "                                 param_grid=params,\n",
    "                                 n_jobs=-1,\n",
    "                                 scoring='precision')\n",
    "gridsearch_rf_clf"
   ]
  },
  {
   "cell_type": "code",
   "execution_count": 51,
   "metadata": {
    "ExecuteTime": {
     "end_time": "2021-07-07T13:17:32.821799Z",
     "start_time": "2021-07-07T13:17:32.809218Z"
    }
   },
   "outputs": [],
   "source": [
    "import warnings"
   ]
  },
  {
   "cell_type": "code",
   "execution_count": 52,
   "metadata": {
    "ExecuteTime": {
     "end_time": "2021-07-07T13:18:16.613901Z",
     "start_time": "2021-07-07T13:17:33.478937Z"
    }
   },
   "outputs": [
    {
     "name": "stdout",
     "output_type": "stream",
     "text": [
      "Best Parameters by gridsearch:\t{'class_weight': 'balanced_subsample', 'criterion': 'entropy', 'max_depth': None, 'min_samples_leaf': 1}\n",
      "Best Estimator by gridsearch:\tRandomForestClassifier(class_weight='balanced_subsample', criterion='entropy',\n",
      "                       n_jobs=-1)\n"
     ]
    }
   ],
   "source": [
    "with warnings.catch_warnings():\n",
    "    warnings.simplefilter(\"ignore\")\n",
    "    gridsearch_rf_clf.fit(X_train_pr_os, y_train_encoded_os)\n",
    "print(f\"Best Parameters by gridsearch:\\t{gridsearch_rf_clf.best_params_}\")\n",
    "print(f\"Best Estimator by gridsearch:\\t{gridsearch_rf_clf.best_estimator_}\")\n",
    "\n",
    "rf_clf_gs_best = gridsearch_rf_clf.best_estimator_"
   ]
  },
  {
   "cell_type": "code",
   "execution_count": 53,
   "metadata": {
    "ExecuteTime": {
     "end_time": "2021-07-07T13:18:18.419639Z",
     "start_time": "2021-07-07T13:18:16.616909Z"
    }
   },
   "outputs": [
    {
     "data": {
      "text/html": [
       "<strong>Report of RandomForestClassifier type model using train-test split dataset.</strong>"
      ],
      "text/plain": [
       "<IPython.core.display.HTML object>"
      ]
     },
     "metadata": {},
     "output_type": "display_data"
    },
    {
     "name": "stdout",
     "output_type": "stream",
     "text": [
      "******************************************************************************************\n",
      "Train accuracy score: 1.0\n",
      "Test accuracy score: 0.9072\n",
      "    Possible Overfitting, diffrence of scores 9.28% crossed 5% thresh hold.\n",
      "******************************************************************************************\n",
      "\n",
      "Train Report: \n",
      "************************************************************\n",
      "              precision    recall  f1-score   support\n",
      "\n",
      "           0       1.00      1.00      1.00      6821\n",
      "           1       1.00      1.00      1.00      6821\n",
      "\n",
      "    accuracy                           1.00     13642\n",
      "   macro avg       1.00      1.00      1.00     13642\n",
      "weighted avg       1.00      1.00      1.00     13642\n",
      "\n",
      "************************************************************\n"
     ]
    },
    {
     "data": {
      "image/png": "[encoded data removed]",
      "text/plain": [
       "<Figure size 1080x360 with 3 Axes>"
      ]
     },
     "metadata": {},
     "output_type": "display_data"
    },
    {
     "name": "stdout",
     "output_type": "stream",
     "text": [
      "Test Report: \n",
      "************************************************************\n",
      "              precision    recall  f1-score   support\n",
      "\n",
      "           0       0.67      0.92      0.77       347\n",
      "           1       0.98      0.90      0.94      1679\n",
      "\n",
      "    accuracy                           0.91      2026\n",
      "   macro avg       0.82      0.91      0.86      2026\n",
      "weighted avg       0.93      0.91      0.91      2026\n",
      "\n",
      "************************************************************\n"
     ]
    },
    {
     "data": {
      "image/png": "[encoded data removed]",
      "text/plain": [
       "<Figure size 1080x360 with 3 Axes>"
      ]
     },
     "metadata": {},
     "output_type": "display_data"
    }
   ],
   "source": [
    "model_report(rf_clf_gs_best, X_train_pr_os, y_train_encoded_os, X_test_pr,\n",
    "             y_test_encoded)"
   ]
  },
  {
   "cell_type": "code",
   "execution_count": null,
   "metadata": {},
   "outputs": [],
   "source": []
  },
  {
   "cell_type": "markdown",
   "metadata": {},
   "source": [
    "### XGBoost"
   ]
  },
  {
   "cell_type": "code",
   "execution_count": 54,
   "metadata": {
    "ExecuteTime": {
     "end_time": "2021-07-07T13:18:20.430558Z",
     "start_time": "2021-07-07T13:18:18.422636Z"
    }
   },
   "outputs": [
    {
     "data": {
      "text/html": [
       "<strong>Report of XGBClassifier type model using train-test split dataset.</strong>"
      ],
      "text/plain": [
       "<IPython.core.display.HTML object>"
      ]
     },
     "metadata": {},
     "output_type": "display_data"
    },
    {
     "name": "stdout",
     "output_type": "stream",
     "text": [
      "******************************************************************************************\n",
      "Train accuracy score: 1.0\n",
      "Test accuracy score: 0.8317\n",
      "    Possible Overfitting, diffrence of scores 16.83% crossed 5% thresh hold.\n",
      "******************************************************************************************\n",
      "\n",
      "Train Report: \n",
      "************************************************************\n",
      "              precision    recall  f1-score   support\n",
      "\n",
      "           0       1.00      1.00      1.00      6821\n",
      "           1       1.00      1.00      1.00      6821\n",
      "\n",
      "    accuracy                           1.00     13642\n",
      "   macro avg       1.00      1.00      1.00     13642\n",
      "weighted avg       1.00      1.00      1.00     13642\n",
      "\n",
      "************************************************************\n"
     ]
    },
    {
     "data": {
      "image/png": "[encoded data removed]",
      "text/plain": [
       "<Figure size 1080x360 with 3 Axes>"
      ]
     },
     "metadata": {},
     "output_type": "display_data"
    },
    {
     "name": "stdout",
     "output_type": "stream",
     "text": [
      "Test Report: \n",
      "************************************************************\n",
      "              precision    recall  f1-score   support\n",
      "\n",
      "           0       0.50      0.99      0.67       347\n",
      "           1       1.00      0.80      0.89      1679\n",
      "\n",
      "    accuracy                           0.83      2026\n",
      "   macro avg       0.75      0.90      0.78      2026\n",
      "weighted avg       0.91      0.83      0.85      2026\n",
      "\n",
      "************************************************************\n"
     ]
    },
    {
     "data": {
      "image/png": "[encoded data removed]",
      "text/plain": [
       "<Figure size 1080x360 with 3 Axes>"
      ]
     },
     "metadata": {},
     "output_type": "display_data"
    }
   ],
   "source": [
    "clf_xg = XGBClassifier(n_jobs=-1)\n",
    "model_report(clf_xg, X_train_pr_os, y_train_encoded_os, X_test_pr, y_test_encoded)"
   ]
  },
  {
   "cell_type": "code",
   "execution_count": 55,
   "metadata": {
    "ExecuteTime": {
     "end_time": "2021-07-07T13:18:21.824901Z",
     "start_time": "2021-07-07T13:18:20.431539Z"
    }
   },
   "outputs": [
    {
     "data": {
      "text/html": [
       "<strong>Report of XGBRFClassifier type model using train-test split dataset.</strong>"
      ],
      "text/plain": [
       "<IPython.core.display.HTML object>"
      ]
     },
     "metadata": {},
     "output_type": "display_data"
    },
    {
     "name": "stdout",
     "output_type": "stream",
     "text": [
      "******************************************************************************************\n",
      "Train accuracy score: 0.9486\n",
      "Test accuracy score: 0.8983\n",
      "    Possible Overfitting, diffrence of scores 5.03% crossed 5% thresh hold.\n",
      "******************************************************************************************\n",
      "\n",
      "Train Report: \n",
      "************************************************************\n",
      "              precision    recall  f1-score   support\n",
      "\n",
      "           0       0.95      0.95      0.95      6821\n",
      "           1       0.95      0.95      0.95      6821\n",
      "\n",
      "    accuracy                           0.95     13642\n",
      "   macro avg       0.95      0.95      0.95     13642\n",
      "weighted avg       0.95      0.95      0.95     13642\n",
      "\n",
      "************************************************************\n"
     ]
    },
    {
     "data": {
      "image/png": "[encoded data removed]",
      "text/plain": [
       "<Figure size 1080x360 with 3 Axes>"
      ]
     },
     "metadata": {},
     "output_type": "display_data"
    },
    {
     "name": "stdout",
     "output_type": "stream",
     "text": [
      "Test Report: \n",
      "************************************************************\n",
      "              precision    recall  f1-score   support\n",
      "\n",
      "           0       0.64      0.91      0.75       347\n",
      "           1       0.98      0.90      0.94      1679\n",
      "\n",
      "    accuracy                           0.90      2026\n",
      "   macro avg       0.81      0.90      0.85      2026\n",
      "weighted avg       0.92      0.90      0.90      2026\n",
      "\n",
      "************************************************************\n"
     ]
    },
    {
     "data": {
      "image/png": "[encoded data removed]",
      "text/plain": [
       "<Figure size 1080x360 with 3 Axes>"
      ]
     },
     "metadata": {},
     "output_type": "display_data"
    }
   ],
   "source": [
    "clf_xg = XGBRFClassifier(n_jobs=-1)\n",
    "model_report(clf_xg, X_train_pr_os, y_train_encoded_os, X_test_pr, y_test_encoded)"
   ]
  },
  {
   "cell_type": "markdown",
   "metadata": {},
   "source": [
    "### SVC"
   ]
  },
  {
   "cell_type": "code",
   "execution_count": 56,
   "metadata": {
    "ExecuteTime": {
     "end_time": "2021-07-07T13:18:21.840031Z",
     "start_time": "2021-07-07T13:18:21.826912Z"
    }
   },
   "outputs": [],
   "source": [
    "# clf_svc = SVC(kernel='linear', C=100, class_weight='balanced')\n",
    "# clf_svc = SVC(kernel='rbf', C=1, gamma='auto', class_weight='balanced', tol=.8)\n",
    "# clf_svc = SVC(kernel='poly', degree=8, C=1, gamma='scale', class_weight='balanced')\n",
    "clf_svc = SVC(kernel='sigmoid', C=2, class_weight='balanced')"
   ]
  },
  {
   "cell_type": "code",
   "execution_count": 57,
   "metadata": {
    "ExecuteTime": {
     "end_time": "2021-07-07T13:18:32.224319Z",
     "start_time": "2021-07-07T13:18:21.843028Z"
    }
   },
   "outputs": [
    {
     "data": {
      "text/html": [
       "<strong>Report of SVC type model using train-test split dataset.</strong>"
      ],
      "text/plain": [
       "<IPython.core.display.HTML object>"
      ]
     },
     "metadata": {},
     "output_type": "display_data"
    },
    {
     "name": "stdout",
     "output_type": "stream",
     "text": [
      "******************************************************************************************\n",
      "Train accuracy score: 0.7678\n",
      "Test accuracy score: 0.7453\n",
      "    No over or underfitting detected, diffrence of scores did not cross 5% thresh hold.\n",
      "******************************************************************************************\n",
      "\n",
      "Train Report: \n",
      "************************************************************\n",
      "              precision    recall  f1-score   support\n",
      "\n",
      "           0       0.77      0.77      0.77      6821\n",
      "           1       0.77      0.77      0.77      6821\n",
      "\n",
      "    accuracy                           0.77     13642\n",
      "   macro avg       0.77      0.77      0.77     13642\n",
      "weighted avg       0.77      0.77      0.77     13642\n",
      "\n",
      "************************************************************\n"
     ]
    },
    {
     "data": {
      "image/png": "[encoded data removed]",
      "text/plain": [
       "<Figure size 1080x360 with 3 Axes>"
      ]
     },
     "metadata": {},
     "output_type": "display_data"
    },
    {
     "name": "stdout",
     "output_type": "stream",
     "text": [
      "Test Report: \n",
      "************************************************************\n",
      "              precision    recall  f1-score   support\n",
      "\n",
      "           0       0.37      0.67      0.47       347\n",
      "           1       0.92      0.76      0.83      1679\n",
      "\n",
      "    accuracy                           0.75      2026\n",
      "   macro avg       0.64      0.72      0.65      2026\n",
      "weighted avg       0.82      0.75      0.77      2026\n",
      "\n",
      "************************************************************\n"
     ]
    },
    {
     "data": {
      "image/png": "[encoded data removed]",
      "text/plain": [
       "<Figure size 1080x360 with 3 Axes>"
      ]
     },
     "metadata": {},
     "output_type": "display_data"
    }
   ],
   "source": [
    "model_report(clf_svc, X_train_pr_os, y_train_encoded_os, X_test_pr, y_test_encoded)"
   ]
  },
  {
   "cell_type": "markdown",
   "metadata": {},
   "source": [
    "## Segmentation"
   ]
  },
  {
   "cell_type": "code",
   "execution_count": 58,
   "metadata": {
    "ExecuteTime": {
     "end_time": "2021-07-07T13:18:32.239730Z",
     "start_time": "2021-07-07T13:18:32.226314Z"
    }
   },
   "outputs": [],
   "source": [
    "from sklearn.cluster import KMeans"
   ]
  },
  {
   "cell_type": "code",
   "execution_count": 59,
   "metadata": {
    "ExecuteTime": {
     "end_time": "2021-07-07T13:18:32.271719Z",
     "start_time": "2021-07-07T13:18:32.242717Z"
    }
   },
   "outputs": [
    {
     "name": "stdout",
     "output_type": "stream",
     "text": [
      "<class 'pandas.core.frame.DataFrame'>\n",
      "RangeIndex: 10127 entries, 0 to 10126\n",
      "Data columns (total 20 columns):\n",
      " #   Column                    Non-Null Count  Dtype  \n",
      "---  ------                    --------------  -----  \n",
      " 0   Attrition_Flag            10127 non-null  object \n",
      " 1   Customer_Age              10127 non-null  int64  \n",
      " 2   Gender                    10127 non-null  object \n",
      " 3   Dependent_count           10127 non-null  int64  \n",
      " 4   Education_Level           10127 non-null  object \n",
      " 5   Marital_Status            10127 non-null  object \n",
      " 6   Income_Category           10127 non-null  object \n",
      " 7   Card_Category             10127 non-null  object \n",
      " 8   Months_on_book            10127 non-null  int64  \n",
      " 9   Total_Relationship_Count  10127 non-null  int64  \n",
      " 10  Months_Inactive_12_mon    10127 non-null  int64  \n",
      " 11  Contacts_Count_12_mon     10127 non-null  int64  \n",
      " 12  Credit_Limit              10127 non-null  float64\n",
      " 13  Total_Revolving_Bal       10127 non-null  int64  \n",
      " 14  Avg_Open_To_Buy           10127 non-null  float64\n",
      " 15  Total_Amt_Chng_Q4_Q1      10127 non-null  float64\n",
      " 16  Total_Trans_Amt           10127 non-null  int64  \n",
      " 17  Total_Trans_Ct            10127 non-null  int64  \n",
      " 18  Total_Ct_Chng_Q4_Q1       10127 non-null  float64\n",
      " 19  Avg_Utilization_Ratio     10127 non-null  float64\n",
      "dtypes: float64(5), int64(9), object(6)\n",
      "memory usage: 1.5+ MB\n"
     ]
    }
   ],
   "source": [
    "df.info()"
   ]
  },
  {
   "cell_type": "code",
   "execution_count": 60,
   "metadata": {
    "ExecuteTime": {
     "end_time": "2021-07-07T13:18:32.303740Z",
     "start_time": "2021-07-07T13:18:32.273714Z"
    }
   },
   "outputs": [
    {
     "data": {
      "text/html": [
       "<div>\n",
       "<style scoped>\n",
       "    .dataframe tbody tr th:only-of-type {\n",
       "        vertical-align: middle;\n",
       "    }\n",
       "\n",
       "    .dataframe tbody tr th {\n",
       "        vertical-align: top;\n",
       "    }\n",
       "\n",
       "    .dataframe thead th {\n",
       "        text-align: right;\n",
       "    }\n",
       "</style>\n",
       "<table border=\"1\" class=\"dataframe\">\n",
       "  <thead>\n",
       "    <tr style=\"text-align: right;\">\n",
       "      <th></th>\n",
       "      <th>Customer_Age</th>\n",
       "      <th>Gender</th>\n",
       "      <th>Dependent_count</th>\n",
       "      <th>Education_Level</th>\n",
       "      <th>Marital_Status</th>\n",
       "      <th>Income_Category</th>\n",
       "      <th>Card_Category</th>\n",
       "      <th>Months_on_book</th>\n",
       "      <th>Total_Relationship_Count</th>\n",
       "      <th>Months_Inactive_12_mon</th>\n",
       "      <th>Contacts_Count_12_mon</th>\n",
       "      <th>Credit_Limit</th>\n",
       "      <th>Total_Revolving_Bal</th>\n",
       "      <th>Avg_Open_To_Buy</th>\n",
       "      <th>Total_Amt_Chng_Q4_Q1</th>\n",
       "      <th>Total_Trans_Amt</th>\n",
       "      <th>Total_Trans_Ct</th>\n",
       "      <th>Total_Ct_Chng_Q4_Q1</th>\n",
       "      <th>Avg_Utilization_Ratio</th>\n",
       "    </tr>\n",
       "  </thead>\n",
       "  <tbody>\n",
       "    <tr>\n",
       "      <th>7684</th>\n",
       "      <td>55</td>\n",
       "      <td>M</td>\n",
       "      <td>3</td>\n",
       "      <td>Uneducated</td>\n",
       "      <td>Single</td>\n",
       "      <td>Above_120K</td>\n",
       "      <td>Blue</td>\n",
       "      <td>48</td>\n",
       "      <td>5</td>\n",
       "      <td>2</td>\n",
       "      <td>2</td>\n",
       "      <td>3088.0</td>\n",
       "      <td>1743</td>\n",
       "      <td>1345.0</td>\n",
       "      <td>0.766</td>\n",
       "      <td>3906</td>\n",
       "      <td>68</td>\n",
       "      <td>0.659</td>\n",
       "      <td>0.564</td>\n",
       "    </tr>\n",
       "    <tr>\n",
       "      <th>7819</th>\n",
       "      <td>42</td>\n",
       "      <td>F</td>\n",
       "      <td>4</td>\n",
       "      <td>College</td>\n",
       "      <td>Single</td>\n",
       "      <td>40K_to_60K</td>\n",
       "      <td>Blue</td>\n",
       "      <td>36</td>\n",
       "      <td>3</td>\n",
       "      <td>1</td>\n",
       "      <td>2</td>\n",
       "      <td>2575.0</td>\n",
       "      <td>2136</td>\n",
       "      <td>439.0</td>\n",
       "      <td>0.722</td>\n",
       "      <td>5267</td>\n",
       "      <td>83</td>\n",
       "      <td>0.886</td>\n",
       "      <td>0.830</td>\n",
       "    </tr>\n",
       "    <tr>\n",
       "      <th>7616</th>\n",
       "      <td>43</td>\n",
       "      <td>F</td>\n",
       "      <td>5</td>\n",
       "      <td>Graduate</td>\n",
       "      <td>Single</td>\n",
       "      <td>Unknown</td>\n",
       "      <td>Blue</td>\n",
       "      <td>34</td>\n",
       "      <td>6</td>\n",
       "      <td>6</td>\n",
       "      <td>3</td>\n",
       "      <td>4607.0</td>\n",
       "      <td>2440</td>\n",
       "      <td>2167.0</td>\n",
       "      <td>0.646</td>\n",
       "      <td>4825</td>\n",
       "      <td>77</td>\n",
       "      <td>0.878</td>\n",
       "      <td>0.530</td>\n",
       "    </tr>\n",
       "    <tr>\n",
       "      <th>3648</th>\n",
       "      <td>41</td>\n",
       "      <td>F</td>\n",
       "      <td>3</td>\n",
       "      <td>High School</td>\n",
       "      <td>Single</td>\n",
       "      <td>Less_than_40K</td>\n",
       "      <td>Silver</td>\n",
       "      <td>36</td>\n",
       "      <td>6</td>\n",
       "      <td>1</td>\n",
       "      <td>3</td>\n",
       "      <td>11533.0</td>\n",
       "      <td>1418</td>\n",
       "      <td>10115.0</td>\n",
       "      <td>0.546</td>\n",
       "      <td>4038</td>\n",
       "      <td>63</td>\n",
       "      <td>0.615</td>\n",
       "      <td>0.123</td>\n",
       "    </tr>\n",
       "    <tr>\n",
       "      <th>7360</th>\n",
       "      <td>53</td>\n",
       "      <td>F</td>\n",
       "      <td>2</td>\n",
       "      <td>Graduate</td>\n",
       "      <td>Single</td>\n",
       "      <td>Less_than_40K</td>\n",
       "      <td>Blue</td>\n",
       "      <td>38</td>\n",
       "      <td>4</td>\n",
       "      <td>2</td>\n",
       "      <td>3</td>\n",
       "      <td>2375.0</td>\n",
       "      <td>1353</td>\n",
       "      <td>1022.0</td>\n",
       "      <td>0.804</td>\n",
       "      <td>5000</td>\n",
       "      <td>76</td>\n",
       "      <td>0.617</td>\n",
       "      <td>0.570</td>\n",
       "    </tr>\n",
       "  </tbody>\n",
       "</table>\n",
       "</div>"
      ],
      "text/plain": [
       "      Customer_Age Gender  Dependent_count Education_Level Marital_Status  \\\n",
       "7684            55      M                3      Uneducated         Single   \n",
       "7819            42      F                4         College         Single   \n",
       "7616            43      F                5        Graduate         Single   \n",
       "3648            41      F                3     High School         Single   \n",
       "7360            53      F                2        Graduate         Single   \n",
       "\n",
       "     Income_Category Card_Category  Months_on_book  Total_Relationship_Count  \\\n",
       "7684      Above_120K          Blue              48                         5   \n",
       "7819      40K_to_60K          Blue              36                         3   \n",
       "7616         Unknown          Blue              34                         6   \n",
       "3648   Less_than_40K        Silver              36                         6   \n",
       "7360   Less_than_40K          Blue              38                         4   \n",
       "\n",
       "      Months_Inactive_12_mon  Contacts_Count_12_mon  Credit_Limit  \\\n",
       "7684                       2                      2        3088.0   \n",
       "7819                       1                      2        2575.0   \n",
       "7616                       6                      3        4607.0   \n",
       "3648                       1                      3       11533.0   \n",
       "7360                       2                      3        2375.0   \n",
       "\n",
       "      Total_Revolving_Bal  Avg_Open_To_Buy  Total_Amt_Chng_Q4_Q1  \\\n",
       "7684                 1743           1345.0                 0.766   \n",
       "7819                 2136            439.0                 0.722   \n",
       "7616                 2440           2167.0                 0.646   \n",
       "3648                 1418          10115.0                 0.546   \n",
       "7360                 1353           1022.0                 0.804   \n",
       "\n",
       "      Total_Trans_Amt  Total_Trans_Ct  Total_Ct_Chng_Q4_Q1  \\\n",
       "7684             3906              68                0.659   \n",
       "7819             5267              83                0.886   \n",
       "7616             4825              77                0.878   \n",
       "3648             4038              63                0.615   \n",
       "7360             5000              76                0.617   \n",
       "\n",
       "      Avg_Utilization_Ratio  \n",
       "7684                  0.564  \n",
       "7819                  0.830  \n",
       "7616                  0.530  \n",
       "3648                  0.123  \n",
       "7360                  0.570  "
      ]
     },
     "execution_count": 60,
     "metadata": {},
     "output_type": "execute_result"
    }
   ],
   "source": [
    "seg_df = df.drop(columns='Attrition_Flag').copy()\n",
    "seg_df.sample(5)"
   ]
  },
  {
   "cell_type": "code",
   "execution_count": 61,
   "metadata": {
    "ExecuteTime": {
     "end_time": "2021-07-07T13:18:32.319719Z",
     "start_time": "2021-07-07T13:18:32.305713Z"
    }
   },
   "outputs": [],
   "source": [
    "nume_col = seg_df.select_dtypes('number').columns.to_list()\n",
    "cate_col = seg_df.select_dtypes('object').columns.to_list()"
   ]
  },
  {
   "cell_type": "code",
   "execution_count": 62,
   "metadata": {
    "ExecuteTime": {
     "end_time": "2021-07-07T13:18:32.335727Z",
     "start_time": "2021-07-07T13:18:32.321721Z"
    }
   },
   "outputs": [],
   "source": [
    "scaler = MinMaxScaler()\n",
    "encoder = OrdinalEncoder()"
   ]
  },
  {
   "cell_type": "code",
   "execution_count": 63,
   "metadata": {
    "ExecuteTime": {
     "end_time": "2021-07-07T13:18:32.351737Z",
     "start_time": "2021-07-07T13:18:32.337710Z"
    }
   },
   "outputs": [],
   "source": [
    "# pipeline for processing categorical features\n",
    "pipe_cate = Pipeline([('ord_en', encoder)])\n",
    "# pipeline for processing numerical features\n",
    "pipe_nume = Pipeline([('scaler', scaler)])\n",
    "preprocessor = ColumnTransformer([('nume_feat', pipe_nume, nume_col),\n",
    "                                  ('cate_feat', pipe_cate, cate_col)])"
   ]
  },
  {
   "cell_type": "code",
   "execution_count": 65,
   "metadata": {
    "ExecuteTime": {
     "end_time": "2021-07-07T13:20:26.467138Z",
     "start_time": "2021-07-07T13:20:26.423141Z"
    }
   },
   "outputs": [
    {
     "data": {
      "text/plain": [
       "ColumnTransformer(transformers=[('nume_feat',\n",
       "                                 Pipeline(steps=[('scaler', MinMaxScaler())]),\n",
       "                                 ['Customer_Age', 'Dependent_count',\n",
       "                                  'Months_on_book', 'Total_Relationship_Count',\n",
       "                                  'Months_Inactive_12_mon',\n",
       "                                  'Contacts_Count_12_mon', 'Credit_Limit',\n",
       "                                  'Total_Revolving_Bal', 'Avg_Open_To_Buy',\n",
       "                                  'Total_Amt_Chng_Q4_Q1', 'Total_Trans_Amt',\n",
       "                                  'Total_Trans_Ct', 'Total_Ct_Chng_Q4_Q1',\n",
       "                                  'Avg_Utilization_Ratio']),\n",
       "                                ('cate_feat',\n",
       "                                 Pipeline(steps=[('ord_en', OrdinalEncoder())]),\n",
       "                                 ['Gender', 'Education_Level', 'Marital_Status',\n",
       "                                  'Income_Category', 'Card_Category'])])"
      ]
     },
     "execution_count": 65,
     "metadata": {},
     "output_type": "execute_result"
    }
   ],
   "source": [
    "preprocessor.fit(seg_df)"
   ]
  },
  {
   "cell_type": "code",
   "execution_count": 66,
   "metadata": {
    "ExecuteTime": {
     "end_time": "2021-07-07T13:20:27.438091Z",
     "start_time": "2021-07-07T13:20:27.381971Z"
    }
   },
   "outputs": [
    {
     "data": {
      "text/html": [
       "<div>\n",
       "<style scoped>\n",
       "    .dataframe tbody tr th:only-of-type {\n",
       "        vertical-align: middle;\n",
       "    }\n",
       "\n",
       "    .dataframe tbody tr th {\n",
       "        vertical-align: top;\n",
       "    }\n",
       "\n",
       "    .dataframe thead th {\n",
       "        text-align: right;\n",
       "    }\n",
       "</style>\n",
       "<table border=\"1\" class=\"dataframe\">\n",
       "  <thead>\n",
       "    <tr style=\"text-align: right;\">\n",
       "      <th></th>\n",
       "      <th>Customer_Age</th>\n",
       "      <th>Dependent_count</th>\n",
       "      <th>Months_on_book</th>\n",
       "      <th>Total_Relationship_Count</th>\n",
       "      <th>Months_Inactive_12_mon</th>\n",
       "      <th>Contacts_Count_12_mon</th>\n",
       "      <th>Credit_Limit</th>\n",
       "      <th>Total_Revolving_Bal</th>\n",
       "      <th>Avg_Open_To_Buy</th>\n",
       "      <th>Total_Amt_Chng_Q4_Q1</th>\n",
       "      <th>Total_Trans_Amt</th>\n",
       "      <th>Total_Trans_Ct</th>\n",
       "      <th>Total_Ct_Chng_Q4_Q1</th>\n",
       "      <th>Avg_Utilization_Ratio</th>\n",
       "      <th>Gender</th>\n",
       "      <th>Education_Level</th>\n",
       "      <th>Marital_Status</th>\n",
       "      <th>Income_Category</th>\n",
       "      <th>Card_Category</th>\n",
       "    </tr>\n",
       "  </thead>\n",
       "  <tbody>\n",
       "    <tr>\n",
       "      <th>0</th>\n",
       "      <td>0.404255</td>\n",
       "      <td>0.6</td>\n",
       "      <td>0.604651</td>\n",
       "      <td>0.8</td>\n",
       "      <td>0.166667</td>\n",
       "      <td>0.500000</td>\n",
       "      <td>0.340190</td>\n",
       "      <td>0.308701</td>\n",
       "      <td>0.345116</td>\n",
       "      <td>0.392994</td>\n",
       "      <td>0.035273</td>\n",
       "      <td>0.248062</td>\n",
       "      <td>0.437534</td>\n",
       "      <td>0.061061</td>\n",
       "      <td>1.0</td>\n",
       "      <td>3.0</td>\n",
       "      <td>1.0</td>\n",
       "      <td>1.0</td>\n",
       "      <td>0.0</td>\n",
       "    </tr>\n",
       "    <tr>\n",
       "      <th>1</th>\n",
       "      <td>0.489362</td>\n",
       "      <td>1.0</td>\n",
       "      <td>0.720930</td>\n",
       "      <td>1.0</td>\n",
       "      <td>0.166667</td>\n",
       "      <td>0.333333</td>\n",
       "      <td>0.206112</td>\n",
       "      <td>0.343266</td>\n",
       "      <td>0.214093</td>\n",
       "      <td>0.453636</td>\n",
       "      <td>0.043452</td>\n",
       "      <td>0.178295</td>\n",
       "      <td>1.000000</td>\n",
       "      <td>0.105105</td>\n",
       "      <td>0.0</td>\n",
       "      <td>2.0</td>\n",
       "      <td>2.0</td>\n",
       "      <td>4.0</td>\n",
       "      <td>0.0</td>\n",
       "    </tr>\n",
       "    <tr>\n",
       "      <th>2</th>\n",
       "      <td>0.531915</td>\n",
       "      <td>0.6</td>\n",
       "      <td>0.534884</td>\n",
       "      <td>0.6</td>\n",
       "      <td>0.166667</td>\n",
       "      <td>0.000000</td>\n",
       "      <td>0.059850</td>\n",
       "      <td>0.000000</td>\n",
       "      <td>0.098948</td>\n",
       "      <td>0.763615</td>\n",
       "      <td>0.076611</td>\n",
       "      <td>0.077519</td>\n",
       "      <td>0.628164</td>\n",
       "      <td>0.000000</td>\n",
       "      <td>1.0</td>\n",
       "      <td>2.0</td>\n",
       "      <td>1.0</td>\n",
       "      <td>2.0</td>\n",
       "      <td>0.0</td>\n",
       "    </tr>\n",
       "    <tr>\n",
       "      <th>3</th>\n",
       "      <td>0.297872</td>\n",
       "      <td>0.8</td>\n",
       "      <td>0.488372</td>\n",
       "      <td>0.4</td>\n",
       "      <td>0.666667</td>\n",
       "      <td>0.166667</td>\n",
       "      <td>0.056676</td>\n",
       "      <td>1.000000</td>\n",
       "      <td>0.022977</td>\n",
       "      <td>0.413600</td>\n",
       "      <td>0.036775</td>\n",
       "      <td>0.077519</td>\n",
       "      <td>0.628164</td>\n",
       "      <td>0.760761</td>\n",
       "      <td>0.0</td>\n",
       "      <td>3.0</td>\n",
       "      <td>3.0</td>\n",
       "      <td>4.0</td>\n",
       "      <td>0.0</td>\n",
       "    </tr>\n",
       "    <tr>\n",
       "      <th>4</th>\n",
       "      <td>0.297872</td>\n",
       "      <td>0.6</td>\n",
       "      <td>0.186047</td>\n",
       "      <td>0.8</td>\n",
       "      <td>0.166667</td>\n",
       "      <td>0.000000</td>\n",
       "      <td>0.099091</td>\n",
       "      <td>0.000000</td>\n",
       "      <td>0.136557</td>\n",
       "      <td>0.640271</td>\n",
       "      <td>0.017025</td>\n",
       "      <td>0.139535</td>\n",
       "      <td>0.673129</td>\n",
       "      <td>0.000000</td>\n",
       "      <td>1.0</td>\n",
       "      <td>5.0</td>\n",
       "      <td>1.0</td>\n",
       "      <td>1.0</td>\n",
       "      <td>0.0</td>\n",
       "    </tr>\n",
       "    <tr>\n",
       "      <th>...</th>\n",
       "      <td>...</td>\n",
       "      <td>...</td>\n",
       "      <td>...</td>\n",
       "      <td>...</td>\n",
       "      <td>...</td>\n",
       "      <td>...</td>\n",
       "      <td>...</td>\n",
       "      <td>...</td>\n",
       "      <td>...</td>\n",
       "      <td>...</td>\n",
       "      <td>...</td>\n",
       "      <td>...</td>\n",
       "      <td>...</td>\n",
       "      <td>...</td>\n",
       "      <td>...</td>\n",
       "      <td>...</td>\n",
       "      <td>...</td>\n",
       "      <td>...</td>\n",
       "      <td>...</td>\n",
       "    </tr>\n",
       "    <tr>\n",
       "      <th>10122</th>\n",
       "      <td>0.510638</td>\n",
       "      <td>0.4</td>\n",
       "      <td>0.627907</td>\n",
       "      <td>0.4</td>\n",
       "      <td>0.333333</td>\n",
       "      <td>0.500000</td>\n",
       "      <td>0.077536</td>\n",
       "      <td>0.735399</td>\n",
       "      <td>0.062266</td>\n",
       "      <td>0.206947</td>\n",
       "      <td>0.832647</td>\n",
       "      <td>0.829457</td>\n",
       "      <td>0.230749</td>\n",
       "      <td>0.462462</td>\n",
       "      <td>1.0</td>\n",
       "      <td>2.0</td>\n",
       "      <td>2.0</td>\n",
       "      <td>0.0</td>\n",
       "      <td>0.0</td>\n",
       "    </tr>\n",
       "    <tr>\n",
       "      <th>10123</th>\n",
       "      <td>0.319149</td>\n",
       "      <td>0.4</td>\n",
       "      <td>0.279070</td>\n",
       "      <td>0.6</td>\n",
       "      <td>0.333333</td>\n",
       "      <td>0.500000</td>\n",
       "      <td>0.085819</td>\n",
       "      <td>0.868494</td>\n",
       "      <td>0.060499</td>\n",
       "      <td>0.236679</td>\n",
       "      <td>0.459219</td>\n",
       "      <td>0.457364</td>\n",
       "      <td>0.183899</td>\n",
       "      <td>0.511512</td>\n",
       "      <td>1.0</td>\n",
       "      <td>6.0</td>\n",
       "      <td>0.0</td>\n",
       "      <td>0.0</td>\n",
       "      <td>0.0</td>\n",
       "    </tr>\n",
       "    <tr>\n",
       "      <th>10124</th>\n",
       "      <td>0.382979</td>\n",
       "      <td>0.2</td>\n",
       "      <td>0.534884</td>\n",
       "      <td>0.8</td>\n",
       "      <td>0.500000</td>\n",
       "      <td>0.666667</td>\n",
       "      <td>0.120042</td>\n",
       "      <td>0.000000</td>\n",
       "      <td>0.156637</td>\n",
       "      <td>0.241095</td>\n",
       "      <td>0.544175</td>\n",
       "      <td>0.387597</td>\n",
       "      <td>0.220248</td>\n",
       "      <td>0.000000</td>\n",
       "      <td>0.0</td>\n",
       "      <td>3.0</td>\n",
       "      <td>1.0</td>\n",
       "      <td>4.0</td>\n",
       "      <td>0.0</td>\n",
       "    </tr>\n",
       "    <tr>\n",
       "      <th>10125</th>\n",
       "      <td>0.085106</td>\n",
       "      <td>0.4</td>\n",
       "      <td>0.534884</td>\n",
       "      <td>0.6</td>\n",
       "      <td>0.500000</td>\n",
       "      <td>0.500000</td>\n",
       "      <td>0.116172</td>\n",
       "      <td>0.000000</td>\n",
       "      <td>0.152928</td>\n",
       "      <td>0.157492</td>\n",
       "      <td>0.438689</td>\n",
       "      <td>0.403101</td>\n",
       "      <td>0.194400</td>\n",
       "      <td>0.000000</td>\n",
       "      <td>1.0</td>\n",
       "      <td>2.0</td>\n",
       "      <td>3.0</td>\n",
       "      <td>0.0</td>\n",
       "      <td>0.0</td>\n",
       "    </tr>\n",
       "    <tr>\n",
       "      <th>10126</th>\n",
       "      <td>0.361702</td>\n",
       "      <td>0.4</td>\n",
       "      <td>0.279070</td>\n",
       "      <td>1.0</td>\n",
       "      <td>0.333333</td>\n",
       "      <td>0.666667</td>\n",
       "      <td>0.270566</td>\n",
       "      <td>0.779102</td>\n",
       "      <td>0.244082</td>\n",
       "      <td>0.206947</td>\n",
       "      <td>0.544342</td>\n",
       "      <td>0.395349</td>\n",
       "      <td>0.174744</td>\n",
       "      <td>0.189189</td>\n",
       "      <td>0.0</td>\n",
       "      <td>2.0</td>\n",
       "      <td>1.0</td>\n",
       "      <td>4.0</td>\n",
       "      <td>3.0</td>\n",
       "    </tr>\n",
       "  </tbody>\n",
       "</table>\n",
       "<p>10127 rows × 19 columns</p>\n",
       "</div>"
      ],
      "text/plain": [
       "       Customer_Age  Dependent_count  Months_on_book  \\\n",
       "0          0.404255              0.6        0.604651   \n",
       "1          0.489362              1.0        0.720930   \n",
       "2          0.531915              0.6        0.534884   \n",
       "3          0.297872              0.8        0.488372   \n",
       "4          0.297872              0.6        0.186047   \n",
       "...             ...              ...             ...   \n",
       "10122      0.510638              0.4        0.627907   \n",
       "10123      0.319149              0.4        0.279070   \n",
       "10124      0.382979              0.2        0.534884   \n",
       "10125      0.085106              0.4        0.534884   \n",
       "10126      0.361702              0.4        0.279070   \n",
       "\n",
       "       Total_Relationship_Count  Months_Inactive_12_mon  \\\n",
       "0                           0.8                0.166667   \n",
       "1                           1.0                0.166667   \n",
       "2                           0.6                0.166667   \n",
       "3                           0.4                0.666667   \n",
       "4                           0.8                0.166667   \n",
       "...                         ...                     ...   \n",
       "10122                       0.4                0.333333   \n",
       "10123                       0.6                0.333333   \n",
       "10124                       0.8                0.500000   \n",
       "10125                       0.6                0.500000   \n",
       "10126                       1.0                0.333333   \n",
       "\n",
       "       Contacts_Count_12_mon  Credit_Limit  Total_Revolving_Bal  \\\n",
       "0                   0.500000      0.340190             0.308701   \n",
       "1                   0.333333      0.206112             0.343266   \n",
       "2                   0.000000      0.059850             0.000000   \n",
       "3                   0.166667      0.056676             1.000000   \n",
       "4                   0.000000      0.099091             0.000000   \n",
       "...                      ...           ...                  ...   \n",
       "10122               0.500000      0.077536             0.735399   \n",
       "10123               0.500000      0.085819             0.868494   \n",
       "10124               0.666667      0.120042             0.000000   \n",
       "10125               0.500000      0.116172             0.000000   \n",
       "10126               0.666667      0.270566             0.779102   \n",
       "\n",
       "       Avg_Open_To_Buy  Total_Amt_Chng_Q4_Q1  Total_Trans_Amt  Total_Trans_Ct  \\\n",
       "0             0.345116              0.392994         0.035273        0.248062   \n",
       "1             0.214093              0.453636         0.043452        0.178295   \n",
       "2             0.098948              0.763615         0.076611        0.077519   \n",
       "3             0.022977              0.413600         0.036775        0.077519   \n",
       "4             0.136557              0.640271         0.017025        0.139535   \n",
       "...                ...                   ...              ...             ...   \n",
       "10122         0.062266              0.206947         0.832647        0.829457   \n",
       "10123         0.060499              0.236679         0.459219        0.457364   \n",
       "10124         0.156637              0.241095         0.544175        0.387597   \n",
       "10125         0.152928              0.157492         0.438689        0.403101   \n",
       "10126         0.244082              0.206947         0.544342        0.395349   \n",
       "\n",
       "       Total_Ct_Chng_Q4_Q1  Avg_Utilization_Ratio  Gender  Education_Level  \\\n",
       "0                 0.437534               0.061061     1.0              3.0   \n",
       "1                 1.000000               0.105105     0.0              2.0   \n",
       "2                 0.628164               0.000000     1.0              2.0   \n",
       "3                 0.628164               0.760761     0.0              3.0   \n",
       "4                 0.673129               0.000000     1.0              5.0   \n",
       "...                    ...                    ...     ...              ...   \n",
       "10122             0.230749               0.462462     1.0              2.0   \n",
       "10123             0.183899               0.511512     1.0              6.0   \n",
       "10124             0.220248               0.000000     0.0              3.0   \n",
       "10125             0.194400               0.000000     1.0              2.0   \n",
       "10126             0.174744               0.189189     0.0              2.0   \n",
       "\n",
       "       Marital_Status  Income_Category  Card_Category  \n",
       "0                 1.0              1.0            0.0  \n",
       "1                 2.0              4.0            0.0  \n",
       "2                 1.0              2.0            0.0  \n",
       "3                 3.0              4.0            0.0  \n",
       "4                 1.0              1.0            0.0  \n",
       "...               ...              ...            ...  \n",
       "10122             2.0              0.0            0.0  \n",
       "10123             0.0              0.0            0.0  \n",
       "10124             1.0              4.0            0.0  \n",
       "10125             3.0              0.0            0.0  \n",
       "10126             1.0              4.0            3.0  \n",
       "\n",
       "[10127 rows x 19 columns]"
      ]
     },
     "execution_count": 66,
     "metadata": {},
     "output_type": "execute_result"
    }
   ],
   "source": [
    "seg_df_transformed = pd.DataFrame(preprocessor.transform(seg_df),\n",
    "                                  columns=nume_col + cate_col)\n",
    "seg_df_transformed"
   ]
  },
  {
   "cell_type": "code",
   "execution_count": 67,
   "metadata": {
    "ExecuteTime": {
     "end_time": "2021-07-07T13:20:29.327094Z",
     "start_time": "2021-07-07T13:20:29.272854Z"
    }
   },
   "outputs": [
    {
     "data": {
      "text/html": [
       "<div>\n",
       "<style scoped>\n",
       "    .dataframe tbody tr th:only-of-type {\n",
       "        vertical-align: middle;\n",
       "    }\n",
       "\n",
       "    .dataframe tbody tr th {\n",
       "        vertical-align: top;\n",
       "    }\n",
       "\n",
       "    .dataframe thead th {\n",
       "        text-align: right;\n",
       "    }\n",
       "</style>\n",
       "<table border=\"1\" class=\"dataframe\">\n",
       "  <thead>\n",
       "    <tr style=\"text-align: right;\">\n",
       "      <th></th>\n",
       "      <th>Customer_Age</th>\n",
       "      <th>Dependent_count</th>\n",
       "      <th>Months_on_book</th>\n",
       "      <th>Total_Relationship_Count</th>\n",
       "      <th>Months_Inactive_12_mon</th>\n",
       "      <th>Contacts_Count_12_mon</th>\n",
       "      <th>Credit_Limit</th>\n",
       "      <th>Total_Revolving_Bal</th>\n",
       "      <th>Avg_Open_To_Buy</th>\n",
       "      <th>Total_Amt_Chng_Q4_Q1</th>\n",
       "      <th>Total_Trans_Amt</th>\n",
       "      <th>Total_Trans_Ct</th>\n",
       "      <th>Total_Ct_Chng_Q4_Q1</th>\n",
       "      <th>Avg_Utilization_Ratio</th>\n",
       "      <th>Gender</th>\n",
       "      <th>Education_Level</th>\n",
       "      <th>Marital_Status</th>\n",
       "      <th>Income_Category</th>\n",
       "      <th>Card_Category</th>\n",
       "    </tr>\n",
       "  </thead>\n",
       "  <tbody>\n",
       "    <tr>\n",
       "      <th>0</th>\n",
       "      <td>45.0</td>\n",
       "      <td>3.0</td>\n",
       "      <td>39.0</td>\n",
       "      <td>5.0</td>\n",
       "      <td>1.0</td>\n",
       "      <td>3.0</td>\n",
       "      <td>12691.0</td>\n",
       "      <td>777.0</td>\n",
       "      <td>11914.0</td>\n",
       "      <td>1.335</td>\n",
       "      <td>1144.0</td>\n",
       "      <td>42.0</td>\n",
       "      <td>1.625</td>\n",
       "      <td>0.061</td>\n",
       "      <td>M</td>\n",
       "      <td>High School</td>\n",
       "      <td>Married</td>\n",
       "      <td>60K_to_80K</td>\n",
       "      <td>Blue</td>\n",
       "    </tr>\n",
       "    <tr>\n",
       "      <th>1</th>\n",
       "      <td>49.0</td>\n",
       "      <td>5.0</td>\n",
       "      <td>44.0</td>\n",
       "      <td>6.0</td>\n",
       "      <td>1.0</td>\n",
       "      <td>2.0</td>\n",
       "      <td>8256.0</td>\n",
       "      <td>864.0</td>\n",
       "      <td>7392.0</td>\n",
       "      <td>1.541</td>\n",
       "      <td>1291.0</td>\n",
       "      <td>33.0</td>\n",
       "      <td>3.714</td>\n",
       "      <td>0.105</td>\n",
       "      <td>F</td>\n",
       "      <td>Graduate</td>\n",
       "      <td>Single</td>\n",
       "      <td>Less_than_40K</td>\n",
       "      <td>Blue</td>\n",
       "    </tr>\n",
       "    <tr>\n",
       "      <th>2</th>\n",
       "      <td>51.0</td>\n",
       "      <td>3.0</td>\n",
       "      <td>36.0</td>\n",
       "      <td>4.0</td>\n",
       "      <td>1.0</td>\n",
       "      <td>0.0</td>\n",
       "      <td>3418.0</td>\n",
       "      <td>0.0</td>\n",
       "      <td>3418.0</td>\n",
       "      <td>2.594</td>\n",
       "      <td>1887.0</td>\n",
       "      <td>20.0</td>\n",
       "      <td>2.333</td>\n",
       "      <td>0.000</td>\n",
       "      <td>M</td>\n",
       "      <td>Graduate</td>\n",
       "      <td>Married</td>\n",
       "      <td>80K_to_120K</td>\n",
       "      <td>Blue</td>\n",
       "    </tr>\n",
       "    <tr>\n",
       "      <th>3</th>\n",
       "      <td>40.0</td>\n",
       "      <td>4.0</td>\n",
       "      <td>34.0</td>\n",
       "      <td>3.0</td>\n",
       "      <td>4.0</td>\n",
       "      <td>1.0</td>\n",
       "      <td>3313.0</td>\n",
       "      <td>2517.0</td>\n",
       "      <td>796.0</td>\n",
       "      <td>1.405</td>\n",
       "      <td>1171.0</td>\n",
       "      <td>20.0</td>\n",
       "      <td>2.333</td>\n",
       "      <td>0.760</td>\n",
       "      <td>F</td>\n",
       "      <td>High School</td>\n",
       "      <td>Unknown</td>\n",
       "      <td>Less_than_40K</td>\n",
       "      <td>Blue</td>\n",
       "    </tr>\n",
       "    <tr>\n",
       "      <th>4</th>\n",
       "      <td>40.0</td>\n",
       "      <td>3.0</td>\n",
       "      <td>21.0</td>\n",
       "      <td>5.0</td>\n",
       "      <td>1.0</td>\n",
       "      <td>0.0</td>\n",
       "      <td>4716.0</td>\n",
       "      <td>0.0</td>\n",
       "      <td>4716.0</td>\n",
       "      <td>2.175</td>\n",
       "      <td>816.0</td>\n",
       "      <td>28.0</td>\n",
       "      <td>2.500</td>\n",
       "      <td>0.000</td>\n",
       "      <td>M</td>\n",
       "      <td>Uneducated</td>\n",
       "      <td>Married</td>\n",
       "      <td>60K_to_80K</td>\n",
       "      <td>Blue</td>\n",
       "    </tr>\n",
       "    <tr>\n",
       "      <th>...</th>\n",
       "      <td>...</td>\n",
       "      <td>...</td>\n",
       "      <td>...</td>\n",
       "      <td>...</td>\n",
       "      <td>...</td>\n",
       "      <td>...</td>\n",
       "      <td>...</td>\n",
       "      <td>...</td>\n",
       "      <td>...</td>\n",
       "      <td>...</td>\n",
       "      <td>...</td>\n",
       "      <td>...</td>\n",
       "      <td>...</td>\n",
       "      <td>...</td>\n",
       "      <td>...</td>\n",
       "      <td>...</td>\n",
       "      <td>...</td>\n",
       "      <td>...</td>\n",
       "      <td>...</td>\n",
       "    </tr>\n",
       "    <tr>\n",
       "      <th>10122</th>\n",
       "      <td>50.0</td>\n",
       "      <td>2.0</td>\n",
       "      <td>40.0</td>\n",
       "      <td>3.0</td>\n",
       "      <td>2.0</td>\n",
       "      <td>3.0</td>\n",
       "      <td>4003.0</td>\n",
       "      <td>1851.0</td>\n",
       "      <td>2152.0</td>\n",
       "      <td>0.703</td>\n",
       "      <td>15476.0</td>\n",
       "      <td>117.0</td>\n",
       "      <td>0.857</td>\n",
       "      <td>0.462</td>\n",
       "      <td>M</td>\n",
       "      <td>Graduate</td>\n",
       "      <td>Single</td>\n",
       "      <td>40K_to_60K</td>\n",
       "      <td>Blue</td>\n",
       "    </tr>\n",
       "    <tr>\n",
       "      <th>10123</th>\n",
       "      <td>41.0</td>\n",
       "      <td>2.0</td>\n",
       "      <td>25.0</td>\n",
       "      <td>4.0</td>\n",
       "      <td>2.0</td>\n",
       "      <td>3.0</td>\n",
       "      <td>4277.0</td>\n",
       "      <td>2186.0</td>\n",
       "      <td>2091.0</td>\n",
       "      <td>0.804</td>\n",
       "      <td>8764.0</td>\n",
       "      <td>69.0</td>\n",
       "      <td>0.683</td>\n",
       "      <td>0.511</td>\n",
       "      <td>M</td>\n",
       "      <td>Unknown</td>\n",
       "      <td>Divorced</td>\n",
       "      <td>40K_to_60K</td>\n",
       "      <td>Blue</td>\n",
       "    </tr>\n",
       "    <tr>\n",
       "      <th>10124</th>\n",
       "      <td>44.0</td>\n",
       "      <td>1.0</td>\n",
       "      <td>36.0</td>\n",
       "      <td>5.0</td>\n",
       "      <td>3.0</td>\n",
       "      <td>4.0</td>\n",
       "      <td>5409.0</td>\n",
       "      <td>0.0</td>\n",
       "      <td>5409.0</td>\n",
       "      <td>0.819</td>\n",
       "      <td>10291.0</td>\n",
       "      <td>60.0</td>\n",
       "      <td>0.818</td>\n",
       "      <td>0.000</td>\n",
       "      <td>F</td>\n",
       "      <td>High School</td>\n",
       "      <td>Married</td>\n",
       "      <td>Less_than_40K</td>\n",
       "      <td>Blue</td>\n",
       "    </tr>\n",
       "    <tr>\n",
       "      <th>10125</th>\n",
       "      <td>30.0</td>\n",
       "      <td>2.0</td>\n",
       "      <td>36.0</td>\n",
       "      <td>4.0</td>\n",
       "      <td>3.0</td>\n",
       "      <td>3.0</td>\n",
       "      <td>5281.0</td>\n",
       "      <td>0.0</td>\n",
       "      <td>5281.0</td>\n",
       "      <td>0.535</td>\n",
       "      <td>8395.0</td>\n",
       "      <td>62.0</td>\n",
       "      <td>0.722</td>\n",
       "      <td>0.000</td>\n",
       "      <td>M</td>\n",
       "      <td>Graduate</td>\n",
       "      <td>Unknown</td>\n",
       "      <td>40K_to_60K</td>\n",
       "      <td>Blue</td>\n",
       "    </tr>\n",
       "    <tr>\n",
       "      <th>10126</th>\n",
       "      <td>43.0</td>\n",
       "      <td>2.0</td>\n",
       "      <td>25.0</td>\n",
       "      <td>6.0</td>\n",
       "      <td>2.0</td>\n",
       "      <td>4.0</td>\n",
       "      <td>10388.0</td>\n",
       "      <td>1961.0</td>\n",
       "      <td>8427.0</td>\n",
       "      <td>0.703</td>\n",
       "      <td>10294.0</td>\n",
       "      <td>61.0</td>\n",
       "      <td>0.649</td>\n",
       "      <td>0.189</td>\n",
       "      <td>F</td>\n",
       "      <td>Graduate</td>\n",
       "      <td>Married</td>\n",
       "      <td>Less_than_40K</td>\n",
       "      <td>Silver</td>\n",
       "    </tr>\n",
       "  </tbody>\n",
       "</table>\n",
       "<p>10127 rows × 19 columns</p>\n",
       "</div>"
      ],
      "text/plain": [
       "       Customer_Age  Dependent_count  Months_on_book  \\\n",
       "0              45.0              3.0            39.0   \n",
       "1              49.0              5.0            44.0   \n",
       "2              51.0              3.0            36.0   \n",
       "3              40.0              4.0            34.0   \n",
       "4              40.0              3.0            21.0   \n",
       "...             ...              ...             ...   \n",
       "10122          50.0              2.0            40.0   \n",
       "10123          41.0              2.0            25.0   \n",
       "10124          44.0              1.0            36.0   \n",
       "10125          30.0              2.0            36.0   \n",
       "10126          43.0              2.0            25.0   \n",
       "\n",
       "       Total_Relationship_Count  Months_Inactive_12_mon  \\\n",
       "0                           5.0                     1.0   \n",
       "1                           6.0                     1.0   \n",
       "2                           4.0                     1.0   \n",
       "3                           3.0                     4.0   \n",
       "4                           5.0                     1.0   \n",
       "...                         ...                     ...   \n",
       "10122                       3.0                     2.0   \n",
       "10123                       4.0                     2.0   \n",
       "10124                       5.0                     3.0   \n",
       "10125                       4.0                     3.0   \n",
       "10126                       6.0                     2.0   \n",
       "\n",
       "       Contacts_Count_12_mon  Credit_Limit  Total_Revolving_Bal  \\\n",
       "0                        3.0       12691.0                777.0   \n",
       "1                        2.0        8256.0                864.0   \n",
       "2                        0.0        3418.0                  0.0   \n",
       "3                        1.0        3313.0               2517.0   \n",
       "4                        0.0        4716.0                  0.0   \n",
       "...                      ...           ...                  ...   \n",
       "10122                    3.0        4003.0               1851.0   \n",
       "10123                    3.0        4277.0               2186.0   \n",
       "10124                    4.0        5409.0                  0.0   \n",
       "10125                    3.0        5281.0                  0.0   \n",
       "10126                    4.0       10388.0               1961.0   \n",
       "\n",
       "       Avg_Open_To_Buy  Total_Amt_Chng_Q4_Q1  Total_Trans_Amt  Total_Trans_Ct  \\\n",
       "0              11914.0                 1.335           1144.0            42.0   \n",
       "1               7392.0                 1.541           1291.0            33.0   \n",
       "2               3418.0                 2.594           1887.0            20.0   \n",
       "3                796.0                 1.405           1171.0            20.0   \n",
       "4               4716.0                 2.175            816.0            28.0   \n",
       "...                ...                   ...              ...             ...   \n",
       "10122           2152.0                 0.703          15476.0           117.0   \n",
       "10123           2091.0                 0.804           8764.0            69.0   \n",
       "10124           5409.0                 0.819          10291.0            60.0   \n",
       "10125           5281.0                 0.535           8395.0            62.0   \n",
       "10126           8427.0                 0.703          10294.0            61.0   \n",
       "\n",
       "       Total_Ct_Chng_Q4_Q1  Avg_Utilization_Ratio Gender Education_Level  \\\n",
       "0                    1.625                  0.061      M     High School   \n",
       "1                    3.714                  0.105      F        Graduate   \n",
       "2                    2.333                  0.000      M        Graduate   \n",
       "3                    2.333                  0.760      F     High School   \n",
       "4                    2.500                  0.000      M      Uneducated   \n",
       "...                    ...                    ...    ...             ...   \n",
       "10122                0.857                  0.462      M        Graduate   \n",
       "10123                0.683                  0.511      M         Unknown   \n",
       "10124                0.818                  0.000      F     High School   \n",
       "10125                0.722                  0.000      M        Graduate   \n",
       "10126                0.649                  0.189      F        Graduate   \n",
       "\n",
       "      Marital_Status Income_Category Card_Category  \n",
       "0            Married      60K_to_80K          Blue  \n",
       "1             Single   Less_than_40K          Blue  \n",
       "2            Married     80K_to_120K          Blue  \n",
       "3            Unknown   Less_than_40K          Blue  \n",
       "4            Married      60K_to_80K          Blue  \n",
       "...              ...             ...           ...  \n",
       "10122         Single      40K_to_60K          Blue  \n",
       "10123       Divorced      40K_to_60K          Blue  \n",
       "10124        Married   Less_than_40K          Blue  \n",
       "10125        Unknown      40K_to_60K          Blue  \n",
       "10126        Married   Less_than_40K        Silver  \n",
       "\n",
       "[10127 rows x 19 columns]"
      ]
     },
     "execution_count": 67,
     "metadata": {},
     "output_type": "execute_result"
    }
   ],
   "source": [
    "seg_df_inv_transformed = pd.concat([\n",
    "    pd.DataFrame(\n",
    "        preprocessor.named_transformers_['nume_feat'].inverse_transform(\n",
    "            seg_df_transformed[nume_col]),\n",
    "        columns=nume_col),\n",
    "    pd.DataFrame(\n",
    "        preprocessor.named_transformers_['cate_feat'].inverse_transform(\n",
    "            seg_df_transformed[cate_col]),\n",
    "        columns=cate_col)\n",
    "],\n",
    "                                   axis=1)\n",
    "seg_df_inv_transformed"
   ]
  },
  {
   "cell_type": "code",
   "execution_count": 68,
   "metadata": {
    "ExecuteTime": {
     "end_time": "2021-07-07T13:28:15.215365Z",
     "start_time": "2021-07-07T13:28:13.576603Z"
    }
   },
   "outputs": [
    {
     "data": {
      "image/png": "[encoded data removed]",
      "text/plain": [
       "<Figure size 576x504 with 1 Axes>"
      ]
     },
     "metadata": {},
     "output_type": "display_data"
    }
   ],
   "source": [
    "sse = {}\n",
    "for k in range(1, 10):\n",
    "    kmeans = KMeans(init='k-means++',algorithm='auto',\n",
    "                    n_clusters=k,\n",
    "                    max_iter=1000,\n",
    "                    random_state=1,\n",
    "                    verbose=0).fit(seg_df_transformed)\n",
    "    sse[k] = kmeans.inertia_\n",
    "plt.plot(list(sse.keys()), list(sse.values()), color='r')\n",
    "plt.title(f'Elbow Plot', fontsize=20)\n",
    "plt.grid()\n",
    "plt.show()"
   ]
  },
  {
   "cell_type": "code",
   "execution_count": 69,
   "metadata": {
    "ExecuteTime": {
     "end_time": "2021-07-07T13:28:16.729848Z",
     "start_time": "2021-07-07T13:28:16.712842Z"
    }
   },
   "outputs": [],
   "source": [
    "# !pip install kmodes"
   ]
  },
  {
   "cell_type": "code",
   "execution_count": 70,
   "metadata": {
    "ExecuteTime": {
     "end_time": "2021-07-07T13:28:20.409375Z",
     "start_time": "2021-07-07T13:28:20.371287Z"
    }
   },
   "outputs": [],
   "source": [
    "from kmodes.kprototypes import KPrototypes"
   ]
  },
  {
   "cell_type": "code",
   "execution_count": 71,
   "metadata": {
    "ExecuteTime": {
     "end_time": "2021-07-07T13:28:24.738685Z",
     "start_time": "2021-07-07T13:28:24.721704Z"
    }
   },
   "outputs": [
    {
     "data": {
      "text/plain": [
       "KPrototypes(max_iter=20, n_clusters=4, verbose=2)"
      ]
     },
     "execution_count": 71,
     "metadata": {},
     "output_type": "execute_result"
    }
   ],
   "source": [
    "kproto = KPrototypes(n_clusters=4, verbose=2, max_iter=20)\n",
    "kproto"
   ]
  },
  {
   "cell_type": "code",
   "execution_count": 72,
   "metadata": {
    "ExecuteTime": {
     "end_time": "2021-07-07T13:28:25.920894Z",
     "start_time": "2021-07-07T13:28:25.908064Z"
    }
   },
   "outputs": [
    {
     "data": {
      "text/plain": [
       "[14, 15, 16, 17, 18]"
      ]
     },
     "execution_count": 72,
     "metadata": {},
     "output_type": "execute_result"
    }
   ],
   "source": [
    "cat_idx = [\n",
    "    seg_df_inv_transformed.columns.get_loc(i)\n",
    "    for i in seg_df_inv_transformed.select_dtypes('object').columns\n",
    "]\n",
    "cat_idx"
   ]
  },
  {
   "cell_type": "code",
   "execution_count": 73,
   "metadata": {
    "ExecuteTime": {
     "end_time": "2021-07-07T13:30:21.199796Z",
     "start_time": "2021-07-07T13:28:30.334280Z"
    }
   },
   "outputs": [
    {
     "name": "stdout",
     "output_type": "stream",
     "text": [
      "Init: initializing centroids\n",
      "Init: initializing clusters\n",
      "Starting iterations...\n",
      "Run: 1, iteration: 1/20, moves: 2415, ncost: 231601757587.7852\n",
      "Run: 1, iteration: 2/20, moves: 726, ncost: 212372947465.5771\n",
      "Run: 1, iteration: 3/20, moves: 481, ncost: 206129687049.68466\n",
      "Run: 1, iteration: 4/20, moves: 395, ncost: 202662590156.64178\n",
      "Run: 1, iteration: 5/20, moves: 235, ncost: 201342282866.19025\n",
      "Run: 1, iteration: 6/20, moves: 154, ncost: 200814056496.42282\n",
      "Run: 1, iteration: 7/20, moves: 143, ncost: 200365772145.62073\n",
      "Run: 1, iteration: 8/20, moves: 90, ncost: 200189274394.27133\n",
      "Run: 1, iteration: 9/20, moves: 52, ncost: 200136406892.26236\n",
      "Run: 1, iteration: 10/20, moves: 24, ncost: 200124192707.23312\n",
      "Run: 1, iteration: 11/20, moves: 9, ncost: 200122843484.55887\n",
      "Run: 1, iteration: 12/20, moves: 3, ncost: 200122673108.4274\n",
      "Run: 1, iteration: 13/20, moves: 0, ncost: 200122673108.4274\n",
      "Init: initializing centroids\n",
      "Init: initializing clusters\n",
      "Starting iterations...\n",
      "Run: 2, iteration: 1/20, moves: 2490, ncost: 285768262674.4095\n",
      "Run: 2, iteration: 2/20, moves: 863, ncost: 241521723144.48157\n",
      "Run: 2, iteration: 3/20, moves: 555, ncost: 229591391306.8108\n",
      "Run: 2, iteration: 4/20, moves: 336, ncost: 225371495251.25763\n",
      "Run: 2, iteration: 5/20, moves: 186, ncost: 223852907897.16302\n",
      "Run: 2, iteration: 6/20, moves: 97, ncost: 223375753324.116\n",
      "Run: 2, iteration: 7/20, moves: 57, ncost: 223255028734.77563\n",
      "Run: 2, iteration: 8/20, moves: 31, ncost: 223213225681.83667\n",
      "Run: 2, iteration: 9/20, moves: 23, ncost: 223191570071.52994\n",
      "Run: 2, iteration: 10/20, moves: 19, ncost: 223179075400.22415\n",
      "Run: 2, iteration: 11/20, moves: 4, ncost: 223177903440.64072\n",
      "Run: 2, iteration: 12/20, moves: 4, ncost: 223177206446.10184\n",
      "Run: 2, iteration: 13/20, moves: 0, ncost: 223177206446.10184\n",
      "Init: initializing centroids\n",
      "Init: initializing clusters\n",
      "Starting iterations...\n",
      "Run: 3, iteration: 1/20, moves: 1471, ncost: 208111213430.1643\n",
      "Run: 3, iteration: 2/20, moves: 376, ncost: 203449180452.58136\n",
      "Run: 3, iteration: 3/20, moves: 250, ncost: 201514510883.41663\n",
      "Run: 3, iteration: 4/20, moves: 139, ncost: 200930397806.99225\n",
      "Run: 3, iteration: 5/20, moves: 153, ncost: 200421213847.4588\n",
      "Run: 3, iteration: 6/20, moves: 101, ncost: 200202858211.69427\n",
      "Run: 3, iteration: 7/20, moves: 53, ncost: 200143404809.05673\n",
      "Run: 3, iteration: 8/20, moves: 26, ncost: 200125894262.73242\n",
      "Run: 3, iteration: 9/20, moves: 12, ncost: 200123179759.74567\n",
      "Run: 3, iteration: 10/20, moves: 6, ncost: 200122673108.42746\n",
      "Run: 3, iteration: 11/20, moves: 0, ncost: 200122673108.42746\n",
      "Init: initializing centroids\n",
      "Init: initializing clusters\n",
      "Starting iterations...\n",
      "Run: 4, iteration: 1/20, moves: 3234, ncost: 259508239401.07907\n",
      "Run: 4, iteration: 2/20, moves: 1154, ncost: 250712351959.65277\n",
      "Run: 4, iteration: 3/20, moves: 563, ncost: 247645736118.18423\n",
      "Run: 4, iteration: 4/20, moves: 497, ncost: 244909578898.95245\n",
      "Run: 4, iteration: 5/20, moves: 1142, ncost: 231987923007.23193\n",
      "Run: 4, iteration: 6/20, moves: 1460, ncost: 213617944142.13577\n",
      "Run: 4, iteration: 7/20, moves: 692, ncost: 207006495173.6867\n",
      "Run: 4, iteration: 8/20, moves: 449, ncost: 203213763121.1997\n",
      "Run: 4, iteration: 9/20, moves: 288, ncost: 201514861862.08466\n",
      "Run: 4, iteration: 10/20, moves: 166, ncost: 200903640867.44147\n",
      "Run: 4, iteration: 11/20, moves: 155, ncost: 200408433550.97247\n",
      "Run: 4, iteration: 12/20, moves: 97, ncost: 200200779089.26917\n",
      "Run: 4, iteration: 13/20, moves: 52, ncost: 200143404809.05676\n",
      "Run: 4, iteration: 14/20, moves: 26, ncost: 200125894262.73248\n",
      "Run: 4, iteration: 15/20, moves: 12, ncost: 200123179759.74576\n",
      "Run: 4, iteration: 16/20, moves: 6, ncost: 200122673108.42743\n",
      "Run: 4, iteration: 17/20, moves: 0, ncost: 200122673108.42743\n",
      "Init: initializing centroids\n",
      "Init: initializing clusters\n",
      "Init: initializing centroids\n",
      "Init: initializing clusters\n",
      "Starting iterations...\n",
      "Run: 5, iteration: 1/20, moves: 2018, ncost: 212208369743.61377\n",
      "Run: 5, iteration: 2/20, moves: 569, ncost: 208382473260.85776\n",
      "Run: 5, iteration: 3/20, moves: 401, ncost: 205388065805.53152\n",
      "Run: 5, iteration: 4/20, moves: 326, ncost: 202849757834.8481\n",
      "Run: 5, iteration: 5/20, moves: 247, ncost: 201407525183.83112\n",
      "Run: 5, iteration: 6/20, moves: 152, ncost: 200882330770.37488\n",
      "Run: 5, iteration: 7/20, moves: 149, ncost: 200407009773.2093\n",
      "Run: 5, iteration: 8/20, moves: 96, ncost: 200200779089.2694\n",
      "Run: 5, iteration: 9/20, moves: 52, ncost: 200143404809.05667\n",
      "Run: 5, iteration: 10/20, moves: 26, ncost: 200125894262.7322\n",
      "Run: 5, iteration: 11/20, moves: 12, ncost: 200123179759.74573\n",
      "Run: 5, iteration: 12/20, moves: 6, ncost: 200122673108.4276\n",
      "Run: 5, iteration: 13/20, moves: 0, ncost: 200122673108.4276\n",
      "Init: initializing centroids\n",
      "Init: initializing clusters\n",
      "Init: initializing centroids\n",
      "Init: initializing clusters\n",
      "Init: initializing centroids\n",
      "Init: initializing clusters\n",
      "Init: initializing centroids\n",
      "Init: initializing clusters\n",
      "Init: initializing centroids\n",
      "Init: initializing clusters\n",
      "Init: initializing centroids\n",
      "Init: initializing clusters\n",
      "Init: initializing centroids\n",
      "Init: initializing clusters\n",
      "Init: initializing centroids\n",
      "Init: initializing clusters\n",
      "Starting iterations...\n",
      "Run: 6, iteration: 1/20, moves: 1490, ncost: 219406859739.17938\n",
      "Run: 6, iteration: 2/20, moves: 389, ncost: 207561122647.4181\n",
      "Run: 6, iteration: 3/20, moves: 348, ncost: 203353571778.3484\n",
      "Run: 6, iteration: 4/20, moves: 250, ncost: 201535265158.98788\n",
      "Run: 6, iteration: 5/20, moves: 154, ncost: 200941567802.68347\n",
      "Run: 6, iteration: 6/20, moves: 157, ncost: 200415908574.08072\n",
      "Run: 6, iteration: 7/20, moves: 99, ncost: 200202858211.69427\n",
      "Run: 6, iteration: 8/20, moves: 53, ncost: 200143404809.05673\n",
      "Run: 6, iteration: 9/20, moves: 26, ncost: 200125894262.7324\n",
      "Run: 6, iteration: 10/20, moves: 12, ncost: 200123179759.74576\n",
      "Run: 6, iteration: 11/20, moves: 6, ncost: 200122673108.42746\n",
      "Run: 6, iteration: 12/20, moves: 0, ncost: 200122673108.42746\n",
      "Init: initializing centroids\n",
      "Init: initializing clusters\n",
      "Init: initializing centroids\n",
      "Init: initializing clusters\n",
      "Init: initializing centroids\n",
      "Init: initializing clusters\n",
      "Starting iterations...\n",
      "Run: 7, iteration: 1/20, moves: 892, ncost: 206918122482.3108\n",
      "Run: 7, iteration: 2/20, moves: 285, ncost: 202086685140.46054\n",
      "Run: 7, iteration: 3/20, moves: 132, ncost: 201001924250.3259\n",
      "Run: 7, iteration: 4/20, moves: 158, ncost: 200421213847.45883\n",
      "Run: 7, iteration: 5/20, moves: 101, ncost: 200202858211.69427\n",
      "Run: 7, iteration: 6/20, moves: 53, ncost: 200143404809.0568\n",
      "Run: 7, iteration: 7/20, moves: 26, ncost: 200125894262.73245\n",
      "Run: 7, iteration: 8/20, moves: 12, ncost: 200123179759.7457\n",
      "Run: 7, iteration: 9/20, moves: 6, ncost: 200122673108.4274\n",
      "Run: 7, iteration: 10/20, moves: 0, ncost: 200122673108.4274\n",
      "Init: initializing centroids\n",
      "Init: initializing clusters\n",
      "Init: initializing centroids\n",
      "Init: initializing clusters\n",
      "Init: initializing centroids\n",
      "Init: initializing clusters\n",
      "Init: initializing centroids\n",
      "Init: initializing clusters\n",
      "Init: initializing centroids\n",
      "Init: initializing clusters\n",
      "Starting iterations...\n",
      "Run: 8, iteration: 1/20, moves: 2313, ncost: 263922356212.67792\n",
      "Run: 8, iteration: 2/20, moves: 750, ncost: 234137881907.50107\n",
      "Run: 8, iteration: 3/20, moves: 420, ncost: 226593000763.8364\n",
      "Run: 8, iteration: 4/20, moves: 231, ncost: 224307406765.3571\n",
      "Run: 8, iteration: 5/20, moves: 128, ncost: 223508313436.8694\n",
      "Run: 8, iteration: 6/20, moves: 74, ncost: 223287099847.26724\n",
      "Run: 8, iteration: 7/20, moves: 42, ncost: 223221182200.89703\n",
      "Run: 8, iteration: 8/20, moves: 25, ncost: 223196324800.61865\n",
      "Run: 8, iteration: 9/20, moves: 17, ncost: 223182230158.3209\n",
      "Run: 8, iteration: 10/20, moves: 8, ncost: 223178880710.48685\n",
      "Run: 8, iteration: 11/20, moves: 6, ncost: 223177252527.79663\n",
      "Run: 8, iteration: 12/20, moves: 1, ncost: 223177206446.10196\n",
      "Run: 8, iteration: 13/20, moves: 0, ncost: 223177206446.10196\n",
      "Init: initializing centroids\n",
      "Init: initializing clusters\n",
      "Init: initializing centroids\n",
      "Init: initializing clusters\n",
      "Starting iterations...\n",
      "Run: 9, iteration: 1/20, moves: 1981, ncost: 230513337111.61215\n",
      "Run: 9, iteration: 2/20, moves: 380, ncost: 226968043675.04163\n",
      "Run: 9, iteration: 3/20, moves: 209, ncost: 224774976147.90283\n",
      "Run: 9, iteration: 4/20, moves: 154, ncost: 223728869671.86407\n"
     ]
    },
    {
     "name": "stdout",
     "output_type": "stream",
     "text": [
      "Run: 9, iteration: 5/20, moves: 87, ncost: 223363932525.97986\n",
      "Run: 9, iteration: 6/20, moves: 44, ncost: 223251380591.30142\n",
      "Run: 9, iteration: 7/20, moves: 29, ncost: 223215353549.7266\n",
      "Run: 9, iteration: 8/20, moves: 24, ncost: 223180738910.60568\n",
      "Run: 9, iteration: 9/20, moves: 10, ncost: 223176688473.10797\n",
      "Run: 9, iteration: 10/20, moves: 0, ncost: 223176688473.10797\n",
      "Init: initializing centroids\n",
      "Init: initializing clusters\n",
      "Init: initializing centroids\n",
      "Init: initializing clusters\n",
      "Init: initializing centroids\n",
      "Init: initializing clusters\n",
      "Starting iterations...\n",
      "Run: 10, iteration: 1/20, moves: 2116, ncost: 239431569357.49808\n",
      "Run: 10, iteration: 2/20, moves: 347, ncost: 228528660921.59763\n",
      "Run: 10, iteration: 3/20, moves: 317, ncost: 224752648716.2148\n",
      "Run: 10, iteration: 4/20, moves: 163, ncost: 223638776491.3905\n",
      "Run: 10, iteration: 5/20, moves: 88, ncost: 223312128020.97836\n",
      "Run: 10, iteration: 6/20, moves: 50, ncost: 223229499232.09372\n",
      "Run: 10, iteration: 7/20, moves: 25, ncost: 223200250812.7777\n",
      "Run: 10, iteration: 8/20, moves: 16, ncost: 223187258651.4002\n",
      "Run: 10, iteration: 9/20, moves: 13, ncost: 223179075400.22415\n",
      "Run: 10, iteration: 10/20, moves: 4, ncost: 223177903440.64066\n",
      "Run: 10, iteration: 11/20, moves: 4, ncost: 223177206446.10196\n",
      "Run: 10, iteration: 12/20, moves: 0, ncost: 223177206446.10196\n",
      "Best run was number 1\n"
     ]
    },
    {
     "data": {
      "text/plain": [
       "KPrototypes(gamma=2293.0654804914857, max_iter=20, n_clusters=4, verbose=2)"
      ]
     },
     "execution_count": 73,
     "metadata": {},
     "output_type": "execute_result"
    }
   ],
   "source": [
    "kproto.fit(seg_df_inv_transformed, categorical=cat_idx)"
   ]
  },
  {
   "cell_type": "code",
   "execution_count": 74,
   "metadata": {
    "ExecuteTime": {
     "end_time": "2021-07-07T13:30:21.592862Z",
     "start_time": "2021-07-07T13:30:21.201792Z"
    }
   },
   "outputs": [
    {
     "name": "stdout",
     "output_type": "stream",
     "text": [
      "[['46.36441079034548' '2.357311878845244' '36.09086606720303'\n",
      "  '3.7468054898248937' '2.3279697113109323' '2.471367723615712'\n",
      "  '9771.860388073828' '1151.329389493611' '8620.530998580218'\n",
      "  '0.761922385234261' '4798.242782773308' '65.16327496450545'\n",
      "  '0.7112375769048748' '0.12108234737340308' 'M' 'Graduate' 'Married'\n",
      "  'Less_than_40K' 'Blue']\n",
      " ['46.30991337824832' '2.442733397497594' '35.973051010587106'\n",
      "  '3.807507218479307' '2.327237728585178' '2.496631376323388'\n",
      "  '19399.094321462944' '1141.4552454282964' '18257.639076034648'\n",
      "  '0.7636188642925894' '4984.6621751684315' '66.52550529355149'\n",
      "  '0.7108960538979812' '0.05924639076034637' 'M' 'Graduate' 'Married'\n",
      "  '80K_to_120K' 'Blue']\n",
      " ['46.35952380952381' '2.6023809523809525' '36.02142857142857'\n",
      "  '3.448809523809524' '2.301190476190476' '2.501190476190476'\n",
      "  '32712.089285714286' '1189.1321428571428' '31522.957142857143'\n",
      "  '0.7647583333333277' '5848.45' '70.25833333333334' '0.7071119047619051'\n",
      "  '0.03637857142857153' 'M' 'Graduate' 'Single' '80K_to_120K' 'Blue']\n",
      " ['46.31083944580277' '2.290953545232274' '35.852159739201305'\n",
      "  '3.8859005704971477' '2.353545232273839' '2.4365118174409126'\n",
      "  '3118.832942135331' '1166.7833740831295' '1952.0495680521703'\n",
      "  '0.7579755501222477' '3972.246617766911' '63.732192339038306'\n",
      "  '0.7134859005704947' '0.39704726976365085' 'F' 'Graduate' 'Married'\n",
      "  'Less_than_40K' 'Blue']]\n"
     ]
    }
   ],
   "source": [
    "print(kproto.cluster_centroids_)\n",
    "clusters = kproto.predict(seg_df_inv_transformed, categorical=cat_idx)"
   ]
  },
  {
   "cell_type": "code",
   "execution_count": 75,
   "metadata": {
    "ExecuteTime": {
     "end_time": "2021-07-07T13:30:21.656205Z",
     "start_time": "2021-07-07T13:30:21.636858Z"
    }
   },
   "outputs": [
    {
     "data": {
      "text/plain": [
       "array([0, 0, 3, ..., 3, 3, 0], dtype=uint16)"
      ]
     },
     "execution_count": 75,
     "metadata": {},
     "output_type": "execute_result"
    }
   ],
   "source": [
    "clusters"
   ]
  },
  {
   "cell_type": "code",
   "execution_count": 76,
   "metadata": {
    "ExecuteTime": {
     "end_time": "2021-07-07T13:30:21.734821Z",
     "start_time": "2021-07-07T13:30:21.730821Z"
    }
   },
   "outputs": [],
   "source": [
    "from sklearn.decomposition import PCA"
   ]
  },
  {
   "cell_type": "code",
   "execution_count": 88,
   "metadata": {
    "ExecuteTime": {
     "end_time": "2021-07-07T13:35:54.508255Z",
     "start_time": "2021-07-07T13:35:54.469212Z"
    }
   },
   "outputs": [
    {
     "data": {
      "text/plain": [
       "array([[ 0.09214898,  1.68103454, -0.43615231],\n",
       "       [ 1.09766413, -1.43832669,  0.30726324],\n",
       "       [ 1.09750399,  0.68855568, -0.47162132],\n",
       "       ...,\n",
       "       [ 0.10548825, -1.44730812, -0.44528027],\n",
       "       [ 1.07481911,  2.65894123,  1.05988663],\n",
       "       [ 1.11243451, -1.37147359,  1.30572638]])"
      ]
     },
     "execution_count": 88,
     "metadata": {},
     "output_type": "execute_result"
    }
   ],
   "source": [
    "pca = PCA(n_components=3)\n",
    "pca_df = pca.fit_transform(seg_df_transformed)\n",
    "pca_df"
   ]
  },
  {
   "cell_type": "code",
   "execution_count": 89,
   "metadata": {
    "ExecuteTime": {
     "end_time": "2021-07-07T13:35:55.262341Z",
     "start_time": "2021-07-07T13:35:55.250322Z"
    }
   },
   "outputs": [
    {
     "data": {
      "text/plain": [
       "array([0.40707449, 0.77111869, 0.83914604])"
      ]
     },
     "execution_count": 89,
     "metadata": {},
     "output_type": "execute_result"
    }
   ],
   "source": [
    "pca.explained_variance_ratio_.cumsum()"
   ]
  },
  {
   "cell_type": "code",
   "execution_count": 90,
   "metadata": {
    "ExecuteTime": {
     "end_time": "2021-07-07T13:36:19.382293Z",
     "start_time": "2021-07-07T13:36:19.364568Z"
    }
   },
   "outputs": [
    {
     "data": {
      "text/plain": [
       "10127"
      ]
     },
     "execution_count": 90,
     "metadata": {},
     "output_type": "execute_result"
    }
   ],
   "source": []
  },
  {
   "cell_type": "code",
   "execution_count": 78,
   "metadata": {
    "ExecuteTime": {
     "end_time": "2021-07-07T13:31:43.918987Z",
     "start_time": "2021-07-07T13:31:43.901468Z"
    }
   },
   "outputs": [
    {
     "ename": "TypeError",
     "evalue": "scatter() missing 1 required positional argument: 'y'",
     "output_type": "error",
     "traceback": [
      "\u001b[1;31m---------------------------------------------------------------------------\u001b[0m",
      "\u001b[1;31mTypeError\u001b[0m                                 Traceback (most recent call last)",
      "\u001b[1;32m<ipython-input-78-50071f93ad9c>\u001b[0m in \u001b[0;36m<module>\u001b[1;34m\u001b[0m\n\u001b[1;32m----> 1\u001b[1;33m \u001b[0mplt\u001b[0m\u001b[1;33m.\u001b[0m\u001b[0mscatter\u001b[0m\u001b[1;33m(\u001b[0m\u001b[0mpca_df\u001b[0m\u001b[1;33m)\u001b[0m\u001b[1;33m\u001b[0m\u001b[1;33m\u001b[0m\u001b[0m\n\u001b[0m",
      "\u001b[1;31mTypeError\u001b[0m: scatter() missing 1 required positional argument: 'y'"
     ]
    }
   ],
   "source": [
    "plt.scatter(pca_df)"
   ]
  },
  {
   "cell_type": "code",
   "execution_count": null,
   "metadata": {},
   "outputs": [],
   "source": []
  },
  {
   "cell_type": "code",
   "execution_count": null,
   "metadata": {},
   "outputs": [],
   "source": []
  },
  {
   "cell_type": "code",
   "execution_count": 240,
   "metadata": {
    "ExecuteTime": {
     "end_time": "2021-07-06T15:33:14.506264Z",
     "start_time": "2021-07-06T15:33:14.491263Z"
    }
   },
   "outputs": [],
   "source": [
    "# sse = {}\n",
    "# for k in range(1,3):\n",
    "#     print(f'Testing cluster size: {k}')\n",
    "# #     cat_idx = [df.columns.get_loc(i) for i in df.select_dtypes('object').columns]\n",
    "#     kproto = KPrototypes(n_clusters=k, verbose=0, max_iter=10)\n",
    "#     kproto.fit(df, categorical=cat_idx)\n",
    "# #     kproto.cluster_centroids_\n",
    "#     sse[k] = kproto.cluster_centroids_\n",
    "# plt.plot(list(sse.keys()), list(sse.values()), color='gold')\n",
    "# plt.title(f'Elbow Plot', fontsize=20)\n",
    "# plt.grid()\n",
    "# plt.show()"
   ]
  },
  {
   "cell_type": "code",
   "execution_count": 241,
   "metadata": {
    "ExecuteTime": {
     "end_time": "2021-07-06T15:33:17.802789Z",
     "start_time": "2021-07-06T15:33:17.793557Z"
    }
   },
   "outputs": [],
   "source": [
    "# kproto.cluster_centroids_"
   ]
  },
  {
   "cell_type": "code",
   "execution_count": 242,
   "metadata": {
    "ExecuteTime": {
     "end_time": "2021-07-06T15:33:20.457743Z",
     "start_time": "2021-07-06T15:33:20.451170Z"
    }
   },
   "outputs": [],
   "source": [
    "# cluster_df = df.copy()\n",
    "# cluster_df['cluster'] = "
   ]
  },
  {
   "cell_type": "markdown",
   "metadata": {},
   "source": [
    "# INTERPRET "
   ]
  },
  {
   "cell_type": "code",
   "execution_count": null,
   "metadata": {},
   "outputs": [],
   "source": []
  },
  {
   "cell_type": "markdown",
   "metadata": {},
   "source": [
    "# RECOMMENDATION"
   ]
  },
  {
   "cell_type": "markdown",
   "metadata": {},
   "source": [
    "# CONCLUSION"
   ]
  },
  {
   "cell_type": "markdown",
   "metadata": {},
   "source": [
    "# NEXT STEPS"
   ]
  },
  {
   "cell_type": "markdown",
   "metadata": {},
   "source": [
    "# APPENDIX"
   ]
  },
  {
   "cell_type": "code",
   "execution_count": null,
   "metadata": {},
   "outputs": [],
   "source": []
  }
 ],
 "metadata": {
  "kernelspec": {
   "display_name": "Python 3",
   "language": "python",
   "name": "python3"
  },
  "language_info": {
   "codemirror_mode": {
    "name": "ipython",
    "version": 3
   },
   "file_extension": ".py",
   "mimetype": "text/x-python",
   "name": "python",
   "nbconvert_exporter": "python",
   "pygments_lexer": "ipython3",
   "version": "3.8.5"
  },
  "toc": {
   "base_numbering": 1,
   "nav_menu": {},
   "number_sections": true,
   "sideBar": true,
   "skip_h1_title": false,
   "title_cell": "Table of Contents",
   "title_sidebar": "Contents",
   "toc_cell": false,
   "toc_position": {
    "height": "calc(100% - 180px)",
    "left": "10px",
    "top": "150px",
    "width": "281px"
   },
   "toc_section_display": true,
   "toc_window_display": true
  }
 },
 "nbformat": 4,
 "nbformat_minor": 4
}
